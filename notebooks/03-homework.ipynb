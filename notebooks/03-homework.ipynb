{
 "cells": [
  {
   "cell_type": "markdown",
   "id": "e6e7cb50-3a14-409c-a49f-e77a983ae391",
   "metadata": {},
   "source": [
    "# Домашнее задание\n",
    "\n",
    "Работаем с датасетом про дорожные знаки.\n",
    "\n",
    "https://www.kaggle.com/datasets/valentynsichkar/traffic-signs-preprocessed/data\n",
    "\n",
    "В первых двух задачах берем только файл train.pickle и можно подгрузить labels_names.csv\n",
    "\n",
    "Данные можно прочитать через pd.read_pickle\n",
    "\n",
    "## Easy\n",
    "\n",
    "Скачать датасет, обучить логистическую регрессию, измерить качество.\n",
    "\n",
    "Текстом кратко обосновать какую метрику выбираем и почему такую.\n",
    "\n",
    "Какой вид дорожных знаков модель путает чаще всего?\n",
    "\n"
   ]
  },
  {
   "cell_type": "code",
   "execution_count": 1,
   "id": "69778be1-729b-464e-800c-8b2d5dcd7d86",
   "metadata": {},
   "outputs": [],
   "source": [
    "import pandas as pd\n",
    "import numpy as np\n",
    "\n",
    "import seaborn as sns\n",
    "import matplotlib.pyplot as plt\n",
    "\n",
    "from sklearn.linear_model import LogisticRegression\n",
    "\n",
    "import warnings\n",
    "warnings.filterwarnings(action='ignore')"
   ]
  },
  {
   "cell_type": "code",
   "execution_count": 2,
   "id": "acc72fed-3a77-4e90-85b2-67573014ad35",
   "metadata": {},
   "outputs": [],
   "source": [
    "import timeit"
   ]
  },
  {
   "cell_type": "code",
   "execution_count": 3,
   "id": "bdb49ba9-7d73-47df-a65d-d69d6c487760",
   "metadata": {},
   "outputs": [
    {
     "data": {
      "text/plain": [
       "dict_keys(['coords', 'labels', 'features', 'sizes'])"
      ]
     },
     "execution_count": 3,
     "metadata": {},
     "output_type": "execute_result"
    }
   ],
   "source": [
    "data = pd.read_pickle('../data/train.pickle')\n",
    "data.keys()"
   ]
  },
  {
   "cell_type": "code",
   "execution_count": 4,
   "id": "c5d4c714-c3a7-42be-9a83-79e42a0477a6",
   "metadata": {},
   "outputs": [
    {
     "name": "stdout",
     "output_type": "stream",
     "text": [
      "shape of coords - (34799, 4)\n",
      "shape of labels - (34799,)\n",
      "shape of features - (34799, 32, 32, 3)\n",
      "shape of sizes - (34799, 2)\n"
     ]
    }
   ],
   "source": [
    "for key in data.keys():\n",
    "    print(f'shape of {key} - {data[key].shape}')"
   ]
  },
  {
   "cell_type": "markdown",
   "id": "4b141a47-b97f-4838-8d18-5a150bd77cf1",
   "metadata": {},
   "source": [
    "***Посмотрим на одну картинку из features***"
   ]
  },
  {
   "cell_type": "code",
   "execution_count": 5,
   "id": "95066906-4700-4fc1-8c25-9dd025476dc9",
   "metadata": {},
   "outputs": [
    {
     "data": {
      "image/png": "[encoded data removed]",
      "text/plain": [
       "<Figure size 640x480 with 1 Axes>"
      ]
     },
     "metadata": {},
     "output_type": "display_data"
    }
   ],
   "source": [
    "idx = data['features'][10000]\n",
    "plt.imshow(idx)\n",
    "plt.show()"
   ]
  },
  {
   "cell_type": "markdown",
   "id": "0824c16a-c680-40e4-b80d-bbd0c1afd931",
   "metadata": {},
   "source": [
    "## Обучим логистическую регрессию\n",
    "целевая переменная - labels \n",
    "\n",
    "обучаем на features"
   ]
  },
  {
   "cell_type": "code",
   "execution_count": 6,
   "id": "f1ce4c41-ea7b-4ac2-aef9-8093ff4b26aa",
   "metadata": {},
   "outputs": [],
   "source": [
    "X = data['features']\n",
    "y = data['labels']"
   ]
  },
  {
   "cell_type": "code",
   "execution_count": 7,
   "id": "6c0cd7a7-d8ed-40cb-9d40-3a9ceaf69a91",
   "metadata": {},
   "outputs": [],
   "source": [
    "from sklearn.model_selection import train_test_split"
   ]
  },
  {
   "cell_type": "code",
   "execution_count": 8,
   "id": "fff60092-215f-4b4e-a5c5-ef19ff305122",
   "metadata": {},
   "outputs": [],
   "source": [
    "X_train, X_test, y_train, y_test = train_test_split( X, y, test_size=0.2)"
   ]
  },
  {
   "cell_type": "code",
   "execution_count": 9,
   "id": "2aed0d79-5b0e-4e6c-b182-8574c7c64f50",
   "metadata": {},
   "outputs": [],
   "source": [
    "# model = LogisticRegression(max_iter = 1000)\n",
    "# model.fit(X_train, y_train)"
   ]
  },
  {
   "cell_type": "markdown",
   "id": "89740130-a43d-4463-8129-2d5a7e67f60f",
   "metadata": {},
   "source": [
    "***Получаем ошибку ValueError: Found array with dim 4. LogisticRegression expected <= 2***\n",
    "\n",
    "Чтобы исправить, сделаем reshape, чтобы X_train и y_train имели правильную размерность"
   ]
  },
  {
   "cell_type": "code",
   "execution_count": 10,
   "id": "6a83f5d2-2d3a-428a-ba17-c7ad491ce8e5",
   "metadata": {},
   "outputs": [],
   "source": [
    "X_train = X_train.reshape(X_train.shape[0], -1)"
   ]
  },
  {
   "cell_type": "code",
   "execution_count": 11,
   "id": "289804e4-3712-4d13-930e-bedffaf21c13",
   "metadata": {},
   "outputs": [
    {
     "name": "stdout",
     "output_type": "stream",
     "text": [
      "CPU times: user 48min 37s, sys: 2min 45s, total: 51min 23s\n",
      "Wall time: 7min 10s\n"
     ]
    },
    {
     "data": {
      "text/html": [
       "<style>#sk-container-id-1 {color: black;background-color: white;}#sk-container-id-1 pre{padding: 0;}#sk-container-id-1 div.sk-toggleable {background-color: white;}#sk-container-id-1 label.sk-toggleable__label {cursor: pointer;display: block;width: 100%;margin-bottom: 0;padding: 0.3em;box-sizing: border-box;text-align: center;}#sk-container-id-1 label.sk-toggleable__label-arrow:before {content: \"▸\";float: left;margin-right: 0.25em;color: #696969;}#sk-container-id-1 label.sk-toggleable__label-arrow:hover:before {color: black;}#sk-container-id-1 div.sk-estimator:hover label.sk-toggleable__label-arrow:before {color: black;}#sk-container-id-1 div.sk-toggleable__content {max-height: 0;max-width: 0;overflow: hidden;text-align: left;background-color: #f0f8ff;}#sk-container-id-1 div.sk-toggleable__content pre {margin: 0.2em;color: black;border-radius: 0.25em;background-color: #f0f8ff;}#sk-container-id-1 input.sk-toggleable__control:checked~div.sk-toggleable__content {max-height: 200px;max-width: 100%;overflow: auto;}#sk-container-id-1 input.sk-toggleable__control:checked~label.sk-toggleable__label-arrow:before {content: \"▾\";}#sk-container-id-1 div.sk-estimator input.sk-toggleable__control:checked~label.sk-toggleable__label {background-color: #d4ebff;}#sk-container-id-1 div.sk-label input.sk-toggleable__control:checked~label.sk-toggleable__label {background-color: #d4ebff;}#sk-container-id-1 input.sk-hidden--visually {border: 0;clip: rect(1px 1px 1px 1px);clip: rect(1px, 1px, 1px, 1px);height: 1px;margin: -1px;overflow: hidden;padding: 0;position: absolute;width: 1px;}#sk-container-id-1 div.sk-estimator {font-family: monospace;background-color: #f0f8ff;border: 1px dotted black;border-radius: 0.25em;box-sizing: border-box;margin-bottom: 0.5em;}#sk-container-id-1 div.sk-estimator:hover {background-color: #d4ebff;}#sk-container-id-1 div.sk-parallel-item::after {content: \"\";width: 100%;border-bottom: 1px solid gray;flex-grow: 1;}#sk-container-id-1 div.sk-label:hover label.sk-toggleable__label {background-color: #d4ebff;}#sk-container-id-1 div.sk-serial::before {content: \"\";position: absolute;border-left: 1px solid gray;box-sizing: border-box;top: 0;bottom: 0;left: 50%;z-index: 0;}#sk-container-id-1 div.sk-serial {display: flex;flex-direction: column;align-items: center;background-color: white;padding-right: 0.2em;padding-left: 0.2em;position: relative;}#sk-container-id-1 div.sk-item {position: relative;z-index: 1;}#sk-container-id-1 div.sk-parallel {display: flex;align-items: stretch;justify-content: center;background-color: white;position: relative;}#sk-container-id-1 div.sk-item::before, #sk-container-id-1 div.sk-parallel-item::before {content: \"\";position: absolute;border-left: 1px solid gray;box-sizing: border-box;top: 0;bottom: 0;left: 50%;z-index: -1;}#sk-container-id-1 div.sk-parallel-item {display: flex;flex-direction: column;z-index: 1;position: relative;background-color: white;}#sk-container-id-1 div.sk-parallel-item:first-child::after {align-self: flex-end;width: 50%;}#sk-container-id-1 div.sk-parallel-item:last-child::after {align-self: flex-start;width: 50%;}#sk-container-id-1 div.sk-parallel-item:only-child::after {width: 0;}#sk-container-id-1 div.sk-dashed-wrapped {border: 1px dashed gray;margin: 0 0.4em 0.5em 0.4em;box-sizing: border-box;padding-bottom: 0.4em;background-color: white;}#sk-container-id-1 div.sk-label label {font-family: monospace;font-weight: bold;display: inline-block;line-height: 1.2em;}#sk-container-id-1 div.sk-label-container {text-align: center;}#sk-container-id-1 div.sk-container {/* jupyter's `normalize.less` sets `[hidden] { display: none; }` but bootstrap.min.css set `[hidden] { display: none !important; }` so we also need the `!important` here to be able to override the default hidden behavior on the sphinx rendered scikit-learn.org. See: https://github.com/scikit-learn/scikit-learn/issues/21755 */display: inline-block !important;position: relative;}#sk-container-id-1 div.sk-text-repr-fallback {display: none;}</style><div id=\"sk-container-id-1\" class=\"sk-top-container\"><div class=\"sk-text-repr-fallback\"><pre>LogisticRegression(max_iter=1000)</pre><b>In a Jupyter environment, please rerun this cell to show the HTML representation or trust the notebook. <br />On GitHub, the HTML representation is unable to render, please try loading this page with nbviewer.org.</b></div><div class=\"sk-container\" hidden><div class=\"sk-item\"><div class=\"sk-estimator sk-toggleable\"><input class=\"sk-toggleable__control sk-hidden--visually\" id=\"sk-estimator-id-1\" type=\"checkbox\" checked><label for=\"sk-estimator-id-1\" class=\"sk-toggleable__label sk-toggleable__label-arrow\">LogisticRegression</label><div class=\"sk-toggleable__content\"><pre>LogisticRegression(max_iter=1000)</pre></div></div></div></div></div>"
      ],
      "text/plain": [
       "LogisticRegression(max_iter=1000)"
      ]
     },
     "execution_count": 11,
     "metadata": {},
     "output_type": "execute_result"
    }
   ],
   "source": [
    "%%time\n",
    "model = LogisticRegression(max_iter = 1000)\n",
    "model.fit(X_train, y_train)"
   ]
  },
  {
   "cell_type": "code",
   "execution_count": 12,
   "id": "618fbdd1-ee42-47c1-832b-825d6a7c2308",
   "metadata": {},
   "outputs": [],
   "source": [
    "X_test = X_test.reshape(X_test.shape[0], -1)"
   ]
  },
  {
   "cell_type": "code",
   "execution_count": 13,
   "id": "378a06f3-3dea-45b5-8d02-61501b0c6e04",
   "metadata": {},
   "outputs": [],
   "source": [
    "y_pred = model.predict(X_test)"
   ]
  },
  {
   "cell_type": "markdown",
   "id": "40026f50-0e28-494b-843f-b034959320e5",
   "metadata": {},
   "source": [
    "## Измерим качество"
   ]
  },
  {
   "cell_type": "code",
   "execution_count": 14,
   "id": "502f5b8a-777e-4221-ac1d-9af03f3b9e86",
   "metadata": {},
   "outputs": [],
   "source": [
    "from sklearn.metrics import classification_report, confusion_matrix, precision_score"
   ]
  },
  {
   "cell_type": "code",
   "execution_count": 15,
   "id": "d49df78f-09f8-4518-aeb6-ec9f8344ed80",
   "metadata": {},
   "outputs": [
    {
     "name": "stdout",
     "output_type": "stream",
     "text": [
      "Classification Report:\n",
      "              precision    recall  f1-score   support\n",
      "\n",
      "           0       0.91      0.88      0.90        34\n",
      "           1       0.93      0.91      0.92       393\n",
      "           2       0.94      0.92      0.93       387\n",
      "           3       0.88      0.91      0.90       269\n",
      "           4       0.92      0.94      0.93       355\n",
      "           5       0.87      0.91      0.89       296\n",
      "           6       0.97      0.95      0.96        64\n",
      "           7       0.93      0.95      0.94       282\n",
      "           8       0.90      0.96      0.93       218\n",
      "           9       0.97      0.97      0.97       248\n",
      "          10       0.98      0.98      0.98       379\n",
      "          11       0.97      0.96      0.97       222\n",
      "          12       1.00      0.98      0.99       372\n",
      "          13       0.98      0.95      0.97       408\n",
      "          14       0.96      0.97      0.97       134\n",
      "          15       0.95      0.90      0.93        93\n",
      "          16       0.99      0.99      0.99        70\n",
      "          17       0.98      0.96      0.97       240\n",
      "          18       0.95      0.95      0.95       222\n",
      "          19       0.94      0.91      0.92        33\n",
      "          20       0.81      0.85      0.83        61\n",
      "          21       0.91      0.93      0.92        54\n",
      "          22       0.97      0.98      0.97        57\n",
      "          23       0.98      0.93      0.96       105\n",
      "          24       0.98      0.89      0.93        55\n",
      "          25       0.96      0.93      0.95       258\n",
      "          26       0.95      0.92      0.94       119\n",
      "          27       0.94      0.96      0.95        46\n",
      "          28       0.93      0.99      0.96       103\n",
      "          29       0.92      0.86      0.89        51\n",
      "          30       0.90      0.96      0.93        78\n",
      "          31       0.90      0.94      0.92       143\n",
      "          32       0.95      0.97      0.96        38\n",
      "          33       0.98      1.00      0.99       114\n",
      "          34       0.96      0.97      0.97        74\n",
      "          35       1.00      0.98      0.99       210\n",
      "          36       0.98      0.96      0.97        67\n",
      "          37       1.00      0.97      0.99        35\n",
      "          38       0.99      0.99      0.99       378\n",
      "          39       1.00      0.98      0.99        54\n",
      "          40       1.00      1.00      1.00        54\n",
      "          41       0.88      0.96      0.92        47\n",
      "          42       0.95      0.88      0.91        40\n",
      "\n",
      "    accuracy                           0.95      6960\n",
      "   macro avg       0.95      0.95      0.95      6960\n",
      "weighted avg       0.95      0.95      0.95      6960\n",
      "\n"
     ]
    }
   ],
   "source": [
    "print(\"Classification Report:\")\n",
    "print(classification_report(y_test, y_pred))"
   ]
  },
  {
   "cell_type": "markdown",
   "id": "f26ba123-c357-4718-a543-f71091b555ed",
   "metadata": {},
   "source": [
    "### Выбор метрики\n",
    "\n",
    "accuracy в случае несбалансированных классов может быть обманчивой, поэтому я выбрала взвешенное среднее (среднее значение, рассчитанное путем усреднения метрик с учетом весов, которые определяются количеством экземпляров в каждом классе), значит, классы с большим количеством экземпляров имеют более значимое влияние на итоговую метрику, чем классы с меньшим числом экземпляров, что позволяет лучше учесть дисбаланс классов\n",
    "\n"
   ]
  },
  {
   "cell_type": "code",
   "execution_count": 16,
   "id": "4b18d2ad-65cb-4d9d-9969-56f577f9a8ee",
   "metadata": {},
   "outputs": [
    {
     "data": {
      "text/plain": [
       "0.9498996111743586"
      ]
     },
     "execution_count": 16,
     "metadata": {},
     "output_type": "execute_result"
    }
   ],
   "source": [
    "precision_score(y_pred, y_test, average = 'weighted')"
   ]
  },
  {
   "cell_type": "code",
   "execution_count": 17,
   "id": "03b6e767-6f51-4457-b117-95f87f0c6068",
   "metadata": {},
   "outputs": [
    {
     "name": "stdout",
     "output_type": "stream",
     "text": [
      "Confusion Matrix:\n",
      "[[ 30   2   0 ...   0   0   0]\n",
      " [  0 357   7 ...   0   1   0]\n",
      " [  2  11 355 ...   0   0   0]\n",
      " ...\n",
      " [  0   0   0 ...  54   0   0]\n",
      " [  0   0   0 ...   0  45   0]\n",
      " [  0   0   0 ...   0   1  35]]\n"
     ]
    },
    {
     "data": {
      "image/png": "[encoded data removed]",
      "text/plain": [
       "<Figure size 2500x2000 with 2 Axes>"
      ]
     },
     "metadata": {},
     "output_type": "display_data"
    }
   ],
   "source": [
    "print(\"Confusion Matrix:\")\n",
    "conf_matrix = confusion_matrix(y_test, y_pred)\n",
    "print(conf_matrix)\n",
    "\n",
    "plt.figure(figsize = (25, 20))\n",
    "sns.heatmap(conf_matrix)\n",
    "\n",
    "plt.xlabel('Predicted labels')\n",
    "plt.ylabel('True labels')\n",
    "plt.title('Confusion Matrix')\n",
    "plt.show()"
   ]
  },
  {
   "cell_type": "code",
   "execution_count": 18,
   "id": "7b33cc55-f08c-4f84-aa4d-f09e83474c77",
   "metadata": {},
   "outputs": [
    {
     "data": {
      "text/plain": [
       "(43, 43)"
      ]
     },
     "execution_count": 18,
     "metadata": {},
     "output_type": "execute_result"
    }
   ],
   "source": [
    "conf_matrix.shape"
   ]
  },
  {
   "cell_type": "markdown",
   "id": "e5fc9362-2338-431c-ab24-a897ead19276",
   "metadata": {},
   "source": [
    "### Словарь с названиями знаков из классов"
   ]
  },
  {
   "cell_type": "code",
   "execution_count": 19,
   "id": "1b902c31-0337-4c4b-acc7-7c40d73dc0b4",
   "metadata": {},
   "outputs": [],
   "source": [
    "df = pd.read_csv('../data/label_names.csv')"
   ]
  },
  {
   "cell_type": "code",
   "execution_count": 20,
   "id": "f1641a5d-cd13-43c0-9d5a-32fa301d630b",
   "metadata": {},
   "outputs": [
    {
     "data": {
      "text/plain": [
       "{0: 'Speed limit (20km/h)',\n",
       " 1: 'Speed limit (30km/h)',\n",
       " 2: 'Speed limit (50km/h)',\n",
       " 3: 'Speed limit (60km/h)',\n",
       " 4: 'Speed limit (70km/h)',\n",
       " 5: 'Speed limit (80km/h)',\n",
       " 6: 'End of speed limit (80km/h)',\n",
       " 7: 'Speed limit (100km/h)',\n",
       " 8: 'Speed limit (120km/h)',\n",
       " 9: 'No passing',\n",
       " 10: 'No passing for vehicles over 3.5 metric tons',\n",
       " 11: 'Right-of-way at the next intersection',\n",
       " 12: 'Priority road',\n",
       " 13: 'Yield',\n",
       " 14: 'Stop',\n",
       " 15: 'No vehicles',\n",
       " 16: 'Vehicles over 3.5 metric tons prohibited',\n",
       " 17: 'No entry',\n",
       " 18: 'General caution',\n",
       " 19: 'Dangerous curve to the left',\n",
       " 20: 'Dangerous curve to the right',\n",
       " 21: 'Double curve',\n",
       " 22: 'Bumpy road',\n",
       " 23: 'Slippery road',\n",
       " 24: 'Road narrows on the right',\n",
       " 25: 'Road work',\n",
       " 26: 'Traffic signals',\n",
       " 27: 'Pedestrians',\n",
       " 28: 'Children crossing',\n",
       " 29: 'Bicycles crossing',\n",
       " 30: 'Beware of ice/snow',\n",
       " 31: 'Wild animals crossing',\n",
       " 32: 'End of all speed and passing limits',\n",
       " 33: 'Turn right ahead',\n",
       " 34: 'Turn left ahead',\n",
       " 35: 'Ahead only',\n",
       " 36: 'Go straight or right',\n",
       " 37: 'Go straight or left',\n",
       " 38: 'Keep right',\n",
       " 39: 'Keep left',\n",
       " 40: 'Roundabout mandatory',\n",
       " 41: 'End of no passing',\n",
       " 42: 'End of no passing by vehicles over 3.5 metric tons'}"
      ]
     },
     "execution_count": 20,
     "metadata": {},
     "output_type": "execute_result"
    }
   ],
   "source": [
    "signs_dict = df.set_index('ClassId').to_dict()['SignName']\n",
    "signs_dict"
   ]
  },
  {
   "cell_type": "markdown",
   "id": "0f984bae-ef4d-4148-a83c-a2ea55fbd1d8",
   "metadata": {},
   "source": [
    "## Найдем топ 3 самых путающихся знаков"
   ]
  },
  {
   "cell_type": "code",
   "execution_count": 21,
   "id": "32799b88-c181-448a-9675-00a2dfc2b60e",
   "metadata": {},
   "outputs": [],
   "source": [
    "max_error_classes = np.array([-1, -1, -1])\n",
    "true_classes = np.array([-1, -1, -1])\n",
    "false_classes = np.array([-1, -1, -1])\n",
    "\n",
    "for i in range(43):\n",
    "    for j in range(43):\n",
    "        if i != j and conf_matrix[i][j] > max_error_classes[0]:\n",
    "            max_error_classes[2] = max_error_classes[1]\n",
    "            max_error_classes[1] = max_error_classes[0]\n",
    "            max_error_classes[0] = conf_matrix[i][j]\n",
    "            true_classes[2] = true_classes[1]\n",
    "            true_classes[1] = true_classes[0]\n",
    "            true_classes[0] = i\n",
    "            false_classes[2] = false_classes[1]\n",
    "            false_classes[1] = false_classes[0]\n",
    "            false_classes[0] = j\n",
    "        elif i != j and conf_matrix[i][j] > max_error_classes[1]:\n",
    "            max_error_classes[2] = max_error_classes[1]\n",
    "            max_error_classes[1] = conf_matrix[i][j]\n",
    "            true_classes[2] = true_classes[1]\n",
    "            true_classes[1] = i\n",
    "            false_classes[2] = false_classes[1]\n",
    "            false_classes[1] = j\n",
    "        elif i != j and conf_matrix[i][j] > max_error_classes[2]:\n",
    "            max_error_classes[2] = conf_matrix[i][j]\n",
    "            true_classes[2] = i\n",
    "            false_classes[2] = j"
   ]
  },
  {
   "cell_type": "code",
   "execution_count": 22,
   "id": "e5c69eaf-c13a-4306-be4a-9ea23086403d",
   "metadata": {},
   "outputs": [
    {
     "name": "stdout",
     "output_type": "stream",
     "text": [
      "13 знаков из класса Speed limit (80km/h) были приняты за знаки из класса Speed limit (60km/h)\n",
      "12 знаков из класса Speed limit (60km/h) были приняты за знаки из класса Speed limit (80km/h)\n",
      "11 знаков из класса Speed limit (30km/h) были приняты за знаки из класса Speed limit (70km/h)\n"
     ]
    }
   ],
   "source": [
    "for i in range (3):\n",
    "    print(f'{ max_error_classes[i]} знаков из класса {signs_dict[true_classes[i]]} были приняты за знаки из класса {signs_dict[false_classes[i]]}')"
   ]
  },
  {
   "cell_type": "markdown",
   "id": "fc9cd941-3ee5-4633-9391-f4f6455e12cb",
   "metadata": {},
   "source": [
    "***Можно сделать вывод, что модель путает знаки скоростного ограничения чаще всего***"
   ]
  },
  {
   "cell_type": "markdown",
   "id": "6d58435f-7153-4bad-9876-ed16f009aaf1",
   "metadata": {},
   "source": [
    "## Medium\n",
    "\n",
    "Обучить и сравнить между собой:\n",
    "\n",
    "- логистическая регрессия\n",
    "- kNN\n",
    "- НБК\n",
    "- SVM (попробовать 3 разных ядра)\n",
    "  \n",
    "Какая модель отработала лучше, а какая хуже всех?\n",
    "\n",
    "Проинтерпретируйте почему худшая модель именно эта."
   ]
  },
  {
   "cell_type": "code",
   "execution_count": 23,
   "id": "57750318-337d-4a66-b5f1-0ef21a1d5422",
   "metadata": {},
   "outputs": [],
   "source": [
    "from sklearn.neighbors import KNeighborsClassifier\n",
    "from sklearn.naive_bayes import MultinomialNB\n",
    "from sklearn.svm import SVC\n",
    "\n",
    "knn_model = KNeighborsClassifier()\n",
    "\n",
    "nb_model = MultinomialNB()\n",
    "\n",
    "svm_linear_model = SVC(kernel='linear')\n",
    "\n",
    "svm_poly_model = SVC(kernel='poly', max_iter=300)\n",
    "\n",
    "svm_rbf_model = SVC(kernel='rbf', max_iter=300)"
   ]
  },
  {
   "cell_type": "code",
   "execution_count": 24,
   "id": "e5644bdd-2ea9-4dc3-b7dd-fa17d0930527",
   "metadata": {},
   "outputs": [],
   "source": [
    "X = X.reshape(X.shape[0], -1)"
   ]
  },
  {
   "cell_type": "code",
   "execution_count": 25,
   "id": "df195dfc-c515-4e90-ae31-c67e3e035121",
   "metadata": {},
   "outputs": [
    {
     "data": {
      "text/html": [
       "<style>#sk-container-id-2 {color: black;background-color: white;}#sk-container-id-2 pre{padding: 0;}#sk-container-id-2 div.sk-toggleable {background-color: white;}#sk-container-id-2 label.sk-toggleable__label {cursor: pointer;display: block;width: 100%;margin-bottom: 0;padding: 0.3em;box-sizing: border-box;text-align: center;}#sk-container-id-2 label.sk-toggleable__label-arrow:before {content: \"▸\";float: left;margin-right: 0.25em;color: #696969;}#sk-container-id-2 label.sk-toggleable__label-arrow:hover:before {color: black;}#sk-container-id-2 div.sk-estimator:hover label.sk-toggleable__label-arrow:before {color: black;}#sk-container-id-2 div.sk-toggleable__content {max-height: 0;max-width: 0;overflow: hidden;text-align: left;background-color: #f0f8ff;}#sk-container-id-2 div.sk-toggleable__content pre {margin: 0.2em;color: black;border-radius: 0.25em;background-color: #f0f8ff;}#sk-container-id-2 input.sk-toggleable__control:checked~div.sk-toggleable__content {max-height: 200px;max-width: 100%;overflow: auto;}#sk-container-id-2 input.sk-toggleable__control:checked~label.sk-toggleable__label-arrow:before {content: \"▾\";}#sk-container-id-2 div.sk-estimator input.sk-toggleable__control:checked~label.sk-toggleable__label {background-color: #d4ebff;}#sk-container-id-2 div.sk-label input.sk-toggleable__control:checked~label.sk-toggleable__label {background-color: #d4ebff;}#sk-container-id-2 input.sk-hidden--visually {border: 0;clip: rect(1px 1px 1px 1px);clip: rect(1px, 1px, 1px, 1px);height: 1px;margin: -1px;overflow: hidden;padding: 0;position: absolute;width: 1px;}#sk-container-id-2 div.sk-estimator {font-family: monospace;background-color: #f0f8ff;border: 1px dotted black;border-radius: 0.25em;box-sizing: border-box;margin-bottom: 0.5em;}#sk-container-id-2 div.sk-estimator:hover {background-color: #d4ebff;}#sk-container-id-2 div.sk-parallel-item::after {content: \"\";width: 100%;border-bottom: 1px solid gray;flex-grow: 1;}#sk-container-id-2 div.sk-label:hover label.sk-toggleable__label {background-color: #d4ebff;}#sk-container-id-2 div.sk-serial::before {content: \"\";position: absolute;border-left: 1px solid gray;box-sizing: border-box;top: 0;bottom: 0;left: 50%;z-index: 0;}#sk-container-id-2 div.sk-serial {display: flex;flex-direction: column;align-items: center;background-color: white;padding-right: 0.2em;padding-left: 0.2em;position: relative;}#sk-container-id-2 div.sk-item {position: relative;z-index: 1;}#sk-container-id-2 div.sk-parallel {display: flex;align-items: stretch;justify-content: center;background-color: white;position: relative;}#sk-container-id-2 div.sk-item::before, #sk-container-id-2 div.sk-parallel-item::before {content: \"\";position: absolute;border-left: 1px solid gray;box-sizing: border-box;top: 0;bottom: 0;left: 50%;z-index: -1;}#sk-container-id-2 div.sk-parallel-item {display: flex;flex-direction: column;z-index: 1;position: relative;background-color: white;}#sk-container-id-2 div.sk-parallel-item:first-child::after {align-self: flex-end;width: 50%;}#sk-container-id-2 div.sk-parallel-item:last-child::after {align-self: flex-start;width: 50%;}#sk-container-id-2 div.sk-parallel-item:only-child::after {width: 0;}#sk-container-id-2 div.sk-dashed-wrapped {border: 1px dashed gray;margin: 0 0.4em 0.5em 0.4em;box-sizing: border-box;padding-bottom: 0.4em;background-color: white;}#sk-container-id-2 div.sk-label label {font-family: monospace;font-weight: bold;display: inline-block;line-height: 1.2em;}#sk-container-id-2 div.sk-label-container {text-align: center;}#sk-container-id-2 div.sk-container {/* jupyter's `normalize.less` sets `[hidden] { display: none; }` but bootstrap.min.css set `[hidden] { display: none !important; }` so we also need the `!important` here to be able to override the default hidden behavior on the sphinx rendered scikit-learn.org. See: https://github.com/scikit-learn/scikit-learn/issues/21755 */display: inline-block !important;position: relative;}#sk-container-id-2 div.sk-text-repr-fallback {display: none;}</style><div id=\"sk-container-id-2\" class=\"sk-top-container\"><div class=\"sk-text-repr-fallback\"><pre>KNeighborsClassifier()</pre><b>In a Jupyter environment, please rerun this cell to show the HTML representation or trust the notebook. <br />On GitHub, the HTML representation is unable to render, please try loading this page with nbviewer.org.</b></div><div class=\"sk-container\" hidden><div class=\"sk-item\"><div class=\"sk-estimator sk-toggleable\"><input class=\"sk-toggleable__control sk-hidden--visually\" id=\"sk-estimator-id-2\" type=\"checkbox\" checked><label for=\"sk-estimator-id-2\" class=\"sk-toggleable__label sk-toggleable__label-arrow\">KNeighborsClassifier</label><div class=\"sk-toggleable__content\"><pre>KNeighborsClassifier()</pre></div></div></div></div></div>"
      ],
      "text/plain": [
       "KNeighborsClassifier()"
      ]
     },
     "execution_count": 25,
     "metadata": {},
     "output_type": "execute_result"
    }
   ],
   "source": [
    "X_train, X_test, y_train, y_test = train_test_split( X, y, test_size=0.2)\n",
    "knn_model.fit(X_train, y_train)"
   ]
  },
  {
   "cell_type": "code",
   "execution_count": 26,
   "id": "32987da3-e57a-44cd-a9a0-5eb22b21fe5d",
   "metadata": {},
   "outputs": [],
   "source": [
    "y_pred = knn_model.predict(X_test)"
   ]
  },
  {
   "cell_type": "code",
   "execution_count": 27,
   "id": "7aa1b2e7-6914-4d48-b615-d1dff0ba615b",
   "metadata": {},
   "outputs": [],
   "source": [
    "from sklearn.metrics import accuracy_score"
   ]
  },
  {
   "cell_type": "code",
   "execution_count": 28,
   "id": "9e79ff41-3275-4412-baee-e2b7c684b27e",
   "metadata": {},
   "outputs": [],
   "source": [
    "weighted_average = precision_score(y_pred, y_test, average = 'weighted')"
   ]
  },
  {
   "cell_type": "code",
   "execution_count": 29,
   "id": "6dbbfff1-eb7f-4fc7-b6ea-4105141c0c87",
   "metadata": {},
   "outputs": [
    {
     "name": "stdout",
     "output_type": "stream",
     "text": [
      "knn Weighted Average - 0.8803860537432342, accuracy - 0.8778735632183908\n"
     ]
    }
   ],
   "source": [
    "print(f'knn Weighted Average - {weighted_average}, accuracy - {accuracy_score(y_pred, y_test)}')"
   ]
  },
  {
   "cell_type": "code",
   "execution_count": 30,
   "id": "875c5174-03b4-41f4-a6b3-a9d427485149",
   "metadata": {},
   "outputs": [],
   "source": [
    "X_train, X_test, y_train, y_test = train_test_split( X, y, test_size=0.2)\n",
    "nb_model.fit(X_train, y_train)\n",
    "y_pred = nb_model.predict(X_test)"
   ]
  },
  {
   "cell_type": "code",
   "execution_count": 31,
   "id": "05dc8cd2-dc1d-453b-b763-85c696e39684",
   "metadata": {},
   "outputs": [
    {
     "name": "stdout",
     "output_type": "stream",
     "text": [
      "naive_bayes Weighted Average - 0.40500130252177413, accuracy - 0.3146551724137931\n"
     ]
    }
   ],
   "source": [
    "weighted_average_nb = precision_score(y_pred, y_test, average = 'weighted')\n",
    "print(f'naive_bayes Weighted Average - {weighted_average_nb}, accuracy - {accuracy_score(y_pred, y_test)}')"
   ]
  },
  {
   "cell_type": "code",
   "execution_count": 32,
   "id": "3ef330d5-eb7f-44ef-8578-2f1ab4a2ec10",
   "metadata": {},
   "outputs": [],
   "source": [
    "X_train, X_test, y_train, y_test = train_test_split( X, y, test_size=0.2)\n",
    "svm_linear_model.fit(X_train, y_train)\n",
    "y_pred = svm_linear_model.predict(X_test)"
   ]
  },
  {
   "cell_type": "code",
   "execution_count": 33,
   "id": "efff990d-ec81-4861-95d4-e9b59f5aae9a",
   "metadata": {},
   "outputs": [
    {
     "name": "stdout",
     "output_type": "stream",
     "text": [
      "SVC with linear kerner Weighted Average - 0.9572945506711433, accuracy - 0.9566091954022988\n"
     ]
    }
   ],
   "source": [
    "weighted_average_svm_linear = precision_score(y_pred, y_test, average = 'weighted')\n",
    "print(f'SVC with linear kerner Weighted Average - {weighted_average_svm_linear}, accuracy - {accuracy_score(y_pred, y_test)}')"
   ]
  },
  {
   "cell_type": "code",
   "execution_count": 34,
   "id": "926454a3-1207-4450-9dc1-e047b9ea6e44",
   "metadata": {},
   "outputs": [
    {
     "name": "stdout",
     "output_type": "stream",
     "text": [
      "CPU times: user 12min 47s, sys: 5.53 s, total: 12min 52s\n",
      "Wall time: 12min 57s\n"
     ]
    }
   ],
   "source": [
    "%%time\n",
    "X_train, X_test, y_train, y_test = train_test_split( X, y, test_size=0.2)\n",
    "svm_poly_model.fit(X_train, y_train)\n",
    "y_pred = svm_poly_model.predict(X_test)"
   ]
  },
  {
   "cell_type": "code",
   "execution_count": 35,
   "id": "e8cc5c80-aca6-4bf1-8d22-3ea7cfe1f37d",
   "metadata": {},
   "outputs": [
    {
     "name": "stdout",
     "output_type": "stream",
     "text": [
      "SVC with poly kerner Weighted Average - 0.723474430823859, accuracy - 0.5169540229885058\n"
     ]
    }
   ],
   "source": [
    "weighted_average_svm_poly = precision_score(y_pred, y_test, average = 'weighted')\n",
    "print(f'SVC with poly kerner Weighted Average - {weighted_average_svm_poly}, accuracy - {accuracy_score(y_pred, y_test)}')"
   ]
  },
  {
   "cell_type": "code",
   "execution_count": 36,
   "id": "93e27167-b48b-4e8d-912b-7a4609d50b14",
   "metadata": {},
   "outputs": [
    {
     "name": "stdout",
     "output_type": "stream",
     "text": [
      "CPU times: user 16min 31s, sys: 6.58 s, total: 16min 37s\n",
      "Wall time: 16min 41s\n"
     ]
    }
   ],
   "source": [
    "%%time\n",
    "X_train, X_test, y_train, y_test = train_test_split( X, y, test_size=0.2)\n",
    "svm_rbf_model.fit(X_train, y_train)\n",
    "y_pred = svm_rbf_model.predict(X_test)"
   ]
  },
  {
   "cell_type": "code",
   "execution_count": 37,
   "id": "42b5deaf-52f1-4fef-a2e7-8a06cae74cca",
   "metadata": {},
   "outputs": [
    {
     "name": "stdout",
     "output_type": "stream",
     "text": [
      "SVC with rbf kerner Weighted Average - 0.8030534358597182, accuracy - 0.7593390804597702\n"
     ]
    }
   ],
   "source": [
    "weighted_average_svm_rbf = precision_score(y_pred, y_test, average = 'weighted')\n",
    "print(f'SVC with rbf kerner Weighted Average - {weighted_average_svm_rbf}, accuracy - {accuracy_score(y_pred, y_test)}')"
   ]
  },
  {
   "cell_type": "markdown",
   "id": "ccc3e24e-bd5a-4fda-938a-e4dfbad57ba3",
   "metadata": {},
   "source": [
    "**Лучше всех отработала SVC with linear kerner, почти так же Logistic Regression**"
   ]
  },
  {
   "cell_type": "markdown",
   "id": "4c8fa665-54ec-4be9-9b9f-77979d902bd8",
   "metadata": {},
   "source": [
    "**Можно заметить, что у модели НБК самые плохие показатели, так как MultinomialNB предполагает, что признаки независимы друг от друга**"
   ]
  },
  {
   "cell_type": "code",
   "execution_count": null,
   "id": "89e32354-c106-4dbc-b7b2-6925c9878747",
   "metadata": {},
   "outputs": [],
   "source": []
  }
 ],
 "metadata": {
  "kernelspec": {
   "display_name": "Python 3 (ipykernel)",
   "language": "python",
   "name": "python3"
  },
  "language_info": {
   "codemirror_mode": {
    "name": "ipython",
    "version": 3
   },
   "file_extension": ".py",
   "mimetype": "text/x-python",
   "name": "python",
   "nbconvert_exporter": "python",
   "pygments_lexer": "ipython3",
   "version": "3.11.7"
  }
 },
 "nbformat": 4,
 "nbformat_minor": 5
}
