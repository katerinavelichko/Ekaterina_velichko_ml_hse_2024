{
 "cells": [
  {
   "cell_type": "markdown",
   "id": "fa305098-fe45-4061-bbfb-8df26c1da8ec",
   "metadata": {},
   "source": [
    "# ДЗ 8\n",
    "\n",
    "В 2023 году проходил контест от Телеграма. Нужно было определять язык программирования по сниппету(*)\n",
    "\n",
    "https://contest.com/docs/ML-Competition-2023\n",
    "\n",
    "В этой домашке нужно будет решить упрощенную версию этого контеста.\n",
    "\n",
    "Ограничения:\n",
    "\n",
    "- Не более 4096 символов на входе\n",
    "- Не гарантируется, что код на входе синтаксически корректный\n",
    "- Не гарантируется, что на входе код\n",
    "\n",
    "Можно использовать любые модели и любые данные.\n",
    "\n",
    "Важно текстом описать ход решения - как собирали датасет, как процессили данные, какие метрики, какие модели выбрали и почему.\n",
    "\n",
    "Существует небольшой отложенный датасет, на котором можно будет проверить свое решение после дедлайна.\n",
    "\n",
    "**Совет: если будете скачивать чатики через скрипты, лучше заведите отдельный аккаунт для этого.**\n",
    "\n",
    "## Easy\n",
    "\n",
    "Учимся отличать код на Python, C++ и JavaScript от обычного текста на английском языке (Other).\n",
    "\n",
    "Собираем датасет, учим модели, собираем все в скрипт\n",
    "\n",
    "Должно работать так:\n",
    "\n",
    "```\n",
    "$ python main.py python_code.txt\n",
    "Python\n",
    "```\n",
    "\n",
    "Оставить по 3 примера на каждый язык, на которых проверяете решение. Текстовые файлики приложить в репозиторий.\n",
    "\n"
   ]
  },
  {
   "cell_type": "code",
   "execution_count": null,
   "id": "6cb5375a-a310-4005-bde7-a85cdc130683",
   "metadata": {
    "pycharm": {
     "is_executing": true
    }
   },
   "outputs": [],
   "source": []
  },
  {
   "cell_type": "code",
   "execution_count": null,
   "id": "636f9678-2cc4-4e6e-9d94-2596d3865cde",
   "metadata": {},
   "outputs": [],
   "source": []
  },
  {
   "cell_type": "markdown",
   "source": [
    "Мы будем использовать метод опорных векторов для классификации, так как он хорошо подходит для задач классификации текста и можем использовать классические метрики аccuracy, F1 и матрицу ошибок"
   ],
   "metadata": {
    "collapsed": false
   }
  },
  {
   "cell_type": "markdown",
   "source": [
    "### Скачать данные\n",
    "скачаем данные из чатов по программированию через ```export chat history``` в формате json\n",
    "\n",
    "- [Python](https://t.me/pythonhub_chat)\n",
    "- [C++](https://t.me/ProCxx)\n",
    "- [JavaScript](https://t.me/js_ru)\n",
    "\n",
    "\n",
    "далее преобразуем это в папки с файлами меньшего размера (файл ```json_read.py```), потому что исходные файлы очень большие\n",
    "\n"
   ],
   "metadata": {
    "collapsed": false
   }
  },
  {
   "cell_type": "code",
   "execution_count": 1,
   "outputs": [],
   "source": [
    "import os\n",
    "import json\n",
    "import pandas as pd\n",
    "import numpy as np"
   ],
   "metadata": {
    "collapsed": false
   }
  },
  {
   "cell_type": "code",
   "execution_count": 2,
   "outputs": [],
   "source": [
    "def extract_info_from_json(json_data, lang):\n",
    "    text = ''\n",
    "    code = ''\n",
    "    language = 'text'\n",
    "    is_code = 0\n",
    "    is_text = 0\n",
    "\n",
    "    if 'text' in json_data:\n",
    "        for item in json_data['text_entities']:\n",
    "            if isinstance(item, dict) and 'language' in item and (item['language'] == lang or item['language'] == \"\"):\n",
    "                code += item['text']\n",
    "                language = lang\n",
    "                is_code = 1\n",
    "            elif isinstance(item, dict) and 'type' in item and item['type'] == 'plain':\n",
    "                if item['text'] != '':\n",
    "                    is_text = 1\n",
    "                text += item['text']\n",
    "    return text.strip() if is_text else np.nan, code.strip() if is_code else np.nan, is_code, language\n"
   ],
   "metadata": {
    "collapsed": false
   }
  },
  {
   "cell_type": "code",
   "execution_count": 3,
   "outputs": [
    {
     "data": {
      "text/plain": "                                                    text code  is_code  \\\n0                                                    NaN  NaN        0   \n1                                                    NaN  NaN        0   \n2                                                    NaN  NaN        0   \n3      Программа с открытием множества синих окон на ...  NaN        0   \n4                                                    NaN  NaN        0   \n...                                                  ...  ...      ...   \n57058                               СЭАЭАЭАХАХА ФАНААААТ  NaN        0   \n57059                                             а баха  NaN        0   \n57060                                                NaN  NaN        0   \n57061                         , в ЛС пожалуйста 🙏🙏🙏🙏🙏🙏🙏🙏  NaN        0   \n57062                        концерт для оркестра значит  NaN        0   \n\n      language  \n0         text  \n1         text  \n2         text  \n3         text  \n4         text  \n...        ...  \n57058     text  \n57059     text  \n57060     text  \n57061     text  \n57062     text  \n\n[57063 rows x 4 columns]",
      "text/html": "<div>\n<style scoped>\n    .dataframe tbody tr th:only-of-type {\n        vertical-align: middle;\n    }\n\n    .dataframe tbody tr th {\n        vertical-align: top;\n    }\n\n    .dataframe thead th {\n        text-align: right;\n    }\n</style>\n<table border=\"1\" class=\"dataframe\">\n  <thead>\n    <tr style=\"text-align: right;\">\n      <th></th>\n      <th>text</th>\n      <th>code</th>\n      <th>is_code</th>\n      <th>language</th>\n    </tr>\n  </thead>\n  <tbody>\n    <tr>\n      <th>0</th>\n      <td>NaN</td>\n      <td>NaN</td>\n      <td>0</td>\n      <td>text</td>\n    </tr>\n    <tr>\n      <th>1</th>\n      <td>NaN</td>\n      <td>NaN</td>\n      <td>0</td>\n      <td>text</td>\n    </tr>\n    <tr>\n      <th>2</th>\n      <td>NaN</td>\n      <td>NaN</td>\n      <td>0</td>\n      <td>text</td>\n    </tr>\n    <tr>\n      <th>3</th>\n      <td>Программа с открытием множества синих окон на ...</td>\n      <td>NaN</td>\n      <td>0</td>\n      <td>text</td>\n    </tr>\n    <tr>\n      <th>4</th>\n      <td>NaN</td>\n      <td>NaN</td>\n      <td>0</td>\n      <td>text</td>\n    </tr>\n    <tr>\n      <th>...</th>\n      <td>...</td>\n      <td>...</td>\n      <td>...</td>\n      <td>...</td>\n    </tr>\n    <tr>\n      <th>57058</th>\n      <td>СЭАЭАЭАХАХА ФАНААААТ</td>\n      <td>NaN</td>\n      <td>0</td>\n      <td>text</td>\n    </tr>\n    <tr>\n      <th>57059</th>\n      <td>а баха</td>\n      <td>NaN</td>\n      <td>0</td>\n      <td>text</td>\n    </tr>\n    <tr>\n      <th>57060</th>\n      <td>NaN</td>\n      <td>NaN</td>\n      <td>0</td>\n      <td>text</td>\n    </tr>\n    <tr>\n      <th>57061</th>\n      <td>, в ЛС пожалуйста 🙏🙏🙏🙏🙏🙏🙏🙏</td>\n      <td>NaN</td>\n      <td>0</td>\n      <td>text</td>\n    </tr>\n    <tr>\n      <th>57062</th>\n      <td>концерт для оркестра значит</td>\n      <td>NaN</td>\n      <td>0</td>\n      <td>text</td>\n    </tr>\n  </tbody>\n</table>\n<p>57063 rows × 4 columns</p>\n</div>"
     },
     "execution_count": 3,
     "metadata": {},
     "output_type": "execute_result"
    }
   ],
   "source": [
    "\n",
    "folder_path = 'output_messages_python/python_0'\n",
    "\n",
    "dfs = []\n",
    "\n",
    "for i in range(0, 29):\n",
    "    folder_path = f'output_messages_python/python_{i}'\n",
    "    for file_name in os.listdir(folder_path):\n",
    "        if file_name.endswith('.json'):\n",
    "            file_path = os.path.join(folder_path, file_name)\n",
    "            with open(file_path, 'r', encoding='utf-8') as f:\n",
    "                data = json.load(f)\n",
    "            df_rows = []\n",
    "            for message_data in data:\n",
    "                text, code, is_code, language = extract_info_from_json(message_data, 'python')\n",
    "                df_rows.append([text, code, is_code, language])\n",
    "\n",
    "            df = pd.DataFrame(df_rows, columns=['text', 'code', 'is_code', 'language'])\n",
    "            dfs.append(df)\n",
    "\n",
    "final_df_python = pd.concat(dfs, ignore_index=True)\n",
    "\n",
    "final_df_python\n"
   ],
   "metadata": {
    "collapsed": false
   }
  },
  {
   "cell_type": "code",
   "execution_count": 4,
   "outputs": [
    {
     "data": {
      "text/plain": "                                                    text  \\\n8                                              Код карт.   \n11                                            Код часов:   \n145    Есть следующий отрывок кода:\\n\\n\\n\\n\\nПроблема...   \n677                                                  NaN   \n681    Разница между циклами  и  ?\\n\\nВ Python, циклы...   \n...                                                  ...   \n56884                                                NaN   \n56899                                                NaN   \n56943                                                      \n56946                                                NaN   \n56976                                                NaN   \n\n                                                    code  is_code language  \n8      from tkinter import *\\nimport tkintermapview\\n...        1   python  \n11     import tkinter as tk\\n\\nimport time\\n\\n\\nclass...        1   python  \n145    WORK_MIN = 0.1\\nSHORT_BREAK_MIN = 0.1\\nLONG_BR...        1   python  \n677    import random\\n\\nsmileys = ['😀', '💀', '🥰', '🤨'...        1   python  \n681    my_list = [1, 2, 3, 4, 5]\\nfor i in my_list:\\n...        1   python  \n...                                                  ...      ...      ...  \n56884  class MyView(discord.ui.View): \\n    def __ini...        1   python  \n56899  import discord \\n \\nbot = discord.Bot() # Crea...        1   python  \n56943  import discord\\nfrom discord.ext import comman...        1   python  \n56946                          pip install -U discord.py        1   python  \n56976  import discord\\nfrom discord.ext import comman...        1   python  \n\n[592 rows x 4 columns]",
      "text/html": "<div>\n<style scoped>\n    .dataframe tbody tr th:only-of-type {\n        vertical-align: middle;\n    }\n\n    .dataframe tbody tr th {\n        vertical-align: top;\n    }\n\n    .dataframe thead th {\n        text-align: right;\n    }\n</style>\n<table border=\"1\" class=\"dataframe\">\n  <thead>\n    <tr style=\"text-align: right;\">\n      <th></th>\n      <th>text</th>\n      <th>code</th>\n      <th>is_code</th>\n      <th>language</th>\n    </tr>\n  </thead>\n  <tbody>\n    <tr>\n      <th>8</th>\n      <td>Код карт.</td>\n      <td>from tkinter import *\\nimport tkintermapview\\n...</td>\n      <td>1</td>\n      <td>python</td>\n    </tr>\n    <tr>\n      <th>11</th>\n      <td>Код часов:</td>\n      <td>import tkinter as tk\\n\\nimport time\\n\\n\\nclass...</td>\n      <td>1</td>\n      <td>python</td>\n    </tr>\n    <tr>\n      <th>145</th>\n      <td>Есть следующий отрывок кода:\\n\\n\\n\\n\\nПроблема...</td>\n      <td>WORK_MIN = 0.1\\nSHORT_BREAK_MIN = 0.1\\nLONG_BR...</td>\n      <td>1</td>\n      <td>python</td>\n    </tr>\n    <tr>\n      <th>677</th>\n      <td>NaN</td>\n      <td>import random\\n\\nsmileys = ['😀', '💀', '🥰', '🤨'...</td>\n      <td>1</td>\n      <td>python</td>\n    </tr>\n    <tr>\n      <th>681</th>\n      <td>Разница между циклами  и  ?\\n\\nВ Python, циклы...</td>\n      <td>my_list = [1, 2, 3, 4, 5]\\nfor i in my_list:\\n...</td>\n      <td>1</td>\n      <td>python</td>\n    </tr>\n    <tr>\n      <th>...</th>\n      <td>...</td>\n      <td>...</td>\n      <td>...</td>\n      <td>...</td>\n    </tr>\n    <tr>\n      <th>56884</th>\n      <td>NaN</td>\n      <td>class MyView(discord.ui.View): \\n    def __ini...</td>\n      <td>1</td>\n      <td>python</td>\n    </tr>\n    <tr>\n      <th>56899</th>\n      <td>NaN</td>\n      <td>import discord \\n \\nbot = discord.Bot() # Crea...</td>\n      <td>1</td>\n      <td>python</td>\n    </tr>\n    <tr>\n      <th>56943</th>\n      <td></td>\n      <td>import discord\\nfrom discord.ext import comman...</td>\n      <td>1</td>\n      <td>python</td>\n    </tr>\n    <tr>\n      <th>56946</th>\n      <td>NaN</td>\n      <td>pip install -U discord.py</td>\n      <td>1</td>\n      <td>python</td>\n    </tr>\n    <tr>\n      <th>56976</th>\n      <td>NaN</td>\n      <td>import discord\\nfrom discord.ext import comman...</td>\n      <td>1</td>\n      <td>python</td>\n    </tr>\n  </tbody>\n</table>\n<p>592 rows × 4 columns</p>\n</div>"
     },
     "execution_count": 4,
     "metadata": {},
     "output_type": "execute_result"
    }
   ],
   "source": [
    "final_df_python[final_df_python['is_code'] == 1]"
   ],
   "metadata": {
    "collapsed": false
   }
  },
  {
   "cell_type": "code",
   "execution_count": 5,
   "outputs": [
    {
     "data": {
      "text/plain": "                                                     text code  is_code  \\\n0                                                     NaN  NaN        0   \n1       Чат по вопросам о языках C, C++. Также сюда бу...  NaN        0   \n2                                                     NaN  NaN        0   \n3                                                     NaN  NaN        0   \n4       Прекрасно, буду ждать. Всегда интересно почита...  NaN        0   \n...                                                   ...  ...      ...   \n483198          Возможно и сработает. Надо бы попробовать  NaN        0   \n483199                    Так есть же асинхронные режимы.  NaN        0   \n483200  на обычном линуксе ядра так с 4.5 есть process...  NaN        0   \n483201  скорее всего вам правильно подсказали насчет D...  NaN        0   \n483202  Без co_return это не корутина) хотя оно и не с...  NaN        0   \n\n       language  \n0          text  \n1          text  \n2          text  \n3          text  \n4          text  \n...         ...  \n483198     text  \n483199     text  \n483200     text  \n483201     text  \n483202     text  \n\n[483203 rows x 4 columns]",
      "text/html": "<div>\n<style scoped>\n    .dataframe tbody tr th:only-of-type {\n        vertical-align: middle;\n    }\n\n    .dataframe tbody tr th {\n        vertical-align: top;\n    }\n\n    .dataframe thead th {\n        text-align: right;\n    }\n</style>\n<table border=\"1\" class=\"dataframe\">\n  <thead>\n    <tr style=\"text-align: right;\">\n      <th></th>\n      <th>text</th>\n      <th>code</th>\n      <th>is_code</th>\n      <th>language</th>\n    </tr>\n  </thead>\n  <tbody>\n    <tr>\n      <th>0</th>\n      <td>NaN</td>\n      <td>NaN</td>\n      <td>0</td>\n      <td>text</td>\n    </tr>\n    <tr>\n      <th>1</th>\n      <td>Чат по вопросам о языках C, C++. Также сюда бу...</td>\n      <td>NaN</td>\n      <td>0</td>\n      <td>text</td>\n    </tr>\n    <tr>\n      <th>2</th>\n      <td>NaN</td>\n      <td>NaN</td>\n      <td>0</td>\n      <td>text</td>\n    </tr>\n    <tr>\n      <th>3</th>\n      <td>NaN</td>\n      <td>NaN</td>\n      <td>0</td>\n      <td>text</td>\n    </tr>\n    <tr>\n      <th>4</th>\n      <td>Прекрасно, буду ждать. Всегда интересно почита...</td>\n      <td>NaN</td>\n      <td>0</td>\n      <td>text</td>\n    </tr>\n    <tr>\n      <th>...</th>\n      <td>...</td>\n      <td>...</td>\n      <td>...</td>\n      <td>...</td>\n    </tr>\n    <tr>\n      <th>483198</th>\n      <td>Возможно и сработает. Надо бы попробовать</td>\n      <td>NaN</td>\n      <td>0</td>\n      <td>text</td>\n    </tr>\n    <tr>\n      <th>483199</th>\n      <td>Так есть же асинхронные режимы.</td>\n      <td>NaN</td>\n      <td>0</td>\n      <td>text</td>\n    </tr>\n    <tr>\n      <th>483200</th>\n      <td>на обычном линуксе ядра так с 4.5 есть process...</td>\n      <td>NaN</td>\n      <td>0</td>\n      <td>text</td>\n    </tr>\n    <tr>\n      <th>483201</th>\n      <td>скорее всего вам правильно подсказали насчет D...</td>\n      <td>NaN</td>\n      <td>0</td>\n      <td>text</td>\n    </tr>\n    <tr>\n      <th>483202</th>\n      <td>Без co_return это не корутина) хотя оно и не с...</td>\n      <td>NaN</td>\n      <td>0</td>\n      <td>text</td>\n    </tr>\n  </tbody>\n</table>\n<p>483203 rows × 4 columns</p>\n</div>"
     },
     "execution_count": 5,
     "metadata": {},
     "output_type": "execute_result"
    }
   ],
   "source": [
    "folder_path = 'output_messages_cpp/cpp_0'\n",
    "\n",
    "dfs = []\n",
    "\n",
    "for i in range(0, 242):\n",
    "    folder_path = f'output_messages_cpp/cpp_{i}'\n",
    "    for file_name in os.listdir(folder_path):\n",
    "        if file_name.endswith('.json'):\n",
    "            file_path = os.path.join(folder_path, file_name)\n",
    "\n",
    "            with open(file_path, 'r', encoding='utf-8') as f:\n",
    "                data = json.load(f)\n",
    "\n",
    "            df_rows = []\n",
    "            for message_data in data:\n",
    "                text, code, is_code, language = extract_info_from_json(message_data, 'cpp')\n",
    "                df_rows.append([text, code, is_code, language])\n",
    "\n",
    "            df = pd.DataFrame(df_rows, columns=['text', 'code', 'is_code', 'language'])\n",
    "            dfs.append(df)\n",
    "\n",
    "final_df_cpp = pd.concat(dfs, ignore_index=True)\n",
    "\n",
    "final_df_cpp\n"
   ],
   "metadata": {
    "collapsed": false
   }
  },
  {
   "cell_type": "code",
   "execution_count": 6,
   "outputs": [
    {
     "data": {
      "text/plain": "                                                     text  \\\n449                                                   NaN   \n1465                               я все правильно делаю?   \n2688    чят, я пишу код типа\\nкак организовать доступ ...   \n3840                                                  NaN   \n4138                                                  NaN   \n...                                                   ...   \n482705                                     отбой, я нашел   \n482732  Ну я приравнял вызов конструктора retval к люб...   \n482849                        давай почитаем исходники Го   \n483091                                                NaN   \n483194  всем привет, есть следующий код:\\n\\n\\n\\nбез co...   \n\n                                                     code  is_code language  \n449     enis = {\"names\": \"Денис\", \"age\": 18}\\nstiv = {...        1      cpp  \n1465    template<typename T>\\nclass Singleton\\n{\\nprot...        1      cpp  \n2688    class Pipeline\\n{\\npublic:\\n    void UseShader...        1      cpp  \n3840    glEnable(GL_MULTISAMPLE);\\n    GLuint colorRbo...        1      cpp  \n4138    class CallbackInterface\\n{\\n    virtual void C...        1      cpp  \n...                                                   ...      ...      ...  \n482705  /* An implicitly movable entity is a variable ...        1      cpp  \n482732                  auto x = make_unique..\\nreturn x;        1      cpp  \n482849  $ (cd /usr/local/go/src/ ; grep -RE 'ENOENT\\s*...        1      cpp  \n483091  std::array<int, 15> buffer{0};\\n \\nstd::genera...        1      cpp  \n483194  #include <iostream>\\n#include <coroutine>\\n\\nt...        1      cpp  \n\n[7573 rows x 4 columns]",
      "text/html": "<div>\n<style scoped>\n    .dataframe tbody tr th:only-of-type {\n        vertical-align: middle;\n    }\n\n    .dataframe tbody tr th {\n        vertical-align: top;\n    }\n\n    .dataframe thead th {\n        text-align: right;\n    }\n</style>\n<table border=\"1\" class=\"dataframe\">\n  <thead>\n    <tr style=\"text-align: right;\">\n      <th></th>\n      <th>text</th>\n      <th>code</th>\n      <th>is_code</th>\n      <th>language</th>\n    </tr>\n  </thead>\n  <tbody>\n    <tr>\n      <th>449</th>\n      <td>NaN</td>\n      <td>enis = {\"names\": \"Денис\", \"age\": 18}\\nstiv = {...</td>\n      <td>1</td>\n      <td>cpp</td>\n    </tr>\n    <tr>\n      <th>1465</th>\n      <td>я все правильно делаю?</td>\n      <td>template&lt;typename T&gt;\\nclass Singleton\\n{\\nprot...</td>\n      <td>1</td>\n      <td>cpp</td>\n    </tr>\n    <tr>\n      <th>2688</th>\n      <td>чят, я пишу код типа\\nкак организовать доступ ...</td>\n      <td>class Pipeline\\n{\\npublic:\\n    void UseShader...</td>\n      <td>1</td>\n      <td>cpp</td>\n    </tr>\n    <tr>\n      <th>3840</th>\n      <td>NaN</td>\n      <td>glEnable(GL_MULTISAMPLE);\\n    GLuint colorRbo...</td>\n      <td>1</td>\n      <td>cpp</td>\n    </tr>\n    <tr>\n      <th>4138</th>\n      <td>NaN</td>\n      <td>class CallbackInterface\\n{\\n    virtual void C...</td>\n      <td>1</td>\n      <td>cpp</td>\n    </tr>\n    <tr>\n      <th>...</th>\n      <td>...</td>\n      <td>...</td>\n      <td>...</td>\n      <td>...</td>\n    </tr>\n    <tr>\n      <th>482705</th>\n      <td>отбой, я нашел</td>\n      <td>/* An implicitly movable entity is a variable ...</td>\n      <td>1</td>\n      <td>cpp</td>\n    </tr>\n    <tr>\n      <th>482732</th>\n      <td>Ну я приравнял вызов конструктора retval к люб...</td>\n      <td>auto x = make_unique..\\nreturn x;</td>\n      <td>1</td>\n      <td>cpp</td>\n    </tr>\n    <tr>\n      <th>482849</th>\n      <td>давай почитаем исходники Го</td>\n      <td>$ (cd /usr/local/go/src/ ; grep -RE 'ENOENT\\s*...</td>\n      <td>1</td>\n      <td>cpp</td>\n    </tr>\n    <tr>\n      <th>483091</th>\n      <td>NaN</td>\n      <td>std::array&lt;int, 15&gt; buffer{0};\\n \\nstd::genera...</td>\n      <td>1</td>\n      <td>cpp</td>\n    </tr>\n    <tr>\n      <th>483194</th>\n      <td>всем привет, есть следующий код:\\n\\n\\n\\nбез co...</td>\n      <td>#include &lt;iostream&gt;\\n#include &lt;coroutine&gt;\\n\\nt...</td>\n      <td>1</td>\n      <td>cpp</td>\n    </tr>\n  </tbody>\n</table>\n<p>7573 rows × 4 columns</p>\n</div>"
     },
     "execution_count": 6,
     "metadata": {},
     "output_type": "execute_result"
    }
   ],
   "source": [
    "final_df_cpp[final_df_cpp['is_code'] == 1]"
   ],
   "metadata": {
    "collapsed": false
   }
  },
  {
   "cell_type": "code",
   "execution_count": 7,
   "outputs": [
    {
     "data": {
      "text/plain": "                                                     text code  is_code  \\\n0                                                     NaN  NaN        0   \n1                                                     NaN  NaN        0   \n2       🔵 В группе есть традиция - представляться при ...  NaN        0   \n3                                                     NaN  NaN        0   \n4                                                     NaN  NaN        0   \n...                                                   ...  ...      ...   \n483995  Ты меня спрашиваешь? Не знаю, может и быть. На...  NaN        0   \n483996                               ты спросил я ответил  NaN        0   \n483997  Раз все так ужасно, надо валить из этого клято...  NaN        0   \n483998  ну хз мне норм, считаю это норм практика. если...  NaN        0   \n483999                                              очень  NaN        0   \n\n       language  \n0          text  \n1          text  \n2          text  \n3          text  \n4          text  \n...         ...  \n483995     text  \n483996     text  \n483997     text  \n483998     text  \n483999     text  \n\n[484000 rows x 4 columns]",
      "text/html": "<div>\n<style scoped>\n    .dataframe tbody tr th:only-of-type {\n        vertical-align: middle;\n    }\n\n    .dataframe tbody tr th {\n        vertical-align: top;\n    }\n\n    .dataframe thead th {\n        text-align: right;\n    }\n</style>\n<table border=\"1\" class=\"dataframe\">\n  <thead>\n    <tr style=\"text-align: right;\">\n      <th></th>\n      <th>text</th>\n      <th>code</th>\n      <th>is_code</th>\n      <th>language</th>\n    </tr>\n  </thead>\n  <tbody>\n    <tr>\n      <th>0</th>\n      <td>NaN</td>\n      <td>NaN</td>\n      <td>0</td>\n      <td>text</td>\n    </tr>\n    <tr>\n      <th>1</th>\n      <td>NaN</td>\n      <td>NaN</td>\n      <td>0</td>\n      <td>text</td>\n    </tr>\n    <tr>\n      <th>2</th>\n      <td>🔵 В группе есть традиция - представляться при ...</td>\n      <td>NaN</td>\n      <td>0</td>\n      <td>text</td>\n    </tr>\n    <tr>\n      <th>3</th>\n      <td>NaN</td>\n      <td>NaN</td>\n      <td>0</td>\n      <td>text</td>\n    </tr>\n    <tr>\n      <th>4</th>\n      <td>NaN</td>\n      <td>NaN</td>\n      <td>0</td>\n      <td>text</td>\n    </tr>\n    <tr>\n      <th>...</th>\n      <td>...</td>\n      <td>...</td>\n      <td>...</td>\n      <td>...</td>\n    </tr>\n    <tr>\n      <th>483995</th>\n      <td>Ты меня спрашиваешь? Не знаю, может и быть. На...</td>\n      <td>NaN</td>\n      <td>0</td>\n      <td>text</td>\n    </tr>\n    <tr>\n      <th>483996</th>\n      <td>ты спросил я ответил</td>\n      <td>NaN</td>\n      <td>0</td>\n      <td>text</td>\n    </tr>\n    <tr>\n      <th>483997</th>\n      <td>Раз все так ужасно, надо валить из этого клято...</td>\n      <td>NaN</td>\n      <td>0</td>\n      <td>text</td>\n    </tr>\n    <tr>\n      <th>483998</th>\n      <td>ну хз мне норм, считаю это норм практика. если...</td>\n      <td>NaN</td>\n      <td>0</td>\n      <td>text</td>\n    </tr>\n    <tr>\n      <th>483999</th>\n      <td>очень</td>\n      <td>NaN</td>\n      <td>0</td>\n      <td>text</td>\n    </tr>\n  </tbody>\n</table>\n<p>484000 rows × 4 columns</p>\n</div>"
     },
     "execution_count": 7,
     "metadata": {},
     "output_type": "execute_result"
    }
   ],
   "source": [
    "\n",
    "folder_path = 'output_messages_js/js_0'\n",
    "\n",
    "dfs = []\n",
    "\n",
    "for i in range(0, 242):\n",
    "    folder_path = f'output_messages_js/js_{i}'\n",
    "    for file_name in os.listdir(folder_path):\n",
    "        if file_name.endswith('.json'):\n",
    "            file_path = os.path.join(folder_path, file_name)\n",
    "\n",
    "            with open(file_path, 'r', encoding='utf-8') as f:\n",
    "                data = json.load(f)\n",
    "\n",
    "            df_rows = []\n",
    "            for message_data in data:\n",
    "                text, code, is_code, language = extract_info_from_json(message_data, 'javascript')\n",
    "                df_rows.append([text, code, is_code, language])\n",
    "\n",
    "            df = pd.DataFrame(df_rows, columns=['text', 'code', 'is_code', 'language'])\n",
    "            dfs.append(df)\n",
    "\n",
    "final_df_javascript = pd.concat(dfs, ignore_index=True)\n",
    "\n",
    "final_df_javascript\n"
   ],
   "metadata": {
    "collapsed": false
   }
  },
  {
   "cell_type": "code",
   "execution_count": 8,
   "outputs": [
    {
     "data": {
      "text/plain": "                                                     text  \\\n189                                                   NaN   \n234                                                   NaN   \n1205                                                  NaN   \n1817                                                  NaN   \n1974    Доки не особо быстро обновляются. Плюс читабел...   \n...                                                   ...   \n483599  Потому что ты привёл 2 абсолюнто разных пример...   \n483614  Если ты сделаешь в программе\\n\\n\\nУ тебя не бу...   \n483626  Чтобы было чуть понятнее, вот пример как это п...   \n483753       я не спорю. но передать обьект по ссылке это   \n483882                                                NaN   \n\n                                                     code  is_code    language  \n189     <!DOCTYPE html>\\n<html lang=\"en\">\\n<head>\\n  <...        1  javascript  \n234     <script>\\n  document.write('<span class=\"box\">...        1  javascript  \n1205    https://google-code-prettify.googlecode.com/sv...        1  javascript  \n1817    module.exports = {\\n    entry: \"./entry.js\",\\n...        1  javascript  \n1974        obj.prop = blablabla;obj['prop'] = blablabla;        1  javascript  \n...                                                   ...      ...         ...  \n483599  let a = 0\\nfunction foo(a) {\\n   // здесь своя...        1  javascript  \n483614            let a = \"test\";\\nlet b = a;\\nlet c = b;        1  javascript  \n483626  let a = 0\\nfunction foo(a) {\\n   //вот тут то,...        1  javascript  \n483753  функция вызывается путём прямой передачи ссылк...        1  javascript  \n483882  // Получаем все элементы с классом \"myElement\"...        1  javascript  \n\n[6320 rows x 4 columns]",
      "text/html": "<div>\n<style scoped>\n    .dataframe tbody tr th:only-of-type {\n        vertical-align: middle;\n    }\n\n    .dataframe tbody tr th {\n        vertical-align: top;\n    }\n\n    .dataframe thead th {\n        text-align: right;\n    }\n</style>\n<table border=\"1\" class=\"dataframe\">\n  <thead>\n    <tr style=\"text-align: right;\">\n      <th></th>\n      <th>text</th>\n      <th>code</th>\n      <th>is_code</th>\n      <th>language</th>\n    </tr>\n  </thead>\n  <tbody>\n    <tr>\n      <th>189</th>\n      <td>NaN</td>\n      <td>&lt;!DOCTYPE html&gt;\\n&lt;html lang=\"en\"&gt;\\n&lt;head&gt;\\n  &lt;...</td>\n      <td>1</td>\n      <td>javascript</td>\n    </tr>\n    <tr>\n      <th>234</th>\n      <td>NaN</td>\n      <td>&lt;script&gt;\\n  document.write('&lt;span class=\"box\"&gt;...</td>\n      <td>1</td>\n      <td>javascript</td>\n    </tr>\n    <tr>\n      <th>1205</th>\n      <td>NaN</td>\n      <td>https://google-code-prettify.googlecode.com/sv...</td>\n      <td>1</td>\n      <td>javascript</td>\n    </tr>\n    <tr>\n      <th>1817</th>\n      <td>NaN</td>\n      <td>module.exports = {\\n    entry: \"./entry.js\",\\n...</td>\n      <td>1</td>\n      <td>javascript</td>\n    </tr>\n    <tr>\n      <th>1974</th>\n      <td>Доки не особо быстро обновляются. Плюс читабел...</td>\n      <td>obj.prop = blablabla;obj['prop'] = blablabla;</td>\n      <td>1</td>\n      <td>javascript</td>\n    </tr>\n    <tr>\n      <th>...</th>\n      <td>...</td>\n      <td>...</td>\n      <td>...</td>\n      <td>...</td>\n    </tr>\n    <tr>\n      <th>483599</th>\n      <td>Потому что ты привёл 2 абсолюнто разных пример...</td>\n      <td>let a = 0\\nfunction foo(a) {\\n   // здесь своя...</td>\n      <td>1</td>\n      <td>javascript</td>\n    </tr>\n    <tr>\n      <th>483614</th>\n      <td>Если ты сделаешь в программе\\n\\n\\nУ тебя не бу...</td>\n      <td>let a = \"test\";\\nlet b = a;\\nlet c = b;</td>\n      <td>1</td>\n      <td>javascript</td>\n    </tr>\n    <tr>\n      <th>483626</th>\n      <td>Чтобы было чуть понятнее, вот пример как это п...</td>\n      <td>let a = 0\\nfunction foo(a) {\\n   //вот тут то,...</td>\n      <td>1</td>\n      <td>javascript</td>\n    </tr>\n    <tr>\n      <th>483753</th>\n      <td>я не спорю. но передать обьект по ссылке это</td>\n      <td>функция вызывается путём прямой передачи ссылк...</td>\n      <td>1</td>\n      <td>javascript</td>\n    </tr>\n    <tr>\n      <th>483882</th>\n      <td>NaN</td>\n      <td>// Получаем все элементы с классом \"myElement\"...</td>\n      <td>1</td>\n      <td>javascript</td>\n    </tr>\n  </tbody>\n</table>\n<p>6320 rows × 4 columns</p>\n</div>"
     },
     "execution_count": 8,
     "metadata": {},
     "output_type": "execute_result"
    }
   ],
   "source": [
    "final_df_javascript[final_df_javascript['is_code'] == 1]"
   ],
   "metadata": {
    "collapsed": false
   }
  },
  {
   "cell_type": "code",
   "execution_count": 8,
   "outputs": [],
   "source": [],
   "metadata": {
    "collapsed": false
   }
  },
  {
   "cell_type": "code",
   "execution_count": 9,
   "outputs": [
    {
     "data": {
      "text/plain": "                                                      text code  is_code  \\\n0                                                      NaN  NaN        0   \n1                                                      NaN  NaN        0   \n2        🔵 В группе есть традиция - представляться при ...  NaN        0   \n3                                                      NaN  NaN        0   \n4                                                      NaN  NaN        0   \n...                                                    ...  ...      ...   \n1024261                               СЭАЭАЭАХАХА ФАНААААТ  NaN        0   \n1024262                                             а баха  NaN        0   \n1024263                                                NaN  NaN        0   \n1024264                         , в ЛС пожалуйста 🙏🙏🙏🙏🙏🙏🙏🙏  NaN        0   \n1024265                        концерт для оркестра значит  NaN        0   \n\n        language  \n0           text  \n1           text  \n2           text  \n3           text  \n4           text  \n...          ...  \n1024261     text  \n1024262     text  \n1024263     text  \n1024264     text  \n1024265     text  \n\n[1024266 rows x 4 columns]",
      "text/html": "<div>\n<style scoped>\n    .dataframe tbody tr th:only-of-type {\n        vertical-align: middle;\n    }\n\n    .dataframe tbody tr th {\n        vertical-align: top;\n    }\n\n    .dataframe thead th {\n        text-align: right;\n    }\n</style>\n<table border=\"1\" class=\"dataframe\">\n  <thead>\n    <tr style=\"text-align: right;\">\n      <th></th>\n      <th>text</th>\n      <th>code</th>\n      <th>is_code</th>\n      <th>language</th>\n    </tr>\n  </thead>\n  <tbody>\n    <tr>\n      <th>0</th>\n      <td>NaN</td>\n      <td>NaN</td>\n      <td>0</td>\n      <td>text</td>\n    </tr>\n    <tr>\n      <th>1</th>\n      <td>NaN</td>\n      <td>NaN</td>\n      <td>0</td>\n      <td>text</td>\n    </tr>\n    <tr>\n      <th>2</th>\n      <td>🔵 В группе есть традиция - представляться при ...</td>\n      <td>NaN</td>\n      <td>0</td>\n      <td>text</td>\n    </tr>\n    <tr>\n      <th>3</th>\n      <td>NaN</td>\n      <td>NaN</td>\n      <td>0</td>\n      <td>text</td>\n    </tr>\n    <tr>\n      <th>4</th>\n      <td>NaN</td>\n      <td>NaN</td>\n      <td>0</td>\n      <td>text</td>\n    </tr>\n    <tr>\n      <th>...</th>\n      <td>...</td>\n      <td>...</td>\n      <td>...</td>\n      <td>...</td>\n    </tr>\n    <tr>\n      <th>1024261</th>\n      <td>СЭАЭАЭАХАХА ФАНААААТ</td>\n      <td>NaN</td>\n      <td>0</td>\n      <td>text</td>\n    </tr>\n    <tr>\n      <th>1024262</th>\n      <td>а баха</td>\n      <td>NaN</td>\n      <td>0</td>\n      <td>text</td>\n    </tr>\n    <tr>\n      <th>1024263</th>\n      <td>NaN</td>\n      <td>NaN</td>\n      <td>0</td>\n      <td>text</td>\n    </tr>\n    <tr>\n      <th>1024264</th>\n      <td>, в ЛС пожалуйста 🙏🙏🙏🙏🙏🙏🙏🙏</td>\n      <td>NaN</td>\n      <td>0</td>\n      <td>text</td>\n    </tr>\n    <tr>\n      <th>1024265</th>\n      <td>концерт для оркестра значит</td>\n      <td>NaN</td>\n      <td>0</td>\n      <td>text</td>\n    </tr>\n  </tbody>\n</table>\n<p>1024266 rows × 4 columns</p>\n</div>"
     },
     "execution_count": 9,
     "metadata": {},
     "output_type": "execute_result"
    }
   ],
   "source": [
    "dfs = [final_df_javascript, final_df_cpp, final_df_python]\n",
    "final_df = pd.concat(dfs, ignore_index=True)\n",
    "final_df"
   ],
   "metadata": {
    "collapsed": false
   }
  },
  {
   "cell_type": "code",
   "execution_count": 10,
   "outputs": [
    {
     "data": {
      "text/plain": "                                                      text  \\\n189                                                    NaN   \n234                                                    NaN   \n1205                                                   NaN   \n1817                                                   NaN   \n1974     Доки не особо быстро обновляются. Плюс читабел...   \n...                                                    ...   \n1024087                                                NaN   \n1024102                                                NaN   \n1024146                                                      \n1024149                                                NaN   \n1024179                                                NaN   \n\n                                                      code  is_code  \\\n189      <!DOCTYPE html>\\n<html lang=\"en\">\\n<head>\\n  <...        1   \n234      <script>\\n  document.write('<span class=\"box\">...        1   \n1205     https://google-code-prettify.googlecode.com/sv...        1   \n1817     module.exports = {\\n    entry: \"./entry.js\",\\n...        1   \n1974         obj.prop = blablabla;obj['prop'] = blablabla;        1   \n...                                                    ...      ...   \n1024087  class MyView(discord.ui.View): \\n    def __ini...        1   \n1024102  import discord \\n \\nbot = discord.Bot() # Crea...        1   \n1024146  import discord\\nfrom discord.ext import comman...        1   \n1024149                          pip install -U discord.py        1   \n1024179  import discord\\nfrom discord.ext import comman...        1   \n\n           language  \n189      javascript  \n234      javascript  \n1205     javascript  \n1817     javascript  \n1974     javascript  \n...             ...  \n1024087      python  \n1024102      python  \n1024146      python  \n1024149      python  \n1024179      python  \n\n[14485 rows x 4 columns]",
      "text/html": "<div>\n<style scoped>\n    .dataframe tbody tr th:only-of-type {\n        vertical-align: middle;\n    }\n\n    .dataframe tbody tr th {\n        vertical-align: top;\n    }\n\n    .dataframe thead th {\n        text-align: right;\n    }\n</style>\n<table border=\"1\" class=\"dataframe\">\n  <thead>\n    <tr style=\"text-align: right;\">\n      <th></th>\n      <th>text</th>\n      <th>code</th>\n      <th>is_code</th>\n      <th>language</th>\n    </tr>\n  </thead>\n  <tbody>\n    <tr>\n      <th>189</th>\n      <td>NaN</td>\n      <td>&lt;!DOCTYPE html&gt;\\n&lt;html lang=\"en\"&gt;\\n&lt;head&gt;\\n  &lt;...</td>\n      <td>1</td>\n      <td>javascript</td>\n    </tr>\n    <tr>\n      <th>234</th>\n      <td>NaN</td>\n      <td>&lt;script&gt;\\n  document.write('&lt;span class=\"box\"&gt;...</td>\n      <td>1</td>\n      <td>javascript</td>\n    </tr>\n    <tr>\n      <th>1205</th>\n      <td>NaN</td>\n      <td>https://google-code-prettify.googlecode.com/sv...</td>\n      <td>1</td>\n      <td>javascript</td>\n    </tr>\n    <tr>\n      <th>1817</th>\n      <td>NaN</td>\n      <td>module.exports = {\\n    entry: \"./entry.js\",\\n...</td>\n      <td>1</td>\n      <td>javascript</td>\n    </tr>\n    <tr>\n      <th>1974</th>\n      <td>Доки не особо быстро обновляются. Плюс читабел...</td>\n      <td>obj.prop = blablabla;obj['prop'] = blablabla;</td>\n      <td>1</td>\n      <td>javascript</td>\n    </tr>\n    <tr>\n      <th>...</th>\n      <td>...</td>\n      <td>...</td>\n      <td>...</td>\n      <td>...</td>\n    </tr>\n    <tr>\n      <th>1024087</th>\n      <td>NaN</td>\n      <td>class MyView(discord.ui.View): \\n    def __ini...</td>\n      <td>1</td>\n      <td>python</td>\n    </tr>\n    <tr>\n      <th>1024102</th>\n      <td>NaN</td>\n      <td>import discord \\n \\nbot = discord.Bot() # Crea...</td>\n      <td>1</td>\n      <td>python</td>\n    </tr>\n    <tr>\n      <th>1024146</th>\n      <td></td>\n      <td>import discord\\nfrom discord.ext import comman...</td>\n      <td>1</td>\n      <td>python</td>\n    </tr>\n    <tr>\n      <th>1024149</th>\n      <td>NaN</td>\n      <td>pip install -U discord.py</td>\n      <td>1</td>\n      <td>python</td>\n    </tr>\n    <tr>\n      <th>1024179</th>\n      <td>NaN</td>\n      <td>import discord\\nfrom discord.ext import comman...</td>\n      <td>1</td>\n      <td>python</td>\n    </tr>\n  </tbody>\n</table>\n<p>14485 rows × 4 columns</p>\n</div>"
     },
     "execution_count": 10,
     "metadata": {},
     "output_type": "execute_result"
    }
   ],
   "source": [
    "final_df[final_df['is_code'] == 1]"
   ],
   "metadata": {
    "collapsed": false
   }
  },
  {
   "cell_type": "code",
   "execution_count": 11,
   "outputs": [
    {
     "data": {
      "text/plain": "                                                      text code  is_code  \\\n2        🔵 В группе есть традиция - представляться при ...  NaN        0   \n12                                             жс не нужен  NaN        0   \n15                                            А что нужно?  NaN        0   \n16                                                 Хаскель  NaN        0   \n17                                                 Монадки  NaN        0   \n...                                                    ...  ...      ...   \n1024260                         ну хз там че то на скрипке  NaN        0   \n1024261                               СЭАЭАЭАХАХА ФАНААААТ  NaN        0   \n1024262                                             а баха  NaN        0   \n1024264                         , в ЛС пожалуйста 🙏🙏🙏🙏🙏🙏🙏🙏  NaN        0   \n1024265                        концерт для оркестра значит  NaN        0   \n\n        language  \n2           text  \n12          text  \n15          text  \n16          text  \n17          text  \n...          ...  \n1024260     text  \n1024261     text  \n1024262     text  \n1024264     text  \n1024265     text  \n\n[931710 rows x 4 columns]",
      "text/html": "<div>\n<style scoped>\n    .dataframe tbody tr th:only-of-type {\n        vertical-align: middle;\n    }\n\n    .dataframe tbody tr th {\n        vertical-align: top;\n    }\n\n    .dataframe thead th {\n        text-align: right;\n    }\n</style>\n<table border=\"1\" class=\"dataframe\">\n  <thead>\n    <tr style=\"text-align: right;\">\n      <th></th>\n      <th>text</th>\n      <th>code</th>\n      <th>is_code</th>\n      <th>language</th>\n    </tr>\n  </thead>\n  <tbody>\n    <tr>\n      <th>2</th>\n      <td>🔵 В группе есть традиция - представляться при ...</td>\n      <td>NaN</td>\n      <td>0</td>\n      <td>text</td>\n    </tr>\n    <tr>\n      <th>12</th>\n      <td>жс не нужен</td>\n      <td>NaN</td>\n      <td>0</td>\n      <td>text</td>\n    </tr>\n    <tr>\n      <th>15</th>\n      <td>А что нужно?</td>\n      <td>NaN</td>\n      <td>0</td>\n      <td>text</td>\n    </tr>\n    <tr>\n      <th>16</th>\n      <td>Хаскель</td>\n      <td>NaN</td>\n      <td>0</td>\n      <td>text</td>\n    </tr>\n    <tr>\n      <th>17</th>\n      <td>Монадки</td>\n      <td>NaN</td>\n      <td>0</td>\n      <td>text</td>\n    </tr>\n    <tr>\n      <th>...</th>\n      <td>...</td>\n      <td>...</td>\n      <td>...</td>\n      <td>...</td>\n    </tr>\n    <tr>\n      <th>1024260</th>\n      <td>ну хз там че то на скрипке</td>\n      <td>NaN</td>\n      <td>0</td>\n      <td>text</td>\n    </tr>\n    <tr>\n      <th>1024261</th>\n      <td>СЭАЭАЭАХАХА ФАНААААТ</td>\n      <td>NaN</td>\n      <td>0</td>\n      <td>text</td>\n    </tr>\n    <tr>\n      <th>1024262</th>\n      <td>а баха</td>\n      <td>NaN</td>\n      <td>0</td>\n      <td>text</td>\n    </tr>\n    <tr>\n      <th>1024264</th>\n      <td>, в ЛС пожалуйста 🙏🙏🙏🙏🙏🙏🙏🙏</td>\n      <td>NaN</td>\n      <td>0</td>\n      <td>text</td>\n    </tr>\n    <tr>\n      <th>1024265</th>\n      <td>концерт для оркестра значит</td>\n      <td>NaN</td>\n      <td>0</td>\n      <td>text</td>\n    </tr>\n  </tbody>\n</table>\n<p>931710 rows × 4 columns</p>\n</div>"
     },
     "execution_count": 11,
     "metadata": {},
     "output_type": "execute_result"
    }
   ],
   "source": [
    "final_df = final_df.dropna(subset=['text', 'code'], how='all')\n",
    "final_df"
   ],
   "metadata": {
    "collapsed": false
   }
  },
  {
   "cell_type": "code",
   "execution_count": 12,
   "outputs": [],
   "source": [
    "import string\n",
    "import re\n",
    "from sklearn.feature_extraction.text import TfidfVectorizer\n",
    "from sklearn.model_selection import train_test_split\n",
    "from sklearn.svm import SVC\n",
    "from sklearn.metrics import classification_report, confusion_matrix\n",
    "\n",
    "\n",
    "# def clean_text(text):\n",
    "#     if not isinstance(text, str):\n",
    "#         text = str(text)\n",
    "#     text = text.lower()\n",
    "#     text = re.sub(r'\\s+', ' ', text)\n",
    "#     text = text.translate(str.maketrans('', '', string.punctuation))\n",
    "#     return text\n",
    "\n",
    "\n",
    "def clean(s):\n",
    "    if not isinstance(s, str):\n",
    "        s = str(s)\n",
    "    s = s.lower()\n",
    "    s = re.sub(r'\\s+', ' ', s)\n",
    "    s = re.sub(r'\\d+', '', s)\n",
    "    common_symbols = {'=', '+', '-', '*', '/', '%', '>', '<', '&', '|', '^', '(', ')', '[', ']', '{', '}', ',', ':'}\n",
    "    s = ''.join([c for c in s if c not in common_symbols])\n",
    "    return s\n",
    "\n",
    "\n",
    "# Функция для выбора текста или кода в зависимости от наличия кода\n",
    "def choose_text_or_code(row):\n",
    "    if row['is_code'] == 1:\n",
    "        return row['clean_code']\n",
    "    else:\n",
    "        return row['clean_text']\n"
   ],
   "metadata": {
    "collapsed": false
   }
  },
  {
   "cell_type": "code",
   "execution_count": 13,
   "outputs": [
    {
     "name": "stderr",
     "output_type": "stream",
     "text": [
      "/var/folders/w5/ht3dmydx63x5gl8zry4s1fdh0000gn/T/ipykernel_94358/2688447963.py:1: SettingWithCopyWarning: \n",
      "A value is trying to be set on a copy of a slice from a DataFrame.\n",
      "Try using .loc[row_indexer,col_indexer] = value instead\n",
      "\n",
      "See the caveats in the documentation: https://pandas.pydata.org/pandas-docs/stable/user_guide/indexing.html#returning-a-view-versus-a-copy\n",
      "  final_df['clean_text'] = final_df['text'].apply(clean)\n",
      "/var/folders/w5/ht3dmydx63x5gl8zry4s1fdh0000gn/T/ipykernel_94358/2688447963.py:2: SettingWithCopyWarning: \n",
      "A value is trying to be set on a copy of a slice from a DataFrame.\n",
      "Try using .loc[row_indexer,col_indexer] = value instead\n",
      "\n",
      "See the caveats in the documentation: https://pandas.pydata.org/pandas-docs/stable/user_guide/indexing.html#returning-a-view-versus-a-copy\n",
      "  final_df['clean_code'] = final_df['code'].apply(clean)\n",
      "/var/folders/w5/ht3dmydx63x5gl8zry4s1fdh0000gn/T/ipykernel_94358/2688447963.py:3: SettingWithCopyWarning: \n",
      "A value is trying to be set on a copy of a slice from a DataFrame.\n",
      "Try using .loc[row_indexer,col_indexer] = value instead\n",
      "\n",
      "See the caveats in the documentation: https://pandas.pydata.org/pandas-docs/stable/user_guide/indexing.html#returning-a-view-versus-a-copy\n",
      "  final_df['final_text'] = final_df.apply(choose_text_or_code, axis=1)\n"
     ]
    },
    {
     "data": {
      "text/plain": "                                                      text code  is_code  \\\n2        🔵 В группе есть традиция - представляться при ...  NaN        0   \n12                                             жс не нужен  NaN        0   \n15                                            А что нужно?  NaN        0   \n16                                                 Хаскель  NaN        0   \n17                                                 Монадки  NaN        0   \n...                                                    ...  ...      ...   \n1024260                         ну хз там че то на скрипке  NaN        0   \n1024261                               СЭАЭАЭАХАХА ФАНААААТ  NaN        0   \n1024262                                             а баха  NaN        0   \n1024264                         , в ЛС пожалуйста 🙏🙏🙏🙏🙏🙏🙏🙏  NaN        0   \n1024265                        концерт для оркестра значит  NaN        0   \n\n        language                                         clean_text  \\\n2           text  🔵 в группе есть традиция  представляться при в...   \n12          text                                        жс не нужен   \n15          text                                       а что нужно?   \n16          text                                            хаскель   \n17          text                                            монадки   \n...          ...                                                ...   \n1024260     text                         ну хз там че то на скрипке   \n1024261     text                               сэаэаэахаха фанаааат   \n1024262     text                                             а баха   \n1024264     text                           в лс пожалуйста 🙏🙏🙏🙏🙏🙏🙏🙏   \n1024265     text                        концерт для оркестра значит   \n\n        clean_code                                         final_text  \n2              nan  🔵 в группе есть традиция  представляться при в...  \n12             nan                                        жс не нужен  \n15             nan                                       а что нужно?  \n16             nan                                            хаскель  \n17             nan                                            монадки  \n...            ...                                                ...  \n1024260        nan                         ну хз там че то на скрипке  \n1024261        nan                               сэаэаэахаха фанаааат  \n1024262        nan                                             а баха  \n1024264        nan                           в лс пожалуйста 🙏🙏🙏🙏🙏🙏🙏🙏  \n1024265        nan                        концерт для оркестра значит  \n\n[931710 rows x 7 columns]",
      "text/html": "<div>\n<style scoped>\n    .dataframe tbody tr th:only-of-type {\n        vertical-align: middle;\n    }\n\n    .dataframe tbody tr th {\n        vertical-align: top;\n    }\n\n    .dataframe thead th {\n        text-align: right;\n    }\n</style>\n<table border=\"1\" class=\"dataframe\">\n  <thead>\n    <tr style=\"text-align: right;\">\n      <th></th>\n      <th>text</th>\n      <th>code</th>\n      <th>is_code</th>\n      <th>language</th>\n      <th>clean_text</th>\n      <th>clean_code</th>\n      <th>final_text</th>\n    </tr>\n  </thead>\n  <tbody>\n    <tr>\n      <th>2</th>\n      <td>🔵 В группе есть традиция - представляться при ...</td>\n      <td>NaN</td>\n      <td>0</td>\n      <td>text</td>\n      <td>🔵 в группе есть традиция  представляться при в...</td>\n      <td>nan</td>\n      <td>🔵 в группе есть традиция  представляться при в...</td>\n    </tr>\n    <tr>\n      <th>12</th>\n      <td>жс не нужен</td>\n      <td>NaN</td>\n      <td>0</td>\n      <td>text</td>\n      <td>жс не нужен</td>\n      <td>nan</td>\n      <td>жс не нужен</td>\n    </tr>\n    <tr>\n      <th>15</th>\n      <td>А что нужно?</td>\n      <td>NaN</td>\n      <td>0</td>\n      <td>text</td>\n      <td>а что нужно?</td>\n      <td>nan</td>\n      <td>а что нужно?</td>\n    </tr>\n    <tr>\n      <th>16</th>\n      <td>Хаскель</td>\n      <td>NaN</td>\n      <td>0</td>\n      <td>text</td>\n      <td>хаскель</td>\n      <td>nan</td>\n      <td>хаскель</td>\n    </tr>\n    <tr>\n      <th>17</th>\n      <td>Монадки</td>\n      <td>NaN</td>\n      <td>0</td>\n      <td>text</td>\n      <td>монадки</td>\n      <td>nan</td>\n      <td>монадки</td>\n    </tr>\n    <tr>\n      <th>...</th>\n      <td>...</td>\n      <td>...</td>\n      <td>...</td>\n      <td>...</td>\n      <td>...</td>\n      <td>...</td>\n      <td>...</td>\n    </tr>\n    <tr>\n      <th>1024260</th>\n      <td>ну хз там че то на скрипке</td>\n      <td>NaN</td>\n      <td>0</td>\n      <td>text</td>\n      <td>ну хз там че то на скрипке</td>\n      <td>nan</td>\n      <td>ну хз там че то на скрипке</td>\n    </tr>\n    <tr>\n      <th>1024261</th>\n      <td>СЭАЭАЭАХАХА ФАНААААТ</td>\n      <td>NaN</td>\n      <td>0</td>\n      <td>text</td>\n      <td>сэаэаэахаха фанаааат</td>\n      <td>nan</td>\n      <td>сэаэаэахаха фанаааат</td>\n    </tr>\n    <tr>\n      <th>1024262</th>\n      <td>а баха</td>\n      <td>NaN</td>\n      <td>0</td>\n      <td>text</td>\n      <td>а баха</td>\n      <td>nan</td>\n      <td>а баха</td>\n    </tr>\n    <tr>\n      <th>1024264</th>\n      <td>, в ЛС пожалуйста 🙏🙏🙏🙏🙏🙏🙏🙏</td>\n      <td>NaN</td>\n      <td>0</td>\n      <td>text</td>\n      <td>в лс пожалуйста 🙏🙏🙏🙏🙏🙏🙏🙏</td>\n      <td>nan</td>\n      <td>в лс пожалуйста 🙏🙏🙏🙏🙏🙏🙏🙏</td>\n    </tr>\n    <tr>\n      <th>1024265</th>\n      <td>концерт для оркестра значит</td>\n      <td>NaN</td>\n      <td>0</td>\n      <td>text</td>\n      <td>концерт для оркестра значит</td>\n      <td>nan</td>\n      <td>концерт для оркестра значит</td>\n    </tr>\n  </tbody>\n</table>\n<p>931710 rows × 7 columns</p>\n</div>"
     },
     "execution_count": 13,
     "metadata": {},
     "output_type": "execute_result"
    }
   ],
   "source": [
    "final_df['clean_text'] = final_df['text'].apply(clean)\n",
    "final_df['clean_code'] = final_df['code'].apply(clean)\n",
    "final_df['final_text'] = final_df.apply(choose_text_or_code, axis=1)\n",
    "final_df"
   ],
   "metadata": {
    "collapsed": false
   }
  },
  {
   "cell_type": "markdown",
   "source": [
    "Больше 900 000 строк, при этом строк с кодом < 15 000, обрежем df,иначе будет очень долго обучаться"
   ],
   "metadata": {
    "collapsed": false
   }
  },
  {
   "cell_type": "code",
   "execution_count": 14,
   "outputs": [
    {
     "data": {
      "text/plain": "                                                    text  \\\n0      🔵 В группе есть традиция - представляться при ...   \n1                                            жс не нужен   \n2                                           А что нужно?   \n3                                                Хаскель   \n4                                                Монадки   \n...                                                  ...   \n19480                                                NaN   \n19481                                                NaN   \n19482                                                      \n19483                                                NaN   \n19484                                                NaN   \n\n                                                    code  is_code language  \\\n0                                                    NaN        0     text   \n1                                                    NaN        0     text   \n2                                                    NaN        0     text   \n3                                                    NaN        0     text   \n4                                                    NaN        0     text   \n...                                                  ...      ...      ...   \n19480  class MyView(discord.ui.View): \\n    def __ini...        1   python   \n19481  import discord \\n \\nbot = discord.Bot() # Crea...        1   python   \n19482  import discord\\nfrom discord.ext import comman...        1   python   \n19483                          pip install -U discord.py        1   python   \n19484  import discord\\nfrom discord.ext import comman...        1   python   \n\n                                              clean_text  \\\n0      🔵 в группе есть традиция  представляться при в...   \n1                                            жс не нужен   \n2                                           а что нужно?   \n3                                                хаскель   \n4                                                монадки   \n...                                                  ...   \n19480                                                nan   \n19481                                                nan   \n19482                                                      \n19483                                                nan   \n19484                                                nan   \n\n                                              clean_code  \\\n0                                                    nan   \n1                                                    nan   \n2                                                    nan   \n3                                                    nan   \n4                                                    nan   \n...                                                  ...   \n19480  class myviewdiscord.ui.view def __init__self s...   \n19481  import discord bot  discord.bot # create a bot...   \n19482  import discord from discord.ext import command...   \n19483                           pip install u discord.py   \n19484  import discord from discord.ext import command...   \n\n                                              final_text  \n0      🔵 в группе есть традиция  представляться при в...  \n1                                            жс не нужен  \n2                                           а что нужно?  \n3                                                хаскель  \n4                                                монадки  \n...                                                  ...  \n19480  class myviewdiscord.ui.view def __init__self s...  \n19481  import discord bot  discord.bot # create a bot...  \n19482  import discord from discord.ext import command...  \n19483                           pip install u discord.py  \n19484  import discord from discord.ext import command...  \n\n[19485 rows x 7 columns]",
      "text/html": "<div>\n<style scoped>\n    .dataframe tbody tr th:only-of-type {\n        vertical-align: middle;\n    }\n\n    .dataframe tbody tr th {\n        vertical-align: top;\n    }\n\n    .dataframe thead th {\n        text-align: right;\n    }\n</style>\n<table border=\"1\" class=\"dataframe\">\n  <thead>\n    <tr style=\"text-align: right;\">\n      <th></th>\n      <th>text</th>\n      <th>code</th>\n      <th>is_code</th>\n      <th>language</th>\n      <th>clean_text</th>\n      <th>clean_code</th>\n      <th>final_text</th>\n    </tr>\n  </thead>\n  <tbody>\n    <tr>\n      <th>0</th>\n      <td>🔵 В группе есть традиция - представляться при ...</td>\n      <td>NaN</td>\n      <td>0</td>\n      <td>text</td>\n      <td>🔵 в группе есть традиция  представляться при в...</td>\n      <td>nan</td>\n      <td>🔵 в группе есть традиция  представляться при в...</td>\n    </tr>\n    <tr>\n      <th>1</th>\n      <td>жс не нужен</td>\n      <td>NaN</td>\n      <td>0</td>\n      <td>text</td>\n      <td>жс не нужен</td>\n      <td>nan</td>\n      <td>жс не нужен</td>\n    </tr>\n    <tr>\n      <th>2</th>\n      <td>А что нужно?</td>\n      <td>NaN</td>\n      <td>0</td>\n      <td>text</td>\n      <td>а что нужно?</td>\n      <td>nan</td>\n      <td>а что нужно?</td>\n    </tr>\n    <tr>\n      <th>3</th>\n      <td>Хаскель</td>\n      <td>NaN</td>\n      <td>0</td>\n      <td>text</td>\n      <td>хаскель</td>\n      <td>nan</td>\n      <td>хаскель</td>\n    </tr>\n    <tr>\n      <th>4</th>\n      <td>Монадки</td>\n      <td>NaN</td>\n      <td>0</td>\n      <td>text</td>\n      <td>монадки</td>\n      <td>nan</td>\n      <td>монадки</td>\n    </tr>\n    <tr>\n      <th>...</th>\n      <td>...</td>\n      <td>...</td>\n      <td>...</td>\n      <td>...</td>\n      <td>...</td>\n      <td>...</td>\n      <td>...</td>\n    </tr>\n    <tr>\n      <th>19480</th>\n      <td>NaN</td>\n      <td>class MyView(discord.ui.View): \\n    def __ini...</td>\n      <td>1</td>\n      <td>python</td>\n      <td>nan</td>\n      <td>class myviewdiscord.ui.view def __init__self s...</td>\n      <td>class myviewdiscord.ui.view def __init__self s...</td>\n    </tr>\n    <tr>\n      <th>19481</th>\n      <td>NaN</td>\n      <td>import discord \\n \\nbot = discord.Bot() # Crea...</td>\n      <td>1</td>\n      <td>python</td>\n      <td>nan</td>\n      <td>import discord bot  discord.bot # create a bot...</td>\n      <td>import discord bot  discord.bot # create a bot...</td>\n    </tr>\n    <tr>\n      <th>19482</th>\n      <td></td>\n      <td>import discord\\nfrom discord.ext import comman...</td>\n      <td>1</td>\n      <td>python</td>\n      <td></td>\n      <td>import discord from discord.ext import command...</td>\n      <td>import discord from discord.ext import command...</td>\n    </tr>\n    <tr>\n      <th>19483</th>\n      <td>NaN</td>\n      <td>pip install -U discord.py</td>\n      <td>1</td>\n      <td>python</td>\n      <td>nan</td>\n      <td>pip install u discord.py</td>\n      <td>pip install u discord.py</td>\n    </tr>\n    <tr>\n      <th>19484</th>\n      <td>NaN</td>\n      <td>import discord\\nfrom discord.ext import comman...</td>\n      <td>1</td>\n      <td>python</td>\n      <td>nan</td>\n      <td>import discord from discord.ext import command...</td>\n      <td>import discord from discord.ext import command...</td>\n    </tr>\n  </tbody>\n</table>\n<p>19485 rows × 7 columns</p>\n</div>"
     },
     "execution_count": 14,
     "metadata": {},
     "output_type": "execute_result"
    }
   ],
   "source": [
    "code_df = final_df[final_df['is_code'] == 1]\n",
    "text_df = final_df[final_df['is_code'] == 0]\n",
    "text_df = text_df.iloc[:5000]\n",
    "dfs = [text_df, code_df]\n",
    "df = pd.concat(dfs, ignore_index=True)\n",
    "df\n"
   ],
   "metadata": {
    "collapsed": false
   }
  },
  {
   "cell_type": "code",
   "execution_count": 15,
   "outputs": [
    {
     "name": "stdout",
     "output_type": "stream",
     "text": [
      "              precision    recall  f1-score   support\n",
      "\n",
      "         cpp       0.94      0.87      0.90      1522\n",
      "  javascript       0.91      0.87      0.89      1273\n",
      "      python       0.96      0.67      0.79       116\n",
      "        text       0.81      0.97      0.88       986\n",
      "\n",
      "    accuracy                           0.89      3897\n",
      "   macro avg       0.90      0.85      0.87      3897\n",
      "weighted avg       0.90      0.89      0.89      3897\n",
      "\n",
      "[[1321   74    1  126]\n",
      " [  62 1113    1   97]\n",
      " [  11   21   78    6]\n",
      " [  17   14    1  954]]\n"
     ]
    }
   ],
   "source": [
    "vectorizer = TfidfVectorizer()\n",
    "X = vectorizer.fit_transform(df['final_text'])\n",
    "y = df['language']\n",
    "\n",
    "X_train, X_test, y_train, y_test = train_test_split(X, y, test_size=0.2, random_state=42)\n",
    "\n",
    "model = SVC(kernel='linear')\n",
    "model.fit(X_train, y_train)\n",
    "\n",
    "y_pred = model.predict(X_test)\n",
    "\n",
    "print(classification_report(y_test, y_pred))\n",
    "print(confusion_matrix(y_test, y_pred))\n"
   ],
   "metadata": {
    "collapsed": false
   }
  },
  {
   "cell_type": "code",
   "execution_count": 16,
   "outputs": [
    {
     "data": {
      "text/plain": "['model_languages.pkl']"
     },
     "execution_count": 16,
     "metadata": {},
     "output_type": "execute_result"
    }
   ],
   "source": [
    "import joblib\n",
    "\n",
    "joblib.dump((model, vectorizer), 'model_languages.pkl')"
   ],
   "metadata": {
    "collapsed": false
   }
  },
  {
   "cell_type": "code",
   "execution_count": 17,
   "outputs": [],
   "source": [
    "python_examples = [\n",
    "    \"print('Hello, world!')\",\n",
    "    \"for i in range(5):\\n    print('Hello, world!')\",\n",
    "    \"def factorial(n):\\n    if n == 0:\\n        return 1\\n    else:\\n        return n * factorial(n-1)\"\n",
    "]\n",
    "\n",
    "cpp_examples = [\n",
    "    \"#include <iostream>\\nint main() { std::cout << 'Hello, world!' << std::endl; return 0; }\",\n",
    "    \"#include <iostream>\\nint main() { for (int i = 0; i < 5; ++i) { std::cout << 'Hello, world!' << std::endl; } return 0; }\",\n",
    "    \"#include <iostream>\\nint factorial(int n) { return n == 0 ? 1 : n * factorial(n-1); }\\nint main() { std::cout << factorial(5) << std::endl; return 0; }\"\n",
    "]\n",
    "\n",
    "javascript_examples = [\n",
    "    \"console.log('Hello, world!');\",\n",
    "    \"for (let i = 0; i < 5; i++) {\\n    console.log('Hello, world!');\\n}\",\n",
    "    \"function factorial(n) {\\n    return n === 0 ? 1 : n * factorial(n - 1);\\n}\\nconsole.log(factorial(5));\"\n",
    "]"
   ],
   "metadata": {
    "collapsed": false
   }
  },
  {
   "cell_type": "code",
   "execution_count": 18,
   "outputs": [],
   "source": [
    "for i in range(0, 3):\n",
    "    filename = f\"python_{i + 1}.txt\"\n",
    "    content = python_examples[i]\n",
    "    with open(filename, 'w') as file:\n",
    "        file.write(content)\n",
    "\n",
    "for i in range(0, 3):\n",
    "    filename = f\"cpp_{i + 1}.txt\"\n",
    "    content = cpp_examples[i]\n",
    "    with open(filename, 'w') as file:\n",
    "        file.write(content)\n",
    "\n",
    "for i in range(0, 3):\n",
    "    filename = f\"js_{i + 1}.txt\"\n",
    "    content = javascript_examples[i]\n",
    "    with open(filename, 'w') as file:\n",
    "        file.write(content)"
   ],
   "metadata": {
    "collapsed": false
   }
  },
  {
   "cell_type": "code",
   "execution_count": 19,
   "outputs": [
    {
     "name": "stdout",
     "output_type": "stream",
     "text": [
      "python\r\n"
     ]
    }
   ],
   "source": [
    "!python tg_main.py python_1.txt"
   ],
   "metadata": {
    "collapsed": false
   }
  },
  {
   "cell_type": "code",
   "execution_count": 20,
   "outputs": [
    {
     "name": "stdout",
     "output_type": "stream",
     "text": [
      "python\r\n"
     ]
    }
   ],
   "source": [
    "!python tg_main.py python_2.txt"
   ],
   "metadata": {
    "collapsed": false
   }
  },
  {
   "cell_type": "code",
   "execution_count": 21,
   "outputs": [
    {
     "name": "stdout",
     "output_type": "stream",
     "text": [
      "cpp\r\n"
     ]
    }
   ],
   "source": [
    "!python tg_main.py python_3.txt"
   ],
   "metadata": {
    "collapsed": false
   }
  },
  {
   "cell_type": "code",
   "execution_count": 22,
   "outputs": [
    {
     "name": "stdout",
     "output_type": "stream",
     "text": [
      "cpp\r\n"
     ]
    }
   ],
   "source": [
    "!python tg_main.py cpp_1.txt"
   ],
   "metadata": {
    "collapsed": false
   }
  },
  {
   "cell_type": "code",
   "execution_count": 23,
   "outputs": [
    {
     "name": "stdout",
     "output_type": "stream",
     "text": [
      "cpp\r\n"
     ]
    }
   ],
   "source": [
    "!python tg_main.py cpp_2.txt"
   ],
   "metadata": {
    "collapsed": false
   }
  },
  {
   "cell_type": "code",
   "execution_count": 24,
   "outputs": [
    {
     "name": "stdout",
     "output_type": "stream",
     "text": [
      "cpp\r\n"
     ]
    }
   ],
   "source": [
    "!python tg_main.py cpp_3.txt"
   ],
   "metadata": {
    "collapsed": false
   }
  },
  {
   "cell_type": "code",
   "execution_count": 25,
   "outputs": [
    {
     "name": "stdout",
     "output_type": "stream",
     "text": [
      "javascript\r\n"
     ]
    }
   ],
   "source": [
    "!python tg_main.py js_1.txt"
   ],
   "metadata": {
    "collapsed": false
   }
  },
  {
   "cell_type": "code",
   "execution_count": 26,
   "outputs": [
    {
     "name": "stdout",
     "output_type": "stream",
     "text": [
      "javascript\r\n"
     ]
    }
   ],
   "source": [
    "!python tg_main.py js_2.txt"
   ],
   "metadata": {
    "collapsed": false
   }
  },
  {
   "cell_type": "code",
   "execution_count": 27,
   "outputs": [
    {
     "name": "stdout",
     "output_type": "stream",
     "text": [
      "javascript\r\n"
     ]
    }
   ],
   "source": [
    "!python tg_main.py js_3.txt"
   ],
   "metadata": {
    "collapsed": false
   }
  },
  {
   "cell_type": "markdown",
   "source": [
    "с 8/9 модель справилась"
   ],
   "metadata": {
    "collapsed": false
   }
  },
  {
   "cell_type": "markdown",
   "source": [
    "## Medium\n",
    "\n",
    "Количество языков расширяется до 10\n",
    "\n",
    "- Python\n",
    "- C++\n",
    "- JavaScript\n",
    "- Java\n",
    "- Yaml\n",
    "- Bash\n",
    "- Markdown\n",
    "- C\n",
    "- Kotlin\n",
    "- Haskell\n",
    "\n",
    "Какие выводы можно сделать по данным?"
   ],
   "metadata": {
    "collapsed": false
   }
  },
  {
   "cell_type": "markdown",
   "source": [
    "добавим еще 7 языков\n",
    "\n",
    "- [Java](https://t.me/javastart)\n",
    "- [Yaml](https://t.me/docker_ru)\n",
    "- [Bash](https://t.me/bashdays)\n",
    "- [Markdown]()\n",
    "- [C](https://t.me/cppproglib)\n",
    "- [Kotlin](https://t.me/kotlin_lang)\n",
    "- [Haskell](https://t.me/haskellru)\n",
    "\n",
    "\n"
   ],
   "metadata": {
    "collapsed": false
   }
  },
  {
   "cell_type": "code",
   "execution_count": 28,
   "outputs": [
    {
     "data": {
      "text/plain": "                                                     text code  is_code  \\\n0                                                     NaN  NaN        0   \n1                                                     NaN  NaN        0   \n2                                                     NaN  NaN        0   \n3                                                     NaN  NaN        0   \n4                                                     NaN  NaN        0   \n...                                                   ...  ...      ...   \n499343       Invalid initial heap size: -Xms580M -Xmx580M  NaN        0   \n499344                               даже 1гб не захотел.  NaN        0   \n499345                                                NaN  NaN        0   \n499346                                    Так тут нет 1гб  NaN        0   \n499347  короче проблема началась, когда мне пришлось и...  NaN        0   \n\n       language  \n0          text  \n1          text  \n2          text  \n3          text  \n4          text  \n...         ...  \n499343     text  \n499344     text  \n499345     text  \n499346     text  \n499347     text  \n\n[499348 rows x 4 columns]",
      "text/html": "<div>\n<style scoped>\n    .dataframe tbody tr th:only-of-type {\n        vertical-align: middle;\n    }\n\n    .dataframe tbody tr th {\n        vertical-align: top;\n    }\n\n    .dataframe thead th {\n        text-align: right;\n    }\n</style>\n<table border=\"1\" class=\"dataframe\">\n  <thead>\n    <tr style=\"text-align: right;\">\n      <th></th>\n      <th>text</th>\n      <th>code</th>\n      <th>is_code</th>\n      <th>language</th>\n    </tr>\n  </thead>\n  <tbody>\n    <tr>\n      <th>0</th>\n      <td>NaN</td>\n      <td>NaN</td>\n      <td>0</td>\n      <td>text</td>\n    </tr>\n    <tr>\n      <th>1</th>\n      <td>NaN</td>\n      <td>NaN</td>\n      <td>0</td>\n      <td>text</td>\n    </tr>\n    <tr>\n      <th>2</th>\n      <td>NaN</td>\n      <td>NaN</td>\n      <td>0</td>\n      <td>text</td>\n    </tr>\n    <tr>\n      <th>3</th>\n      <td>NaN</td>\n      <td>NaN</td>\n      <td>0</td>\n      <td>text</td>\n    </tr>\n    <tr>\n      <th>4</th>\n      <td>NaN</td>\n      <td>NaN</td>\n      <td>0</td>\n      <td>text</td>\n    </tr>\n    <tr>\n      <th>...</th>\n      <td>...</td>\n      <td>...</td>\n      <td>...</td>\n      <td>...</td>\n    </tr>\n    <tr>\n      <th>499343</th>\n      <td>Invalid initial heap size: -Xms580M -Xmx580M</td>\n      <td>NaN</td>\n      <td>0</td>\n      <td>text</td>\n    </tr>\n    <tr>\n      <th>499344</th>\n      <td>даже 1гб не захотел.</td>\n      <td>NaN</td>\n      <td>0</td>\n      <td>text</td>\n    </tr>\n    <tr>\n      <th>499345</th>\n      <td>NaN</td>\n      <td>NaN</td>\n      <td>0</td>\n      <td>text</td>\n    </tr>\n    <tr>\n      <th>499346</th>\n      <td>Так тут нет 1гб</td>\n      <td>NaN</td>\n      <td>0</td>\n      <td>text</td>\n    </tr>\n    <tr>\n      <th>499347</th>\n      <td>короче проблема началась, когда мне пришлось и...</td>\n      <td>NaN</td>\n      <td>0</td>\n      <td>text</td>\n    </tr>\n  </tbody>\n</table>\n<p>499348 rows × 4 columns</p>\n</div>"
     },
     "execution_count": 28,
     "metadata": {},
     "output_type": "execute_result"
    }
   ],
   "source": [
    "folder_path = 'output_messages_java/java_0'\n",
    "\n",
    "dfs = []\n",
    "\n",
    "for i in range(0, 250):\n",
    "    folder_path = f'output_messages_java/java_{i}'\n",
    "    for file_name in os.listdir(folder_path):\n",
    "        if file_name.endswith('.json'):\n",
    "            file_path = os.path.join(folder_path, file_name)\n",
    "            with open(file_path, 'r', encoding='utf-8') as f:\n",
    "                data = json.load(f)\n",
    "            df_rows = []\n",
    "            for message_data in data:\n",
    "                text, code, is_code, language = extract_info_from_json(message_data, 'java')\n",
    "                df_rows.append([text, code, is_code, language])\n",
    "\n",
    "            df = pd.DataFrame(df_rows, columns=['text', 'code', 'is_code', 'language'])\n",
    "            dfs.append(df)\n",
    "\n",
    "final_df_java = pd.concat(dfs, ignore_index=True)\n",
    "\n",
    "final_df_java\n"
   ],
   "metadata": {
    "collapsed": false
   }
  },
  {
   "cell_type": "code",
   "execution_count": 29,
   "outputs": [
    {
     "data": {
      "text/plain": "                                                     text  \\\n607                                                   NaN   \n1239                                                    ?   \n1290                       \"интерфейсная ссылка\" это так?   \n4614    Интересно то, что в LinkedList вместо Entry ис...   \n5125                                                  NaN   \n...                                                   ...   \n498699  Всем привет, такая небольшая проблемка, есть к...   \n498919                                                NaN   \n499047                                                NaN   \n499100                                                NaN   \n499104                                                NaN   \n\n                                                     code  is_code language  \n607     newDevices\\n.stream()\\n.flatMap(d -> supported...        1     java  \n1239                                                    /        1     java  \n1290    List<String> list; //ссылка?\\nlist = new Array...        1     java  \n4614    * Implementation note.  A previous version of ...        1     java  \n5125    public class MyHashMap<K,V> extends HashMap<K,...        1     java  \n...                                                   ...      ...      ...  \n498699  @Data\\npublic class User {\\n\\n    private Long...        1     java  \n498919  public static void main(String[] args) {\\n    ...        1     java  \n499047  return CompletableFuture.supplyAsync(() -> {\\n...        1     java  \n499100  while (true) {\\n  System.out.print(\"reachable ...        1     java  \n499104  public class Worker {\\n    private String name...        1     java  \n\n[3809 rows x 4 columns]",
      "text/html": "<div>\n<style scoped>\n    .dataframe tbody tr th:only-of-type {\n        vertical-align: middle;\n    }\n\n    .dataframe tbody tr th {\n        vertical-align: top;\n    }\n\n    .dataframe thead th {\n        text-align: right;\n    }\n</style>\n<table border=\"1\" class=\"dataframe\">\n  <thead>\n    <tr style=\"text-align: right;\">\n      <th></th>\n      <th>text</th>\n      <th>code</th>\n      <th>is_code</th>\n      <th>language</th>\n    </tr>\n  </thead>\n  <tbody>\n    <tr>\n      <th>607</th>\n      <td>NaN</td>\n      <td>newDevices\\n.stream()\\n.flatMap(d -&gt; supported...</td>\n      <td>1</td>\n      <td>java</td>\n    </tr>\n    <tr>\n      <th>1239</th>\n      <td>?</td>\n      <td>/</td>\n      <td>1</td>\n      <td>java</td>\n    </tr>\n    <tr>\n      <th>1290</th>\n      <td>\"интерфейсная ссылка\" это так?</td>\n      <td>List&lt;String&gt; list; //ссылка?\\nlist = new Array...</td>\n      <td>1</td>\n      <td>java</td>\n    </tr>\n    <tr>\n      <th>4614</th>\n      <td>Интересно то, что в LinkedList вместо Entry ис...</td>\n      <td>* Implementation note.  A previous version of ...</td>\n      <td>1</td>\n      <td>java</td>\n    </tr>\n    <tr>\n      <th>5125</th>\n      <td>NaN</td>\n      <td>public class MyHashMap&lt;K,V&gt; extends HashMap&lt;K,...</td>\n      <td>1</td>\n      <td>java</td>\n    </tr>\n    <tr>\n      <th>...</th>\n      <td>...</td>\n      <td>...</td>\n      <td>...</td>\n      <td>...</td>\n    </tr>\n    <tr>\n      <th>498699</th>\n      <td>Всем привет, такая небольшая проблемка, есть к...</td>\n      <td>@Data\\npublic class User {\\n\\n    private Long...</td>\n      <td>1</td>\n      <td>java</td>\n    </tr>\n    <tr>\n      <th>498919</th>\n      <td>NaN</td>\n      <td>public static void main(String[] args) {\\n    ...</td>\n      <td>1</td>\n      <td>java</td>\n    </tr>\n    <tr>\n      <th>499047</th>\n      <td>NaN</td>\n      <td>return CompletableFuture.supplyAsync(() -&gt; {\\n...</td>\n      <td>1</td>\n      <td>java</td>\n    </tr>\n    <tr>\n      <th>499100</th>\n      <td>NaN</td>\n      <td>while (true) {\\n  System.out.print(\"reachable ...</td>\n      <td>1</td>\n      <td>java</td>\n    </tr>\n    <tr>\n      <th>499104</th>\n      <td>NaN</td>\n      <td>public class Worker {\\n    private String name...</td>\n      <td>1</td>\n      <td>java</td>\n    </tr>\n  </tbody>\n</table>\n<p>3809 rows × 4 columns</p>\n</div>"
     },
     "execution_count": 29,
     "metadata": {},
     "output_type": "execute_result"
    }
   ],
   "source": [
    "final_df_java[final_df_java['is_code'] == 1]"
   ],
   "metadata": {
    "collapsed": false
   }
  },
  {
   "cell_type": "markdown",
   "source": [],
   "metadata": {
    "collapsed": false
   }
  },
  {
   "cell_type": "code",
   "execution_count": 30,
   "outputs": [
    {
     "data": {
      "text/plain": "                                                  text  \\\n0                                                  NaN   \n1    Утилиты: \\n Таблицы: \\n Скрипты: \\n Мониторинг...   \n2    Подвернулась интересная утилита Spacer работаю...   \n3    Табличка консольных инструментов для наблюдени...   \n4    Перво-наперво что мы делаем при инцидентах с с...   \n..                                                 ...   \n258  Всех с понедельником! Начнем с простого, а веч...   \n259  📌\\n\\nХотите узнать больше про масштабирование ...   \n260  Абракадабра! Сегодня обсудим «сосо́чки» и их в...   \n261  Немного фактов:\\n▫️ Цена мастер-ноды: 0,00 ₽/м...   \n262  Здравия желаю! Сегодня расскажу про прикол с b...   \n\n                                                  code  is_code language  \n0                                                  NaN        0     text  \n1                                                  NaN        0     text  \n2            tail -f /var/log/nginx/error.log | spacer        1     bash  \n3                                                  NaN        0     text  \n4                                       # cd /\\n# ncdu        1     bash  \n..                                                 ...      ...      ...  \n258                                                NaN        0     text  \n259                                                NaN        0     text  \n260  libbashdays.so -> libbashdays.so.1\\nlibbashday...        1     bash  \n261                                                NaN        0     text  \n262                                                NaN        0     text  \n\n[263 rows x 4 columns]",
      "text/html": "<div>\n<style scoped>\n    .dataframe tbody tr th:only-of-type {\n        vertical-align: middle;\n    }\n\n    .dataframe tbody tr th {\n        vertical-align: top;\n    }\n\n    .dataframe thead th {\n        text-align: right;\n    }\n</style>\n<table border=\"1\" class=\"dataframe\">\n  <thead>\n    <tr style=\"text-align: right;\">\n      <th></th>\n      <th>text</th>\n      <th>code</th>\n      <th>is_code</th>\n      <th>language</th>\n    </tr>\n  </thead>\n  <tbody>\n    <tr>\n      <th>0</th>\n      <td>NaN</td>\n      <td>NaN</td>\n      <td>0</td>\n      <td>text</td>\n    </tr>\n    <tr>\n      <th>1</th>\n      <td>Утилиты: \\n Таблицы: \\n Скрипты: \\n Мониторинг...</td>\n      <td>NaN</td>\n      <td>0</td>\n      <td>text</td>\n    </tr>\n    <tr>\n      <th>2</th>\n      <td>Подвернулась интересная утилита Spacer работаю...</td>\n      <td>tail -f /var/log/nginx/error.log | spacer</td>\n      <td>1</td>\n      <td>bash</td>\n    </tr>\n    <tr>\n      <th>3</th>\n      <td>Табличка консольных инструментов для наблюдени...</td>\n      <td>NaN</td>\n      <td>0</td>\n      <td>text</td>\n    </tr>\n    <tr>\n      <th>4</th>\n      <td>Перво-наперво что мы делаем при инцидентах с с...</td>\n      <td># cd /\\n# ncdu</td>\n      <td>1</td>\n      <td>bash</td>\n    </tr>\n    <tr>\n      <th>...</th>\n      <td>...</td>\n      <td>...</td>\n      <td>...</td>\n      <td>...</td>\n    </tr>\n    <tr>\n      <th>258</th>\n      <td>Всех с понедельником! Начнем с простого, а веч...</td>\n      <td>NaN</td>\n      <td>0</td>\n      <td>text</td>\n    </tr>\n    <tr>\n      <th>259</th>\n      <td>📌\\n\\nХотите узнать больше про масштабирование ...</td>\n      <td>NaN</td>\n      <td>0</td>\n      <td>text</td>\n    </tr>\n    <tr>\n      <th>260</th>\n      <td>Абракадабра! Сегодня обсудим «сосо́чки» и их в...</td>\n      <td>libbashdays.so -&gt; libbashdays.so.1\\nlibbashday...</td>\n      <td>1</td>\n      <td>bash</td>\n    </tr>\n    <tr>\n      <th>261</th>\n      <td>Немного фактов:\\n▫️ Цена мастер-ноды: 0,00 ₽/м...</td>\n      <td>NaN</td>\n      <td>0</td>\n      <td>text</td>\n    </tr>\n    <tr>\n      <th>262</th>\n      <td>Здравия желаю! Сегодня расскажу про прикол с b...</td>\n      <td>NaN</td>\n      <td>0</td>\n      <td>text</td>\n    </tr>\n  </tbody>\n</table>\n<p>263 rows × 4 columns</p>\n</div>"
     },
     "execution_count": 30,
     "metadata": {},
     "output_type": "execute_result"
    }
   ],
   "source": [
    "folder_path = 'output_messages_bash/bash_0'\n",
    "\n",
    "dfs = []\n",
    "\n",
    "for i in range(0, 1):\n",
    "    folder_path = f'output_messages_bash/bash_{i}'\n",
    "    for file_name in os.listdir(folder_path):\n",
    "        if file_name.endswith('.json'):\n",
    "            file_path = os.path.join(folder_path, file_name)\n",
    "            with open(file_path, 'r', encoding='utf-8') as f:\n",
    "                data = json.load(f)\n",
    "            df_rows = []\n",
    "            for message_data in data:\n",
    "                text, code, is_code, language = extract_info_from_json(message_data, 'bash')\n",
    "                df_rows.append([text, code, is_code, language])\n",
    "\n",
    "            df = pd.DataFrame(df_rows, columns=['text', 'code', 'is_code', 'language'])\n",
    "            dfs.append(df)\n",
    "\n",
    "final_df_bash = pd.concat(dfs, ignore_index=True)\n",
    "\n",
    "final_df_bash\n"
   ],
   "metadata": {
    "collapsed": false
   }
  },
  {
   "cell_type": "code",
   "execution_count": 31,
   "outputs": [
    {
     "data": {
      "text/plain": "                                                   text code  is_code language\n0                                                   NaN  NaN        0     text\n1     Хотите начать изучать C++, но не знаете с чего...  NaN        0     text\n2     C++ — это гигант в мире программирования, кото...  NaN        0     text\n3     Когда вы только узнали о программировании, вы ...  NaN        0     text\n4     Возможно, это видео — не пример лучшего мастер...  NaN        0     text\n...                                                 ...  ...      ...      ...\n4206                                                NaN  NaN        0     text\n4207  💸📊 \\n\\nБлагодаря открытым данным с сайта Хабр ...  NaN        0     text\n4208  Ждём вас на открытом практическом уроке «» от ...  NaN        0     text\n4209                                                NaN  NaN        0     text\n4210  🤯 \\n\\nВ 2010 году пользователь Stack Overflow ...  NaN        0     text\n\n[4211 rows x 4 columns]",
      "text/html": "<div>\n<style scoped>\n    .dataframe tbody tr th:only-of-type {\n        vertical-align: middle;\n    }\n\n    .dataframe tbody tr th {\n        vertical-align: top;\n    }\n\n    .dataframe thead th {\n        text-align: right;\n    }\n</style>\n<table border=\"1\" class=\"dataframe\">\n  <thead>\n    <tr style=\"text-align: right;\">\n      <th></th>\n      <th>text</th>\n      <th>code</th>\n      <th>is_code</th>\n      <th>language</th>\n    </tr>\n  </thead>\n  <tbody>\n    <tr>\n      <th>0</th>\n      <td>NaN</td>\n      <td>NaN</td>\n      <td>0</td>\n      <td>text</td>\n    </tr>\n    <tr>\n      <th>1</th>\n      <td>Хотите начать изучать C++, но не знаете с чего...</td>\n      <td>NaN</td>\n      <td>0</td>\n      <td>text</td>\n    </tr>\n    <tr>\n      <th>2</th>\n      <td>C++ — это гигант в мире программирования, кото...</td>\n      <td>NaN</td>\n      <td>0</td>\n      <td>text</td>\n    </tr>\n    <tr>\n      <th>3</th>\n      <td>Когда вы только узнали о программировании, вы ...</td>\n      <td>NaN</td>\n      <td>0</td>\n      <td>text</td>\n    </tr>\n    <tr>\n      <th>4</th>\n      <td>Возможно, это видео — не пример лучшего мастер...</td>\n      <td>NaN</td>\n      <td>0</td>\n      <td>text</td>\n    </tr>\n    <tr>\n      <th>...</th>\n      <td>...</td>\n      <td>...</td>\n      <td>...</td>\n      <td>...</td>\n    </tr>\n    <tr>\n      <th>4206</th>\n      <td>NaN</td>\n      <td>NaN</td>\n      <td>0</td>\n      <td>text</td>\n    </tr>\n    <tr>\n      <th>4207</th>\n      <td>💸📊 \\n\\nБлагодаря открытым данным с сайта Хабр ...</td>\n      <td>NaN</td>\n      <td>0</td>\n      <td>text</td>\n    </tr>\n    <tr>\n      <th>4208</th>\n      <td>Ждём вас на открытом практическом уроке «» от ...</td>\n      <td>NaN</td>\n      <td>0</td>\n      <td>text</td>\n    </tr>\n    <tr>\n      <th>4209</th>\n      <td>NaN</td>\n      <td>NaN</td>\n      <td>0</td>\n      <td>text</td>\n    </tr>\n    <tr>\n      <th>4210</th>\n      <td>🤯 \\n\\nВ 2010 году пользователь Stack Overflow ...</td>\n      <td>NaN</td>\n      <td>0</td>\n      <td>text</td>\n    </tr>\n  </tbody>\n</table>\n<p>4211 rows × 4 columns</p>\n</div>"
     },
     "execution_count": 31,
     "metadata": {},
     "output_type": "execute_result"
    }
   ],
   "source": [
    "def extract_info_from_json_c(json_data):\n",
    "    text = ''\n",
    "    code = ''\n",
    "    language = 'text'\n",
    "    is_code = 0\n",
    "    is_text = 0\n",
    "\n",
    "    if 'text' in json_data:\n",
    "        for item in json_data['text_entities']:\n",
    "            if isinstance(item, dict) and 'language' in item and item['language'] == 'c':\n",
    "                code += item['text']\n",
    "                language = 'c'\n",
    "                is_code = 1\n",
    "            elif isinstance(item, dict) and 'type' in item and item['type'] == 'plain':\n",
    "                if item['text'] != '':\n",
    "                    is_text = 1\n",
    "                text += item['text']\n",
    "    return text.strip() if is_text else np.nan, code.strip() if is_code else np.nan, is_code, language\n",
    "\n",
    "\n",
    "folder_path = 'output_messages_c/c_0'\n",
    "\n",
    "dfs = []\n",
    "\n",
    "for i in range(0, 3):\n",
    "    folder_path = f'output_messages_c/c_{i}'\n",
    "    for file_name in os.listdir(folder_path):\n",
    "        if file_name.endswith('.json'):\n",
    "            file_path = os.path.join(folder_path, file_name)\n",
    "            with open(file_path, 'r', encoding='utf-8') as f:\n",
    "                data = json.load(f)\n",
    "            df_rows = []\n",
    "            for message_data in data:\n",
    "                text, code, is_code, language = extract_info_from_json_c(message_data)\n",
    "                df_rows.append([text, code, is_code, language])\n",
    "            df = pd.DataFrame(df_rows, columns=['text', 'code', 'is_code', 'language'])\n",
    "            dfs.append(df)\n",
    "\n",
    "final_df_c = pd.concat(dfs, ignore_index=True)\n",
    "\n",
    "final_df_c\n"
   ],
   "metadata": {
    "collapsed": false
   }
  },
  {
   "cell_type": "code",
   "execution_count": 32,
   "outputs": [
    {
     "data": {
      "text/plain": "                                                     text code  is_code  \\\n0                                                     NaN  NaN        0   \n1                                                    вуху  NaN        0   \n2                                   main = putStrLn \"Hi!\"  NaN        0   \n3                                                     NaN  NaN        0   \n4                                               Ворвался.  NaN        0   \n...                                                   ...  ...      ...   \n428473                      Ну тады ой! Запись лочит базу  NaN        0   \n428474  dbpipe решает эту проблему путем создания очер...  NaN        0   \n428475        Можно просто иметь пул из одного коннекшена  NaN        0   \n428476                                              MVar?  NaN        0   \n428477                                          нет, Pool  NaN        0   \n\n       language  \n0          text  \n1          text  \n2          text  \n3          text  \n4          text  \n...         ...  \n428473     text  \n428474     text  \n428475     text  \n428476     text  \n428477     text  \n\n[428478 rows x 4 columns]",
      "text/html": "<div>\n<style scoped>\n    .dataframe tbody tr th:only-of-type {\n        vertical-align: middle;\n    }\n\n    .dataframe tbody tr th {\n        vertical-align: top;\n    }\n\n    .dataframe thead th {\n        text-align: right;\n    }\n</style>\n<table border=\"1\" class=\"dataframe\">\n  <thead>\n    <tr style=\"text-align: right;\">\n      <th></th>\n      <th>text</th>\n      <th>code</th>\n      <th>is_code</th>\n      <th>language</th>\n    </tr>\n  </thead>\n  <tbody>\n    <tr>\n      <th>0</th>\n      <td>NaN</td>\n      <td>NaN</td>\n      <td>0</td>\n      <td>text</td>\n    </tr>\n    <tr>\n      <th>1</th>\n      <td>вуху</td>\n      <td>NaN</td>\n      <td>0</td>\n      <td>text</td>\n    </tr>\n    <tr>\n      <th>2</th>\n      <td>main = putStrLn \"Hi!\"</td>\n      <td>NaN</td>\n      <td>0</td>\n      <td>text</td>\n    </tr>\n    <tr>\n      <th>3</th>\n      <td>NaN</td>\n      <td>NaN</td>\n      <td>0</td>\n      <td>text</td>\n    </tr>\n    <tr>\n      <th>4</th>\n      <td>Ворвался.</td>\n      <td>NaN</td>\n      <td>0</td>\n      <td>text</td>\n    </tr>\n    <tr>\n      <th>...</th>\n      <td>...</td>\n      <td>...</td>\n      <td>...</td>\n      <td>...</td>\n    </tr>\n    <tr>\n      <th>428473</th>\n      <td>Ну тады ой! Запись лочит базу</td>\n      <td>NaN</td>\n      <td>0</td>\n      <td>text</td>\n    </tr>\n    <tr>\n      <th>428474</th>\n      <td>dbpipe решает эту проблему путем создания очер...</td>\n      <td>NaN</td>\n      <td>0</td>\n      <td>text</td>\n    </tr>\n    <tr>\n      <th>428475</th>\n      <td>Можно просто иметь пул из одного коннекшена</td>\n      <td>NaN</td>\n      <td>0</td>\n      <td>text</td>\n    </tr>\n    <tr>\n      <th>428476</th>\n      <td>MVar?</td>\n      <td>NaN</td>\n      <td>0</td>\n      <td>text</td>\n    </tr>\n    <tr>\n      <th>428477</th>\n      <td>нет, Pool</td>\n      <td>NaN</td>\n      <td>0</td>\n      <td>text</td>\n    </tr>\n  </tbody>\n</table>\n<p>428478 rows × 4 columns</p>\n</div>"
     },
     "execution_count": 32,
     "metadata": {},
     "output_type": "execute_result"
    }
   ],
   "source": [
    "\n",
    "folder_path = 'output_messages_haskell/haskell_0'\n",
    "\n",
    "dfs = []\n",
    "\n",
    "for i in range(0, 215):\n",
    "    folder_path = f'output_messages_haskell/haskell_{i}'\n",
    "    for file_name in os.listdir(folder_path):\n",
    "        if file_name.endswith('.json'):\n",
    "            file_path = os.path.join(folder_path, file_name)\n",
    "            with open(file_path, 'r', encoding='utf-8') as f:\n",
    "                data = json.load(f)\n",
    "            df_rows = []\n",
    "            for message_data in data:\n",
    "                text, code, is_code, language = extract_info_from_json(message_data, 'haskell')\n",
    "                df_rows.append([text, code, is_code, language])\n",
    "\n",
    "            df = pd.DataFrame(df_rows, columns=['text', 'code', 'is_code', 'language'])\n",
    "            dfs.append(df)\n",
    "\n",
    "final_df_haskell = pd.concat(dfs, ignore_index=True)\n",
    "\n",
    "final_df_haskell\n"
   ],
   "metadata": {
    "collapsed": false
   }
  },
  {
   "cell_type": "code",
   "execution_count": 33,
   "outputs": [
    {
     "data": {
      "text/plain": "                                                     text  \\\n175                                                   NaN   \n199                                 here is some  sample:   \n667     Я так понимаю GHC когда решает, какой будет me...   \n900                                                   NaN   \n939                                                   NaN   \n...                                                   ...   \n428374                                                NaN   \n428384                              можно написать макрос   \n428405                                                NaN   \n428452                                                NaN   \n428454                                                NaN   \n\n                                                     code  is_code language  \n175                  ну как нормальная...\\nхоть какая-то.        1  haskell  \n199                                        let x = x in x        1  haskell  \n667            data Some f where\\n  Some :: f a -> Some f        1  haskell  \n900     Prelude> :t not . not\\nnot . not :: Bool -> Bo...        1  haskell  \n939     Prelude> :info (->)\\ndata (->) a b   -- Define...        1  haskell  \n...                                                   ...      ...      ...  \n428374  ( Traversable t\\n, Applicative f\\n) => ( a -> ...        1  haskell  \n428384  deriveEverythingINeedVia ''MyType ''OtherType\\...        1  haskell  \n428405  haskellPackages =\\n  pkgs.haskell.packages.${g...        1  haskell  \n428452           Plugin Telegram failed with: <<timeout>>        1  haskell  \n428454  take 10 $ tail $ iterate\\n    ( x ->\\n        ...        1  haskell  \n\n[7107 rows x 4 columns]",
      "text/html": "<div>\n<style scoped>\n    .dataframe tbody tr th:only-of-type {\n        vertical-align: middle;\n    }\n\n    .dataframe tbody tr th {\n        vertical-align: top;\n    }\n\n    .dataframe thead th {\n        text-align: right;\n    }\n</style>\n<table border=\"1\" class=\"dataframe\">\n  <thead>\n    <tr style=\"text-align: right;\">\n      <th></th>\n      <th>text</th>\n      <th>code</th>\n      <th>is_code</th>\n      <th>language</th>\n    </tr>\n  </thead>\n  <tbody>\n    <tr>\n      <th>175</th>\n      <td>NaN</td>\n      <td>ну как нормальная...\\nхоть какая-то.</td>\n      <td>1</td>\n      <td>haskell</td>\n    </tr>\n    <tr>\n      <th>199</th>\n      <td>here is some  sample:</td>\n      <td>let x = x in x</td>\n      <td>1</td>\n      <td>haskell</td>\n    </tr>\n    <tr>\n      <th>667</th>\n      <td>Я так понимаю GHC когда решает, какой будет me...</td>\n      <td>data Some f where\\n  Some :: f a -&gt; Some f</td>\n      <td>1</td>\n      <td>haskell</td>\n    </tr>\n    <tr>\n      <th>900</th>\n      <td>NaN</td>\n      <td>Prelude&gt; :t not . not\\nnot . not :: Bool -&gt; Bo...</td>\n      <td>1</td>\n      <td>haskell</td>\n    </tr>\n    <tr>\n      <th>939</th>\n      <td>NaN</td>\n      <td>Prelude&gt; :info (-&gt;)\\ndata (-&gt;) a b   -- Define...</td>\n      <td>1</td>\n      <td>haskell</td>\n    </tr>\n    <tr>\n      <th>...</th>\n      <td>...</td>\n      <td>...</td>\n      <td>...</td>\n      <td>...</td>\n    </tr>\n    <tr>\n      <th>428374</th>\n      <td>NaN</td>\n      <td>( Traversable t\\n, Applicative f\\n) =&gt; ( a -&gt; ...</td>\n      <td>1</td>\n      <td>haskell</td>\n    </tr>\n    <tr>\n      <th>428384</th>\n      <td>можно написать макрос</td>\n      <td>deriveEverythingINeedVia ''MyType ''OtherType\\...</td>\n      <td>1</td>\n      <td>haskell</td>\n    </tr>\n    <tr>\n      <th>428405</th>\n      <td>NaN</td>\n      <td>haskellPackages =\\n  pkgs.haskell.packages.${g...</td>\n      <td>1</td>\n      <td>haskell</td>\n    </tr>\n    <tr>\n      <th>428452</th>\n      <td>NaN</td>\n      <td>Plugin Telegram failed with: &lt;&lt;timeout&gt;&gt;</td>\n      <td>1</td>\n      <td>haskell</td>\n    </tr>\n    <tr>\n      <th>428454</th>\n      <td>NaN</td>\n      <td>take 10 $ tail $ iterate\\n    ( x -&gt;\\n        ...</td>\n      <td>1</td>\n      <td>haskell</td>\n    </tr>\n  </tbody>\n</table>\n<p>7107 rows × 4 columns</p>\n</div>"
     },
     "execution_count": 33,
     "metadata": {},
     "output_type": "execute_result"
    }
   ],
   "source": [
    "final_df_haskell[final_df_haskell['is_code'] == 1]"
   ],
   "metadata": {
    "collapsed": false
   }
  },
  {
   "cell_type": "code",
   "execution_count": 34,
   "outputs": [
    {
     "data": {
      "text/plain": "                                                     text code  is_code  \\\n0                                                     NaN  NaN        0   \n1                  все что надо было - капиБаруха в конфу  NaN        0   \n2       А если ерьезно, что ты тут собираешься обсужда...  NaN        0   \n3                                   Да просто пусть будет  NaN        0   \n4                   в jvm руме как-то много хейта котлина  NaN        0   \n...                                                   ...  ...      ...   \n307018                 Для WASI вообще хоть что-то есть?)  NaN        0   \n307019    Пока видел только голый стартер проджект с дено  NaN        0   \n307020  Ответный провокационный вопрос: WASM вне брауз...  NaN        0   \n307021                 Для WASI вообще хоть что-то есть?)  NaN        0   \n307022  Ну, поскольку там все в развивающемся состояни...  NaN        0   \n\n       language  \n0          text  \n1          text  \n2          text  \n3          text  \n4          text  \n...         ...  \n307018     text  \n307019     text  \n307020     text  \n307021     text  \n307022     text  \n\n[307023 rows x 4 columns]",
      "text/html": "<div>\n<style scoped>\n    .dataframe tbody tr th:only-of-type {\n        vertical-align: middle;\n    }\n\n    .dataframe tbody tr th {\n        vertical-align: top;\n    }\n\n    .dataframe thead th {\n        text-align: right;\n    }\n</style>\n<table border=\"1\" class=\"dataframe\">\n  <thead>\n    <tr style=\"text-align: right;\">\n      <th></th>\n      <th>text</th>\n      <th>code</th>\n      <th>is_code</th>\n      <th>language</th>\n    </tr>\n  </thead>\n  <tbody>\n    <tr>\n      <th>0</th>\n      <td>NaN</td>\n      <td>NaN</td>\n      <td>0</td>\n      <td>text</td>\n    </tr>\n    <tr>\n      <th>1</th>\n      <td>все что надо было - капиБаруха в конфу</td>\n      <td>NaN</td>\n      <td>0</td>\n      <td>text</td>\n    </tr>\n    <tr>\n      <th>2</th>\n      <td>А если ерьезно, что ты тут собираешься обсужда...</td>\n      <td>NaN</td>\n      <td>0</td>\n      <td>text</td>\n    </tr>\n    <tr>\n      <th>3</th>\n      <td>Да просто пусть будет</td>\n      <td>NaN</td>\n      <td>0</td>\n      <td>text</td>\n    </tr>\n    <tr>\n      <th>4</th>\n      <td>в jvm руме как-то много хейта котлина</td>\n      <td>NaN</td>\n      <td>0</td>\n      <td>text</td>\n    </tr>\n    <tr>\n      <th>...</th>\n      <td>...</td>\n      <td>...</td>\n      <td>...</td>\n      <td>...</td>\n    </tr>\n    <tr>\n      <th>307018</th>\n      <td>Для WASI вообще хоть что-то есть?)</td>\n      <td>NaN</td>\n      <td>0</td>\n      <td>text</td>\n    </tr>\n    <tr>\n      <th>307019</th>\n      <td>Пока видел только голый стартер проджект с дено</td>\n      <td>NaN</td>\n      <td>0</td>\n      <td>text</td>\n    </tr>\n    <tr>\n      <th>307020</th>\n      <td>Ответный провокационный вопрос: WASM вне брауз...</td>\n      <td>NaN</td>\n      <td>0</td>\n      <td>text</td>\n    </tr>\n    <tr>\n      <th>307021</th>\n      <td>Для WASI вообще хоть что-то есть?)</td>\n      <td>NaN</td>\n      <td>0</td>\n      <td>text</td>\n    </tr>\n    <tr>\n      <th>307022</th>\n      <td>Ну, поскольку там все в развивающемся состояни...</td>\n      <td>NaN</td>\n      <td>0</td>\n      <td>text</td>\n    </tr>\n  </tbody>\n</table>\n<p>307023 rows × 4 columns</p>\n</div>"
     },
     "execution_count": 34,
     "metadata": {},
     "output_type": "execute_result"
    }
   ],
   "source": [
    "folder_path = 'output_messages_kotlin/kotlin_0'\n",
    "\n",
    "dfs = []\n",
    "\n",
    "for i in range(0, 154):\n",
    "    folder_path = f'output_messages_kotlin/kotlin_{i}'\n",
    "    for file_name in os.listdir(folder_path):\n",
    "        if file_name.endswith('.json'):\n",
    "            file_path = os.path.join(folder_path, file_name)\n",
    "            with open(file_path, 'r', encoding='utf-8') as f:\n",
    "                data = json.load(f)\n",
    "            df_rows = []\n",
    "            for message_data in data:\n",
    "                text, code, is_code, language = extract_info_from_json(message_data, 'kotlin')\n",
    "                df_rows.append([text, code, is_code, language])\n",
    "\n",
    "            df = pd.DataFrame(df_rows, columns=['text', 'code', 'is_code', 'language'])\n",
    "            dfs.append(df)\n",
    "\n",
    "final_df_kotlin = pd.concat(dfs, ignore_index=True)\n",
    "\n",
    "final_df_kotlin\n"
   ],
   "metadata": {
    "collapsed": false
   }
  },
  {
   "cell_type": "code",
   "execution_count": 35,
   "outputs": [
    {
     "data": {
      "text/plain": "                                                     text  \\\n130                                                   NaN   \n494                                              vs \\n\\n?   \n754                                                   NaN   \n803                                               ну типа   \n815                                                   NaN   \n...                                                   ...   \n306998  Тест forEach показал\\nArrayList<Int> 2800ms\\nI...   \n306999  При этом меня удивил результат на чистом IntAr...   \n307002                                                NaN   \n307008                                                NaN   \n307013  Кажется я понял, что repeat вы рекомендовали в...   \n\n                                                     code  is_code language  \n130     typealias Length = Double\\ntypealias Weight = ...        1   kotlin  \n494     val adHoc = object {\\n    var x: Int = 0\\n    ...        1   kotlin  \n754     (let [people       (repeatedly 5 lvar)\\n      ...        1   kotlin  \n803      val isEmpty: Boolean\\n    get() = this.size == 0        1   kotlin  \n815     data class Obj(private val _name: String) {\\n ...        1   kotlin  \n...                                                   ...      ...      ...  \n306998  const val arrSize = 100\\nval arrayList = Array...        1   kotlin  \n306999  fun testForeachPrimitive(times: Int): Long {\\n...        1   kotlin  \n307002  Benchmark                            Mode  Cnt...        1   kotlin  \n307008  TestForeach.arrayListForeach         ss   10  ...        1   kotlin  \n307013  Benchmark                            Mode  Cnt...        1   kotlin  \n\n[5678 rows x 4 columns]",
      "text/html": "<div>\n<style scoped>\n    .dataframe tbody tr th:only-of-type {\n        vertical-align: middle;\n    }\n\n    .dataframe tbody tr th {\n        vertical-align: top;\n    }\n\n    .dataframe thead th {\n        text-align: right;\n    }\n</style>\n<table border=\"1\" class=\"dataframe\">\n  <thead>\n    <tr style=\"text-align: right;\">\n      <th></th>\n      <th>text</th>\n      <th>code</th>\n      <th>is_code</th>\n      <th>language</th>\n    </tr>\n  </thead>\n  <tbody>\n    <tr>\n      <th>130</th>\n      <td>NaN</td>\n      <td>typealias Length = Double\\ntypealias Weight = ...</td>\n      <td>1</td>\n      <td>kotlin</td>\n    </tr>\n    <tr>\n      <th>494</th>\n      <td>vs \\n\\n?</td>\n      <td>val adHoc = object {\\n    var x: Int = 0\\n    ...</td>\n      <td>1</td>\n      <td>kotlin</td>\n    </tr>\n    <tr>\n      <th>754</th>\n      <td>NaN</td>\n      <td>(let [people       (repeatedly 5 lvar)\\n      ...</td>\n      <td>1</td>\n      <td>kotlin</td>\n    </tr>\n    <tr>\n      <th>803</th>\n      <td>ну типа</td>\n      <td>val isEmpty: Boolean\\n    get() = this.size == 0</td>\n      <td>1</td>\n      <td>kotlin</td>\n    </tr>\n    <tr>\n      <th>815</th>\n      <td>NaN</td>\n      <td>data class Obj(private val _name: String) {\\n ...</td>\n      <td>1</td>\n      <td>kotlin</td>\n    </tr>\n    <tr>\n      <th>...</th>\n      <td>...</td>\n      <td>...</td>\n      <td>...</td>\n      <td>...</td>\n    </tr>\n    <tr>\n      <th>306998</th>\n      <td>Тест forEach показал\\nArrayList&lt;Int&gt; 2800ms\\nI...</td>\n      <td>const val arrSize = 100\\nval arrayList = Array...</td>\n      <td>1</td>\n      <td>kotlin</td>\n    </tr>\n    <tr>\n      <th>306999</th>\n      <td>При этом меня удивил результат на чистом IntAr...</td>\n      <td>fun testForeachPrimitive(times: Int): Long {\\n...</td>\n      <td>1</td>\n      <td>kotlin</td>\n    </tr>\n    <tr>\n      <th>307002</th>\n      <td>NaN</td>\n      <td>Benchmark                            Mode  Cnt...</td>\n      <td>1</td>\n      <td>kotlin</td>\n    </tr>\n    <tr>\n      <th>307008</th>\n      <td>NaN</td>\n      <td>TestForeach.arrayListForeach         ss   10  ...</td>\n      <td>1</td>\n      <td>kotlin</td>\n    </tr>\n    <tr>\n      <th>307013</th>\n      <td>Кажется я понял, что repeat вы рекомендовали в...</td>\n      <td>Benchmark                            Mode  Cnt...</td>\n      <td>1</td>\n      <td>kotlin</td>\n    </tr>\n  </tbody>\n</table>\n<p>5678 rows × 4 columns</p>\n</div>"
     },
     "execution_count": 35,
     "metadata": {},
     "output_type": "execute_result"
    }
   ],
   "source": [
    "final_df_kotlin[final_df_kotlin['is_code'] == 1]"
   ],
   "metadata": {
    "collapsed": false
   }
  },
  {
   "cell_type": "code",
   "execution_count": 66,
   "outputs": [],
   "source": [
    "def extract_info_from_json_yaml(json_data, lang):\n",
    "    text = ''\n",
    "    code = ''\n",
    "    language = 'text'\n",
    "    is_code = 0\n",
    "    is_text = 0\n",
    "\n",
    "    if 'text' in json_data:\n",
    "        for item in json_data['text_entities']:\n",
    "            if 'language' in item and item['language'] == lang:\n",
    "                code += item['text']\n",
    "                language = lang\n",
    "                is_code = 1\n",
    "            elif isinstance(item, dict) and 'type' in item and item['type'] == 'plain':\n",
    "                if item['text'] != '':\n",
    "                    is_text = 1\n",
    "                text += item['text']\n",
    "    return text.strip() if is_text else np.nan, code.strip() if is_code else np.nan, is_code, language\n"
   ],
   "metadata": {
    "collapsed": false
   }
  },
  {
   "cell_type": "code",
   "execution_count": 70,
   "outputs": [
    {
     "data": {
      "text/plain": "                                                     text code  is_code  \\\n0       Я просто хочу указать сеть для моих контейнеро...  NaN        0   \n1       возможно, но я хочу сделать конфиги более гибк...  NaN        0   \n2       location /cat/ {\\n    proxy_pass http://${CATA...  NaN        0   \n3       Короче, врубаешь критическое мышление на макси...  NaN        0   \n4                                      nginx где запущен?  NaN        0   \n...                                                   ...  ...      ...   \n155790  правда заная как они регулярно падают я бы ей ...  NaN        0   \n155791  Есть постоянная работа\\nОплата достойная\\nПодо...  NaN        0   \n155792                                                NaN  NaN        0   \n155793                                            Он умер  NaN        0   \n155794            Точнее скорее всего перетащили в приват  NaN        0   \n\n       language  \n0          text  \n1          text  \n2          text  \n3          text  \n4          text  \n...         ...  \n155790     text  \n155791     text  \n155792     text  \n155793     text  \n155794     text  \n\n[155795 rows x 4 columns]",
      "text/html": "<div>\n<style scoped>\n    .dataframe tbody tr th:only-of-type {\n        vertical-align: middle;\n    }\n\n    .dataframe tbody tr th {\n        vertical-align: top;\n    }\n\n    .dataframe thead th {\n        text-align: right;\n    }\n</style>\n<table border=\"1\" class=\"dataframe\">\n  <thead>\n    <tr style=\"text-align: right;\">\n      <th></th>\n      <th>text</th>\n      <th>code</th>\n      <th>is_code</th>\n      <th>language</th>\n    </tr>\n  </thead>\n  <tbody>\n    <tr>\n      <th>0</th>\n      <td>Я просто хочу указать сеть для моих контейнеро...</td>\n      <td>NaN</td>\n      <td>0</td>\n      <td>text</td>\n    </tr>\n    <tr>\n      <th>1</th>\n      <td>возможно, но я хочу сделать конфиги более гибк...</td>\n      <td>NaN</td>\n      <td>0</td>\n      <td>text</td>\n    </tr>\n    <tr>\n      <th>2</th>\n      <td>location /cat/ {\\n    proxy_pass http://${CATA...</td>\n      <td>NaN</td>\n      <td>0</td>\n      <td>text</td>\n    </tr>\n    <tr>\n      <th>3</th>\n      <td>Короче, врубаешь критическое мышление на макси...</td>\n      <td>NaN</td>\n      <td>0</td>\n      <td>text</td>\n    </tr>\n    <tr>\n      <th>4</th>\n      <td>nginx где запущен?</td>\n      <td>NaN</td>\n      <td>0</td>\n      <td>text</td>\n    </tr>\n    <tr>\n      <th>...</th>\n      <td>...</td>\n      <td>...</td>\n      <td>...</td>\n      <td>...</td>\n    </tr>\n    <tr>\n      <th>155790</th>\n      <td>правда заная как они регулярно падают я бы ей ...</td>\n      <td>NaN</td>\n      <td>0</td>\n      <td>text</td>\n    </tr>\n    <tr>\n      <th>155791</th>\n      <td>Есть постоянная работа\\nОплата достойная\\nПодо...</td>\n      <td>NaN</td>\n      <td>0</td>\n      <td>text</td>\n    </tr>\n    <tr>\n      <th>155792</th>\n      <td>NaN</td>\n      <td>NaN</td>\n      <td>0</td>\n      <td>text</td>\n    </tr>\n    <tr>\n      <th>155793</th>\n      <td>Он умер</td>\n      <td>NaN</td>\n      <td>0</td>\n      <td>text</td>\n    </tr>\n    <tr>\n      <th>155794</th>\n      <td>Точнее скорее всего перетащили в приват</td>\n      <td>NaN</td>\n      <td>0</td>\n      <td>text</td>\n    </tr>\n  </tbody>\n</table>\n<p>155795 rows × 4 columns</p>\n</div>"
     },
     "execution_count": 70,
     "metadata": {},
     "output_type": "execute_result"
    }
   ],
   "source": [
    "folder_path = 'output_messages_yaml/yaml_0'\n",
    "\n",
    "dfs = []\n",
    "\n",
    "for i in range(154, 232):\n",
    "    folder_path = f'output_messages_yaml/yaml_{i}'\n",
    "    for file_name in os.listdir(folder_path):\n",
    "        if file_name.endswith('.json'):\n",
    "            file_path = os.path.join(folder_path, file_name)\n",
    "            with open(file_path, 'r', encoding='utf-8') as f:\n",
    "                data = json.load(f)\n",
    "            df_rows = []\n",
    "            for message_data in data:\n",
    "                text, code, is_code, language = extract_info_from_json_yaml(message_data, 'yaml')\n",
    "                df_rows.append([text, code, is_code, language])\n",
    "\n",
    "            df = pd.DataFrame(df_rows, columns=['text', 'code', 'is_code', 'language'])\n",
    "            dfs.append(df)\n",
    "\n",
    "final_df_yaml = pd.concat(dfs, ignore_index=True)\n",
    "\n",
    "final_df_yaml\n"
   ],
   "metadata": {
    "collapsed": false
   }
  },
  {
   "cell_type": "code",
   "execution_count": 71,
   "outputs": [
    {
     "data": {
      "text/plain": "                                                     text  \\\n128128  всем добрый день, начал осваивать докер буквал...   \n128259  Что тут можно исправить? Нормально ли сделан с...   \n129639  уже все прописал, все равно оно их склеивает п...   \n129649  На это не обращать внимания? Вроде работает вс...   \n129652                                   и потом запускую   \n130024  всё же, почему mysql выдаёт\\n\\nпри том что doc...   \n130424  Хай. Собираю проект на джанго на дистролесс. В...   \n130431                                                NaN   \n131336  Коллеги, привет!\\nДокер демон без конфига сети...   \n131756                                                NaN   \n131927  Всем российскоговорящим привет.\\n\\nПоясните я ...   \n134254          Может там есть и с билдом ?\\nТипа такого:   \n134392  Что можно исправить? Хочу собрать фронт и зате...   \n137356  Ну если вам что-то очень простое нужно, то мож...   \n137360  Но вообще, для управления версиями схемы БД лу...   \n137367  С volume это речь идет, в том случае если у ва...   \n137973                             В docker-compose.yaml:   \n137975       можно после вашего билда прописать в сервисе   \n138455  Всем привет!\\nПробую создать сеть:\\n\\nВыводит ...   \n138507                                       И используй:   \n138984  Что значит куда? Монтируйте туда, где приложен...   \n139803  Попробуй так:\\n\\n\\nВ данном примере Dockerfile...   \n139806  закинул в папку docker и: context тоже не полу...   \n139832  Всем доброго дня)\\nРаботаю с Docker Swarm.\\n\\n...   \n140246  Если я в компосте вот так указал :\\n\\n\\n\\nТо г...   \n141265  подскажите как настроить docker-compose чтоб ч...   \n141275                                  вообще тоесть так   \n141291  так же надо настроить логи?\\n(они у меня почем...   \n141414                     2. docker-compose.yaml конфиг:   \n141885                              попробуй в  прописать   \n142822  Всем привет\\n\\nСтавлю redis+python в докере\\n\\...   \n142826  Всем приветик .\\nПомогите ситуацию решить , мо...   \n142845            у меня у контейнера сеть так прописана:   \n142863  я поднял еще 5 мес назад на своей локалке .это...   \n143397  Всем привет.\\n\\n: докеризировать проект PHP (п...   \n144471  Всем привет! У меня глаза в край замылились, п...   \n146055                                                NaN   \n146628                                                NaN   \n147517  тобишь чото типа:\\n\\n\\n\\nа в  уже твой баш скр...   \n147587  Всем привет, через докер композ запускаю npm r...   \n148354  Доброго дня.\\nЕсть вопрос о том, какой драйвер...   \n148364  Затем в compose файле\\n\\n\\n\\nКонтейнеры внутри...   \n148551  +- у нас похожие компоузы)\\n\\nЕдинственное, у ...   \n148742                 вот фрагмент, на нём и спотыкается   \n148752             так должно сработать (сам не проверял)   \n148837  Добрый день. Такой вопрос: можно ли закинуть к...   \n149179                     В compose.yaml в web: добавить   \n149601  Несколько возможных причин и решений для вашей...   \n149854                                                      \n\n                                                     code  is_code language  \n128128  version: \"3.8\"\\nservices:\\n  db:\\n    image: m...        1     yaml  \n128259  version: '3'\\n\\nservices:\\n  app:\\n    contain...        1     yaml  \n129639  version: '3.8'\\n\\nservices:\\n  web:\\n    build...        1     yaml  \n129649  level=warning msg=\"Found orphan containers ([b...        1     yaml  \n129652  version: '3.8'\\n\\nservices:\\n  batumi-frontend...        1     yaml  \n130024              volumes:\\n      - ./db:/var/lib/mysql        1     yaml  \n130424  entrypoint: [\"bash\"]\\ncommand:\\n  - -c\\n  - py...        1     yaml  \n130431  entrypoint: [\"python\"]\\ncommand:\\n  - manage.p...        1     yaml  \n131336     networks:\\n  networkname:\\n    external: false        1     yaml  \n131756  extra_hosts:\\n  - host.docker.internal:host-ga...        1     yaml  \n131927  # .gitlab-ci.yml\\nstages:\\n  - build\\n\\nvariab...        1     yaml  \n134254              service:\\n  app:\\n     build: . \\n...        1     yaml  \n134392  services:\\n  caddy:\\n    container_name: caddy...        1     yaml  \n137356                          db: \\n   build: ./db\\n...        1     yaml  \n137360  flyway:\\n    image: \"flyway/flyway:9.22-alpine...        1     yaml  \n137367  volumes:\\n   - \"./postgresql-data/:/var/lib/po...        1     yaml  \n137973   version: \"3.8\"\\n\\nname: custom_name\\n\\nservices:        1     yaml  \n137975                         image: custom_name:version        1     yaml  \n138455  version: \"3.8\"\\n\\nservices:\\n  main-nginx:\\n  ...        1     yaml  \n138507                   postgres:\\n  env_file:\\n  - .env        1     yaml  \n138984  .... \\nvolumes:\\n  - <относительный путь к пап...        1     yaml  \n139803  version: '3'\\nservices:\\n  myservice:\\n    bui...        1     yaml  \n139806                              : ./docker/Dockerfile        1     yaml  \n139832  version: '3.8'\\nservices:\\n  database:\\n    # ...        1     yaml  \n140246  certbot:\\n    image: certbot/certbot\\n    cont...        1     yaml  \n141265  version: '3.9'\\nservices:\\n  nginx:\\n    image...        1     yaml  \n141275  version: '3.9'\\nservices:\\n  nginx:\\n    image...        1     yaml  \n141291  # docker-compose\\n    volumes:\\n      - /hosts...        1     yaml  \n141414  version: '3.8'\\n\\nservices:\\n  validator1:\\n  ...        1     yaml  \n141885                             s3forcepathstyle: true        1     yaml  \n142822  version: \"3.9\"\\nservices:\\n  caddy:\\n    image...        1     yaml  \n142826  nginx-main:\\n        image: nginx:alpine\\n    ...        1     yaml  \n142845  version: '3.9'\\nservices:\\n  web:\\n    ...\\n  ...        1     yaml  \n142863  version: \"3.5\"\\n\\nservices:\\n  traefik:\\n    #...        1     yaml  \n143397  version: '3.8'\\n\\nservices:\\n    web:\\n       ...        1     yaml  \n144471  webserver\\n     # что-то там\\n     ports:\\n   ...        1     yaml  \n146055  version: '3'\\nservices:\\n  my_service:\\n    im...        1     yaml  \n146628           networks:\\n  monitor:\\n    name: monitor        1     yaml  \n147517  myservice:\\n  volume:\\n    - my-folder:/my-fol...        1     yaml  \n147587  npm:\\n    image: node:current-alpine\\n\\n    vo...        1     yaml  \n148354  services:\\n  redis:\\n    image: redis:7.2.4-al...        1     yaml  \n148364  services:\\n  app:\\n    # ...\\n    ports:\\n    ...        1     yaml  \n148551  - traefik_public_certificates:/certs/:ro\\n- ./...        1     yaml  \n148742  services:\\n  db:\\n    image: mysql:8.0-debian\\...        1     yaml  \n148752  volumes:\\n      - out.log:/dev/stdout\\n      -...        1     yaml  \n148837        volumes:\\n    - keycloak-import:/tmp/import        1     yaml  \n149179  links:\\n    - backend:localhost # (host как он...        1     yaml  \n149601  spring.datasource.url=jdbc:postgresql://${AGAS...        1     yaml  \n149854  version: '3'\\nservices:\\n  # PHP-приложение с ...        1     yaml  ",
      "text/html": "<div>\n<style scoped>\n    .dataframe tbody tr th:only-of-type {\n        vertical-align: middle;\n    }\n\n    .dataframe tbody tr th {\n        vertical-align: top;\n    }\n\n    .dataframe thead th {\n        text-align: right;\n    }\n</style>\n<table border=\"1\" class=\"dataframe\">\n  <thead>\n    <tr style=\"text-align: right;\">\n      <th></th>\n      <th>text</th>\n      <th>code</th>\n      <th>is_code</th>\n      <th>language</th>\n    </tr>\n  </thead>\n  <tbody>\n    <tr>\n      <th>128128</th>\n      <td>всем добрый день, начал осваивать докер буквал...</td>\n      <td>version: \"3.8\"\\nservices:\\n  db:\\n    image: m...</td>\n      <td>1</td>\n      <td>yaml</td>\n    </tr>\n    <tr>\n      <th>128259</th>\n      <td>Что тут можно исправить? Нормально ли сделан с...</td>\n      <td>version: '3'\\n\\nservices:\\n  app:\\n    contain...</td>\n      <td>1</td>\n      <td>yaml</td>\n    </tr>\n    <tr>\n      <th>129639</th>\n      <td>уже все прописал, все равно оно их склеивает п...</td>\n      <td>version: '3.8'\\n\\nservices:\\n  web:\\n    build...</td>\n      <td>1</td>\n      <td>yaml</td>\n    </tr>\n    <tr>\n      <th>129649</th>\n      <td>На это не обращать внимания? Вроде работает вс...</td>\n      <td>level=warning msg=\"Found orphan containers ([b...</td>\n      <td>1</td>\n      <td>yaml</td>\n    </tr>\n    <tr>\n      <th>129652</th>\n      <td>и потом запускую</td>\n      <td>version: '3.8'\\n\\nservices:\\n  batumi-frontend...</td>\n      <td>1</td>\n      <td>yaml</td>\n    </tr>\n    <tr>\n      <th>130024</th>\n      <td>всё же, почему mysql выдаёт\\n\\nпри том что doc...</td>\n      <td>volumes:\\n      - ./db:/var/lib/mysql</td>\n      <td>1</td>\n      <td>yaml</td>\n    </tr>\n    <tr>\n      <th>130424</th>\n      <td>Хай. Собираю проект на джанго на дистролесс. В...</td>\n      <td>entrypoint: [\"bash\"]\\ncommand:\\n  - -c\\n  - py...</td>\n      <td>1</td>\n      <td>yaml</td>\n    </tr>\n    <tr>\n      <th>130431</th>\n      <td>NaN</td>\n      <td>entrypoint: [\"python\"]\\ncommand:\\n  - manage.p...</td>\n      <td>1</td>\n      <td>yaml</td>\n    </tr>\n    <tr>\n      <th>131336</th>\n      <td>Коллеги, привет!\\nДокер демон без конфига сети...</td>\n      <td>networks:\\n  networkname:\\n    external: false</td>\n      <td>1</td>\n      <td>yaml</td>\n    </tr>\n    <tr>\n      <th>131756</th>\n      <td>NaN</td>\n      <td>extra_hosts:\\n  - host.docker.internal:host-ga...</td>\n      <td>1</td>\n      <td>yaml</td>\n    </tr>\n    <tr>\n      <th>131927</th>\n      <td>Всем российскоговорящим привет.\\n\\nПоясните я ...</td>\n      <td># .gitlab-ci.yml\\nstages:\\n  - build\\n\\nvariab...</td>\n      <td>1</td>\n      <td>yaml</td>\n    </tr>\n    <tr>\n      <th>134254</th>\n      <td>Может там есть и с билдом ?\\nТипа такого:</td>\n      <td>service:\\n  app:\\n     build: . \\n...</td>\n      <td>1</td>\n      <td>yaml</td>\n    </tr>\n    <tr>\n      <th>134392</th>\n      <td>Что можно исправить? Хочу собрать фронт и зате...</td>\n      <td>services:\\n  caddy:\\n    container_name: caddy...</td>\n      <td>1</td>\n      <td>yaml</td>\n    </tr>\n    <tr>\n      <th>137356</th>\n      <td>Ну если вам что-то очень простое нужно, то мож...</td>\n      <td>db: \\n   build: ./db\\n...</td>\n      <td>1</td>\n      <td>yaml</td>\n    </tr>\n    <tr>\n      <th>137360</th>\n      <td>Но вообще, для управления версиями схемы БД лу...</td>\n      <td>flyway:\\n    image: \"flyway/flyway:9.22-alpine...</td>\n      <td>1</td>\n      <td>yaml</td>\n    </tr>\n    <tr>\n      <th>137367</th>\n      <td>С volume это речь идет, в том случае если у ва...</td>\n      <td>volumes:\\n   - \"./postgresql-data/:/var/lib/po...</td>\n      <td>1</td>\n      <td>yaml</td>\n    </tr>\n    <tr>\n      <th>137973</th>\n      <td>В docker-compose.yaml:</td>\n      <td>version: \"3.8\"\\n\\nname: custom_name\\n\\nservices:</td>\n      <td>1</td>\n      <td>yaml</td>\n    </tr>\n    <tr>\n      <th>137975</th>\n      <td>можно после вашего билда прописать в сервисе</td>\n      <td>image: custom_name:version</td>\n      <td>1</td>\n      <td>yaml</td>\n    </tr>\n    <tr>\n      <th>138455</th>\n      <td>Всем привет!\\nПробую создать сеть:\\n\\nВыводит ...</td>\n      <td>version: \"3.8\"\\n\\nservices:\\n  main-nginx:\\n  ...</td>\n      <td>1</td>\n      <td>yaml</td>\n    </tr>\n    <tr>\n      <th>138507</th>\n      <td>И используй:</td>\n      <td>postgres:\\n  env_file:\\n  - .env</td>\n      <td>1</td>\n      <td>yaml</td>\n    </tr>\n    <tr>\n      <th>138984</th>\n      <td>Что значит куда? Монтируйте туда, где приложен...</td>\n      <td>.... \\nvolumes:\\n  - &lt;относительный путь к пап...</td>\n      <td>1</td>\n      <td>yaml</td>\n    </tr>\n    <tr>\n      <th>139803</th>\n      <td>Попробуй так:\\n\\n\\nВ данном примере Dockerfile...</td>\n      <td>version: '3'\\nservices:\\n  myservice:\\n    bui...</td>\n      <td>1</td>\n      <td>yaml</td>\n    </tr>\n    <tr>\n      <th>139806</th>\n      <td>закинул в папку docker и: context тоже не полу...</td>\n      <td>: ./docker/Dockerfile</td>\n      <td>1</td>\n      <td>yaml</td>\n    </tr>\n    <tr>\n      <th>139832</th>\n      <td>Всем доброго дня)\\nРаботаю с Docker Swarm.\\n\\n...</td>\n      <td>version: '3.8'\\nservices:\\n  database:\\n    # ...</td>\n      <td>1</td>\n      <td>yaml</td>\n    </tr>\n    <tr>\n      <th>140246</th>\n      <td>Если я в компосте вот так указал :\\n\\n\\n\\nТо г...</td>\n      <td>certbot:\\n    image: certbot/certbot\\n    cont...</td>\n      <td>1</td>\n      <td>yaml</td>\n    </tr>\n    <tr>\n      <th>141265</th>\n      <td>подскажите как настроить docker-compose чтоб ч...</td>\n      <td>version: '3.9'\\nservices:\\n  nginx:\\n    image...</td>\n      <td>1</td>\n      <td>yaml</td>\n    </tr>\n    <tr>\n      <th>141275</th>\n      <td>вообще тоесть так</td>\n      <td>version: '3.9'\\nservices:\\n  nginx:\\n    image...</td>\n      <td>1</td>\n      <td>yaml</td>\n    </tr>\n    <tr>\n      <th>141291</th>\n      <td>так же надо настроить логи?\\n(они у меня почем...</td>\n      <td># docker-compose\\n    volumes:\\n      - /hosts...</td>\n      <td>1</td>\n      <td>yaml</td>\n    </tr>\n    <tr>\n      <th>141414</th>\n      <td>2. docker-compose.yaml конфиг:</td>\n      <td>version: '3.8'\\n\\nservices:\\n  validator1:\\n  ...</td>\n      <td>1</td>\n      <td>yaml</td>\n    </tr>\n    <tr>\n      <th>141885</th>\n      <td>попробуй в  прописать</td>\n      <td>s3forcepathstyle: true</td>\n      <td>1</td>\n      <td>yaml</td>\n    </tr>\n    <tr>\n      <th>142822</th>\n      <td>Всем привет\\n\\nСтавлю redis+python в докере\\n\\...</td>\n      <td>version: \"3.9\"\\nservices:\\n  caddy:\\n    image...</td>\n      <td>1</td>\n      <td>yaml</td>\n    </tr>\n    <tr>\n      <th>142826</th>\n      <td>Всем приветик .\\nПомогите ситуацию решить , мо...</td>\n      <td>nginx-main:\\n        image: nginx:alpine\\n    ...</td>\n      <td>1</td>\n      <td>yaml</td>\n    </tr>\n    <tr>\n      <th>142845</th>\n      <td>у меня у контейнера сеть так прописана:</td>\n      <td>version: '3.9'\\nservices:\\n  web:\\n    ...\\n  ...</td>\n      <td>1</td>\n      <td>yaml</td>\n    </tr>\n    <tr>\n      <th>142863</th>\n      <td>я поднял еще 5 мес назад на своей локалке .это...</td>\n      <td>version: \"3.5\"\\n\\nservices:\\n  traefik:\\n    #...</td>\n      <td>1</td>\n      <td>yaml</td>\n    </tr>\n    <tr>\n      <th>143397</th>\n      <td>Всем привет.\\n\\n: докеризировать проект PHP (п...</td>\n      <td>version: '3.8'\\n\\nservices:\\n    web:\\n       ...</td>\n      <td>1</td>\n      <td>yaml</td>\n    </tr>\n    <tr>\n      <th>144471</th>\n      <td>Всем привет! У меня глаза в край замылились, п...</td>\n      <td>webserver\\n     # что-то там\\n     ports:\\n   ...</td>\n      <td>1</td>\n      <td>yaml</td>\n    </tr>\n    <tr>\n      <th>146055</th>\n      <td>NaN</td>\n      <td>version: '3'\\nservices:\\n  my_service:\\n    im...</td>\n      <td>1</td>\n      <td>yaml</td>\n    </tr>\n    <tr>\n      <th>146628</th>\n      <td>NaN</td>\n      <td>networks:\\n  monitor:\\n    name: monitor</td>\n      <td>1</td>\n      <td>yaml</td>\n    </tr>\n    <tr>\n      <th>147517</th>\n      <td>тобишь чото типа:\\n\\n\\n\\nа в  уже твой баш скр...</td>\n      <td>myservice:\\n  volume:\\n    - my-folder:/my-fol...</td>\n      <td>1</td>\n      <td>yaml</td>\n    </tr>\n    <tr>\n      <th>147587</th>\n      <td>Всем привет, через докер композ запускаю npm r...</td>\n      <td>npm:\\n    image: node:current-alpine\\n\\n    vo...</td>\n      <td>1</td>\n      <td>yaml</td>\n    </tr>\n    <tr>\n      <th>148354</th>\n      <td>Доброго дня.\\nЕсть вопрос о том, какой драйвер...</td>\n      <td>services:\\n  redis:\\n    image: redis:7.2.4-al...</td>\n      <td>1</td>\n      <td>yaml</td>\n    </tr>\n    <tr>\n      <th>148364</th>\n      <td>Затем в compose файле\\n\\n\\n\\nКонтейнеры внутри...</td>\n      <td>services:\\n  app:\\n    # ...\\n    ports:\\n    ...</td>\n      <td>1</td>\n      <td>yaml</td>\n    </tr>\n    <tr>\n      <th>148551</th>\n      <td>+- у нас похожие компоузы)\\n\\nЕдинственное, у ...</td>\n      <td>- traefik_public_certificates:/certs/:ro\\n- ./...</td>\n      <td>1</td>\n      <td>yaml</td>\n    </tr>\n    <tr>\n      <th>148742</th>\n      <td>вот фрагмент, на нём и спотыкается</td>\n      <td>services:\\n  db:\\n    image: mysql:8.0-debian\\...</td>\n      <td>1</td>\n      <td>yaml</td>\n    </tr>\n    <tr>\n      <th>148752</th>\n      <td>так должно сработать (сам не проверял)</td>\n      <td>volumes:\\n      - out.log:/dev/stdout\\n      -...</td>\n      <td>1</td>\n      <td>yaml</td>\n    </tr>\n    <tr>\n      <th>148837</th>\n      <td>Добрый день. Такой вопрос: можно ли закинуть к...</td>\n      <td>volumes:\\n    - keycloak-import:/tmp/import</td>\n      <td>1</td>\n      <td>yaml</td>\n    </tr>\n    <tr>\n      <th>149179</th>\n      <td>В compose.yaml в web: добавить</td>\n      <td>links:\\n    - backend:localhost # (host как он...</td>\n      <td>1</td>\n      <td>yaml</td>\n    </tr>\n    <tr>\n      <th>149601</th>\n      <td>Несколько возможных причин и решений для вашей...</td>\n      <td>spring.datasource.url=jdbc:postgresql://${AGAS...</td>\n      <td>1</td>\n      <td>yaml</td>\n    </tr>\n    <tr>\n      <th>149854</th>\n      <td></td>\n      <td>version: '3'\\nservices:\\n  # PHP-приложение с ...</td>\n      <td>1</td>\n      <td>yaml</td>\n    </tr>\n  </tbody>\n</table>\n</div>"
     },
     "execution_count": 71,
     "metadata": {},
     "output_type": "execute_result"
    }
   ],
   "source": [
    "final_df_yaml[final_df_yaml['is_code'] == 1]"
   ],
   "metadata": {
    "collapsed": false
   }
  },
  {
   "cell_type": "markdown",
   "source": [
    "Mardown не нашлось( Пришлось ручками генерировать"
   ],
   "metadata": {
    "collapsed": false
   }
  },
  {
   "cell_type": "code",
   "execution_count": 37,
   "outputs": [],
   "source": [
    "from md_file import final_df_md"
   ],
   "metadata": {
    "collapsed": false
   }
  },
  {
   "cell_type": "code",
   "execution_count": 38,
   "outputs": [
    {
     "data": {
      "text/plain": "     text  is_code language                                               code\n0     NaN        1       md                       **Заголовок первого уровня**\n1     NaN        1       md                         *Заголовок второго уровня*\n2     NaN        1       md                      ### Заголовок третьего уровня\n3     NaN        1       md          [Ссылка на сайт](https://www.example.com)\n4     NaN        1       md  ![Изображение](https://www.example.com/image.jpg)\n..    ...      ...      ...                                                ...\n147   NaN        1       md                                       :no_smoking:\n148   NaN        1       md                                            :skull:\n149   NaN        1       md                                      :radioactive:\n150   NaN        1       md                                        :biohazard:\n151   NaN        1       md                                         :yin_yang:\n\n[152 rows x 4 columns]",
      "text/html": "<div>\n<style scoped>\n    .dataframe tbody tr th:only-of-type {\n        vertical-align: middle;\n    }\n\n    .dataframe tbody tr th {\n        vertical-align: top;\n    }\n\n    .dataframe thead th {\n        text-align: right;\n    }\n</style>\n<table border=\"1\" class=\"dataframe\">\n  <thead>\n    <tr style=\"text-align: right;\">\n      <th></th>\n      <th>text</th>\n      <th>is_code</th>\n      <th>language</th>\n      <th>code</th>\n    </tr>\n  </thead>\n  <tbody>\n    <tr>\n      <th>0</th>\n      <td>NaN</td>\n      <td>1</td>\n      <td>md</td>\n      <td>**Заголовок первого уровня**</td>\n    </tr>\n    <tr>\n      <th>1</th>\n      <td>NaN</td>\n      <td>1</td>\n      <td>md</td>\n      <td>*Заголовок второго уровня*</td>\n    </tr>\n    <tr>\n      <th>2</th>\n      <td>NaN</td>\n      <td>1</td>\n      <td>md</td>\n      <td>### Заголовок третьего уровня</td>\n    </tr>\n    <tr>\n      <th>3</th>\n      <td>NaN</td>\n      <td>1</td>\n      <td>md</td>\n      <td>[Ссылка на сайт](https://www.example.com)</td>\n    </tr>\n    <tr>\n      <th>4</th>\n      <td>NaN</td>\n      <td>1</td>\n      <td>md</td>\n      <td>![Изображение](https://www.example.com/image.jpg)</td>\n    </tr>\n    <tr>\n      <th>...</th>\n      <td>...</td>\n      <td>...</td>\n      <td>...</td>\n      <td>...</td>\n    </tr>\n    <tr>\n      <th>147</th>\n      <td>NaN</td>\n      <td>1</td>\n      <td>md</td>\n      <td>:no_smoking:</td>\n    </tr>\n    <tr>\n      <th>148</th>\n      <td>NaN</td>\n      <td>1</td>\n      <td>md</td>\n      <td>:skull:</td>\n    </tr>\n    <tr>\n      <th>149</th>\n      <td>NaN</td>\n      <td>1</td>\n      <td>md</td>\n      <td>:radioactive:</td>\n    </tr>\n    <tr>\n      <th>150</th>\n      <td>NaN</td>\n      <td>1</td>\n      <td>md</td>\n      <td>:biohazard:</td>\n    </tr>\n    <tr>\n      <th>151</th>\n      <td>NaN</td>\n      <td>1</td>\n      <td>md</td>\n      <td>:yin_yang:</td>\n    </tr>\n  </tbody>\n</table>\n<p>152 rows × 4 columns</p>\n</div>"
     },
     "execution_count": 38,
     "metadata": {},
     "output_type": "execute_result"
    }
   ],
   "source": [
    "final_df_md"
   ],
   "metadata": {
    "collapsed": false
   }
  },
  {
   "cell_type": "code",
   "execution_count": 72,
   "outputs": [
    {
     "data": {
      "text/plain": "                                                      text code  is_code  \\\n0                                                      NaN  NaN        0   \n1                                                      NaN  NaN        0   \n2        🔵 В группе есть традиция - представляться при ...  NaN        0   \n3                                                      NaN  NaN        0   \n4                                                      NaN  NaN        0   \n...                                                    ...  ...      ...   \n2419531  правда заная как они регулярно падают я бы ей ...  NaN        0   \n2419532  Есть постоянная работа\\nОплата достойная\\nПодо...  NaN        0   \n2419533                                                NaN  NaN        0   \n2419534                                            Он умер  NaN        0   \n2419535            Точнее скорее всего перетащили в приват  NaN        0   \n\n        language  \n0           text  \n1           text  \n2           text  \n3           text  \n4           text  \n...          ...  \n2419531     text  \n2419532     text  \n2419533     text  \n2419534     text  \n2419535     text  \n\n[2419536 rows x 4 columns]",
      "text/html": "<div>\n<style scoped>\n    .dataframe tbody tr th:only-of-type {\n        vertical-align: middle;\n    }\n\n    .dataframe tbody tr th {\n        vertical-align: top;\n    }\n\n    .dataframe thead th {\n        text-align: right;\n    }\n</style>\n<table border=\"1\" class=\"dataframe\">\n  <thead>\n    <tr style=\"text-align: right;\">\n      <th></th>\n      <th>text</th>\n      <th>code</th>\n      <th>is_code</th>\n      <th>language</th>\n    </tr>\n  </thead>\n  <tbody>\n    <tr>\n      <th>0</th>\n      <td>NaN</td>\n      <td>NaN</td>\n      <td>0</td>\n      <td>text</td>\n    </tr>\n    <tr>\n      <th>1</th>\n      <td>NaN</td>\n      <td>NaN</td>\n      <td>0</td>\n      <td>text</td>\n    </tr>\n    <tr>\n      <th>2</th>\n      <td>🔵 В группе есть традиция - представляться при ...</td>\n      <td>NaN</td>\n      <td>0</td>\n      <td>text</td>\n    </tr>\n    <tr>\n      <th>3</th>\n      <td>NaN</td>\n      <td>NaN</td>\n      <td>0</td>\n      <td>text</td>\n    </tr>\n    <tr>\n      <th>4</th>\n      <td>NaN</td>\n      <td>NaN</td>\n      <td>0</td>\n      <td>text</td>\n    </tr>\n    <tr>\n      <th>...</th>\n      <td>...</td>\n      <td>...</td>\n      <td>...</td>\n      <td>...</td>\n    </tr>\n    <tr>\n      <th>2419531</th>\n      <td>правда заная как они регулярно падают я бы ей ...</td>\n      <td>NaN</td>\n      <td>0</td>\n      <td>text</td>\n    </tr>\n    <tr>\n      <th>2419532</th>\n      <td>Есть постоянная работа\\nОплата достойная\\nПодо...</td>\n      <td>NaN</td>\n      <td>0</td>\n      <td>text</td>\n    </tr>\n    <tr>\n      <th>2419533</th>\n      <td>NaN</td>\n      <td>NaN</td>\n      <td>0</td>\n      <td>text</td>\n    </tr>\n    <tr>\n      <th>2419534</th>\n      <td>Он умер</td>\n      <td>NaN</td>\n      <td>0</td>\n      <td>text</td>\n    </tr>\n    <tr>\n      <th>2419535</th>\n      <td>Точнее скорее всего перетащили в приват</td>\n      <td>NaN</td>\n      <td>0</td>\n      <td>text</td>\n    </tr>\n  </tbody>\n</table>\n<p>2419536 rows × 4 columns</p>\n</div>"
     },
     "execution_count": 72,
     "metadata": {},
     "output_type": "execute_result"
    }
   ],
   "source": [
    "dfs = [final_df_javascript, final_df_cpp, final_df_python, final_df_kotlin, final_df_haskell, final_df_java, final_df_c,\n",
    "       final_df_bash, final_df_md, final_df_yaml]\n",
    "all_dfs = pd.concat(dfs, ignore_index=True)\n",
    "all_dfs"
   ],
   "metadata": {
    "collapsed": false
   }
  },
  {
   "cell_type": "code",
   "execution_count": 73,
   "outputs": [
    {
     "data": {
      "text/plain": "                                                      text code  is_code  \\\n2        🔵 В группе есть традиция - представляться при ...  NaN        0   \n12                                             жс не нужен  NaN        0   \n15                                            А что нужно?  NaN        0   \n16                                                 Хаскель  NaN        0   \n17                                                 Монадки  NaN        0   \n...                                                    ...  ...      ...   \n2419530       Там таймвеб подсуетился и поднял свою проксю  NaN        0   \n2419531  правда заная как они регулярно падают я бы ей ...  NaN        0   \n2419532  Есть постоянная работа\\nОплата достойная\\nПодо...  NaN        0   \n2419534                                            Он умер  NaN        0   \n2419535            Точнее скорее всего перетащили в приват  NaN        0   \n\n        language  \n2           text  \n12          text  \n15          text  \n16          text  \n17          text  \n...          ...  \n2419530     text  \n2419531     text  \n2419532     text  \n2419534     text  \n2419535     text  \n\n[2254260 rows x 4 columns]",
      "text/html": "<div>\n<style scoped>\n    .dataframe tbody tr th:only-of-type {\n        vertical-align: middle;\n    }\n\n    .dataframe tbody tr th {\n        vertical-align: top;\n    }\n\n    .dataframe thead th {\n        text-align: right;\n    }\n</style>\n<table border=\"1\" class=\"dataframe\">\n  <thead>\n    <tr style=\"text-align: right;\">\n      <th></th>\n      <th>text</th>\n      <th>code</th>\n      <th>is_code</th>\n      <th>language</th>\n    </tr>\n  </thead>\n  <tbody>\n    <tr>\n      <th>2</th>\n      <td>🔵 В группе есть традиция - представляться при ...</td>\n      <td>NaN</td>\n      <td>0</td>\n      <td>text</td>\n    </tr>\n    <tr>\n      <th>12</th>\n      <td>жс не нужен</td>\n      <td>NaN</td>\n      <td>0</td>\n      <td>text</td>\n    </tr>\n    <tr>\n      <th>15</th>\n      <td>А что нужно?</td>\n      <td>NaN</td>\n      <td>0</td>\n      <td>text</td>\n    </tr>\n    <tr>\n      <th>16</th>\n      <td>Хаскель</td>\n      <td>NaN</td>\n      <td>0</td>\n      <td>text</td>\n    </tr>\n    <tr>\n      <th>17</th>\n      <td>Монадки</td>\n      <td>NaN</td>\n      <td>0</td>\n      <td>text</td>\n    </tr>\n    <tr>\n      <th>...</th>\n      <td>...</td>\n      <td>...</td>\n      <td>...</td>\n      <td>...</td>\n    </tr>\n    <tr>\n      <th>2419530</th>\n      <td>Там таймвеб подсуетился и поднял свою проксю</td>\n      <td>NaN</td>\n      <td>0</td>\n      <td>text</td>\n    </tr>\n    <tr>\n      <th>2419531</th>\n      <td>правда заная как они регулярно падают я бы ей ...</td>\n      <td>NaN</td>\n      <td>0</td>\n      <td>text</td>\n    </tr>\n    <tr>\n      <th>2419532</th>\n      <td>Есть постоянная работа\\nОплата достойная\\nПодо...</td>\n      <td>NaN</td>\n      <td>0</td>\n      <td>text</td>\n    </tr>\n    <tr>\n      <th>2419534</th>\n      <td>Он умер</td>\n      <td>NaN</td>\n      <td>0</td>\n      <td>text</td>\n    </tr>\n    <tr>\n      <th>2419535</th>\n      <td>Точнее скорее всего перетащили в приват</td>\n      <td>NaN</td>\n      <td>0</td>\n      <td>text</td>\n    </tr>\n  </tbody>\n</table>\n<p>2254260 rows × 4 columns</p>\n</div>"
     },
     "execution_count": 73,
     "metadata": {},
     "output_type": "execute_result"
    }
   ],
   "source": [
    "all_dfs = all_dfs.dropna(subset=['text', 'code'], how='all')\n",
    "all_dfs"
   ],
   "metadata": {
    "collapsed": false
   }
  },
  {
   "cell_type": "code",
   "execution_count": 74,
   "outputs": [
    {
     "name": "stderr",
     "output_type": "stream",
     "text": [
      "/var/folders/w5/ht3dmydx63x5gl8zry4s1fdh0000gn/T/ipykernel_94358/945192751.py:1: SettingWithCopyWarning: \n",
      "A value is trying to be set on a copy of a slice from a DataFrame.\n",
      "Try using .loc[row_indexer,col_indexer] = value instead\n",
      "\n",
      "See the caveats in the documentation: https://pandas.pydata.org/pandas-docs/stable/user_guide/indexing.html#returning-a-view-versus-a-copy\n",
      "  all_dfs['clean_text'] = all_dfs['text'].apply(clean)\n",
      "/var/folders/w5/ht3dmydx63x5gl8zry4s1fdh0000gn/T/ipykernel_94358/945192751.py:2: SettingWithCopyWarning: \n",
      "A value is trying to be set on a copy of a slice from a DataFrame.\n",
      "Try using .loc[row_indexer,col_indexer] = value instead\n",
      "\n",
      "See the caveats in the documentation: https://pandas.pydata.org/pandas-docs/stable/user_guide/indexing.html#returning-a-view-versus-a-copy\n",
      "  all_dfs['clean_code'] = all_dfs['code'].apply(clean)\n",
      "/var/folders/w5/ht3dmydx63x5gl8zry4s1fdh0000gn/T/ipykernel_94358/945192751.py:3: SettingWithCopyWarning: \n",
      "A value is trying to be set on a copy of a slice from a DataFrame.\n",
      "Try using .loc[row_indexer,col_indexer] = value instead\n",
      "\n",
      "See the caveats in the documentation: https://pandas.pydata.org/pandas-docs/stable/user_guide/indexing.html#returning-a-view-versus-a-copy\n",
      "  all_dfs['final_text'] = all_dfs.apply(choose_text_or_code, axis=1)\n"
     ]
    },
    {
     "data": {
      "text/plain": "                                                      text code  is_code  \\\n2        🔵 В группе есть традиция - представляться при ...  NaN        0   \n12                                             жс не нужен  NaN        0   \n15                                            А что нужно?  NaN        0   \n16                                                 Хаскель  NaN        0   \n17                                                 Монадки  NaN        0   \n...                                                    ...  ...      ...   \n2419530       Там таймвеб подсуетился и поднял свою проксю  NaN        0   \n2419531  правда заная как они регулярно падают я бы ей ...  NaN        0   \n2419532  Есть постоянная работа\\nОплата достойная\\nПодо...  NaN        0   \n2419534                                            Он умер  NaN        0   \n2419535            Точнее скорее всего перетащили в приват  NaN        0   \n\n        language                                         clean_text  \\\n2           text  🔵 в группе есть традиция  представляться при в...   \n12          text                                        жс не нужен   \n15          text                                       а что нужно?   \n16          text                                            хаскель   \n17          text                                            монадки   \n...          ...                                                ...   \n2419530     text       там таймвеб подсуетился и поднял свою проксю   \n2419531     text  правда заная как они регулярно падают я бы ей ...   \n2419532     text  есть постоянная работа оплата достойная подойд...   \n2419534     text                                            он умер   \n2419535     text            точнее скорее всего перетащили в приват   \n\n        clean_code                                         final_text  \n2              nan  🔵 в группе есть традиция  представляться при в...  \n12             nan                                        жс не нужен  \n15             nan                                       а что нужно?  \n16             nan                                            хаскель  \n17             nan                                            монадки  \n...            ...                                                ...  \n2419530        nan       там таймвеб подсуетился и поднял свою проксю  \n2419531        nan  правда заная как они регулярно падают я бы ей ...  \n2419532        nan  есть постоянная работа оплата достойная подойд...  \n2419534        nan                                            он умер  \n2419535        nan            точнее скорее всего перетащили в приват  \n\n[2254260 rows x 7 columns]",
      "text/html": "<div>\n<style scoped>\n    .dataframe tbody tr th:only-of-type {\n        vertical-align: middle;\n    }\n\n    .dataframe tbody tr th {\n        vertical-align: top;\n    }\n\n    .dataframe thead th {\n        text-align: right;\n    }\n</style>\n<table border=\"1\" class=\"dataframe\">\n  <thead>\n    <tr style=\"text-align: right;\">\n      <th></th>\n      <th>text</th>\n      <th>code</th>\n      <th>is_code</th>\n      <th>language</th>\n      <th>clean_text</th>\n      <th>clean_code</th>\n      <th>final_text</th>\n    </tr>\n  </thead>\n  <tbody>\n    <tr>\n      <th>2</th>\n      <td>🔵 В группе есть традиция - представляться при ...</td>\n      <td>NaN</td>\n      <td>0</td>\n      <td>text</td>\n      <td>🔵 в группе есть традиция  представляться при в...</td>\n      <td>nan</td>\n      <td>🔵 в группе есть традиция  представляться при в...</td>\n    </tr>\n    <tr>\n      <th>12</th>\n      <td>жс не нужен</td>\n      <td>NaN</td>\n      <td>0</td>\n      <td>text</td>\n      <td>жс не нужен</td>\n      <td>nan</td>\n      <td>жс не нужен</td>\n    </tr>\n    <tr>\n      <th>15</th>\n      <td>А что нужно?</td>\n      <td>NaN</td>\n      <td>0</td>\n      <td>text</td>\n      <td>а что нужно?</td>\n      <td>nan</td>\n      <td>а что нужно?</td>\n    </tr>\n    <tr>\n      <th>16</th>\n      <td>Хаскель</td>\n      <td>NaN</td>\n      <td>0</td>\n      <td>text</td>\n      <td>хаскель</td>\n      <td>nan</td>\n      <td>хаскель</td>\n    </tr>\n    <tr>\n      <th>17</th>\n      <td>Монадки</td>\n      <td>NaN</td>\n      <td>0</td>\n      <td>text</td>\n      <td>монадки</td>\n      <td>nan</td>\n      <td>монадки</td>\n    </tr>\n    <tr>\n      <th>...</th>\n      <td>...</td>\n      <td>...</td>\n      <td>...</td>\n      <td>...</td>\n      <td>...</td>\n      <td>...</td>\n      <td>...</td>\n    </tr>\n    <tr>\n      <th>2419530</th>\n      <td>Там таймвеб подсуетился и поднял свою проксю</td>\n      <td>NaN</td>\n      <td>0</td>\n      <td>text</td>\n      <td>там таймвеб подсуетился и поднял свою проксю</td>\n      <td>nan</td>\n      <td>там таймвеб подсуетился и поднял свою проксю</td>\n    </tr>\n    <tr>\n      <th>2419531</th>\n      <td>правда заная как они регулярно падают я бы ей ...</td>\n      <td>NaN</td>\n      <td>0</td>\n      <td>text</td>\n      <td>правда заная как они регулярно падают я бы ей ...</td>\n      <td>nan</td>\n      <td>правда заная как они регулярно падают я бы ей ...</td>\n    </tr>\n    <tr>\n      <th>2419532</th>\n      <td>Есть постоянная работа\\nОплата достойная\\nПодо...</td>\n      <td>NaN</td>\n      <td>0</td>\n      <td>text</td>\n      <td>есть постоянная работа оплата достойная подойд...</td>\n      <td>nan</td>\n      <td>есть постоянная работа оплата достойная подойд...</td>\n    </tr>\n    <tr>\n      <th>2419534</th>\n      <td>Он умер</td>\n      <td>NaN</td>\n      <td>0</td>\n      <td>text</td>\n      <td>он умер</td>\n      <td>nan</td>\n      <td>он умер</td>\n    </tr>\n    <tr>\n      <th>2419535</th>\n      <td>Точнее скорее всего перетащили в приват</td>\n      <td>NaN</td>\n      <td>0</td>\n      <td>text</td>\n      <td>точнее скорее всего перетащили в приват</td>\n      <td>nan</td>\n      <td>точнее скорее всего перетащили в приват</td>\n    </tr>\n  </tbody>\n</table>\n<p>2254260 rows × 7 columns</p>\n</div>"
     },
     "execution_count": 74,
     "metadata": {},
     "output_type": "execute_result"
    }
   ],
   "source": [
    "all_dfs['clean_text'] = all_dfs['text'].apply(clean)\n",
    "all_dfs['clean_code'] = all_dfs['code'].apply(clean)\n",
    "all_dfs['final_text'] = all_dfs.apply(choose_text_or_code, axis=1)\n",
    "all_dfs"
   ],
   "metadata": {
    "collapsed": false
   }
  },
  {
   "cell_type": "code",
   "execution_count": 75,
   "outputs": [
    {
     "data": {
      "text/plain": "                                                    text  \\\n0      🔵 В группе есть традиция - представляться при ...   \n1                                            жс не нужен   \n2                                           А что нужно?   \n3                                                Хаскель   \n4                                                Монадки   \n...                                                  ...   \n51439             так должно сработать (сам не проверял)   \n51440  Добрый день. Такой вопрос: можно ли закинуть к...   \n51441                     В compose.yaml в web: добавить   \n51442  Несколько возможных причин и решений для вашей...   \n51443                                                      \n\n                                                    code  is_code language  \\\n0                                                    NaN        0     text   \n1                                                    NaN        0     text   \n2                                                    NaN        0     text   \n3                                                    NaN        0     text   \n4                                                    NaN        0     text   \n...                                                  ...      ...      ...   \n51439  volumes:\\n      - out.log:/dev/stdout\\n      -...        1     yaml   \n51440        volumes:\\n    - keycloak-import:/tmp/import        1     yaml   \n51441  links:\\n    - backend:localhost # (host как он...        1     yaml   \n51442  spring.datasource.url=jdbc:postgresql://${AGAS...        1     yaml   \n51443  version: '3'\\nservices:\\n  # PHP-приложение с ...        1     yaml   \n\n                                              clean_text  \\\n0      🔵 в группе есть традиция  представляться при в...   \n1                                            жс не нужен   \n2                                           а что нужно?   \n3                                                хаскель   \n4                                                монадки   \n...                                                  ...   \n51439               так должно сработать сам не проверял   \n51440  добрый день. такой вопрос можно ли закинуть ка...   \n51441                      в compose.yaml в web добавить   \n51442  несколько возможных причин и решений для вашей...   \n51443                                                      \n\n                                              clean_code  \\\n0                                                    nan   \n1                                                    nan   \n2                                                    nan   \n3                                                    nan   \n4                                                    nan   \n...                                                  ...   \n51439        volumes  out.logdevstdout  err.logdevstderr   \n51440                   volumes  keycloakimporttmpimport   \n51441  links  backendlocalhost # host как оно естькак...   \n51442  spring.datasource.urljdbcpostgresql$agas_db_ho...   \n51443  version '' services # phpприложение с apache w...   \n\n                                              final_text  \n0      🔵 в группе есть традиция  представляться при в...  \n1                                            жс не нужен  \n2                                           а что нужно?  \n3                                                хаскель  \n4                                                монадки  \n...                                                  ...  \n51439        volumes  out.logdevstdout  err.logdevstderr  \n51440                   volumes  keycloakimporttmpimport  \n51441  links  backendlocalhost # host как оно естькак...  \n51442  spring.datasource.urljdbcpostgresql$agas_db_ho...  \n51443  version '' services # phpприложение с apache w...  \n\n[51444 rows x 7 columns]",
      "text/html": "<div>\n<style scoped>\n    .dataframe tbody tr th:only-of-type {\n        vertical-align: middle;\n    }\n\n    .dataframe tbody tr th {\n        vertical-align: top;\n    }\n\n    .dataframe thead th {\n        text-align: right;\n    }\n</style>\n<table border=\"1\" class=\"dataframe\">\n  <thead>\n    <tr style=\"text-align: right;\">\n      <th></th>\n      <th>text</th>\n      <th>code</th>\n      <th>is_code</th>\n      <th>language</th>\n      <th>clean_text</th>\n      <th>clean_code</th>\n      <th>final_text</th>\n    </tr>\n  </thead>\n  <tbody>\n    <tr>\n      <th>0</th>\n      <td>🔵 В группе есть традиция - представляться при ...</td>\n      <td>NaN</td>\n      <td>0</td>\n      <td>text</td>\n      <td>🔵 в группе есть традиция  представляться при в...</td>\n      <td>nan</td>\n      <td>🔵 в группе есть традиция  представляться при в...</td>\n    </tr>\n    <tr>\n      <th>1</th>\n      <td>жс не нужен</td>\n      <td>NaN</td>\n      <td>0</td>\n      <td>text</td>\n      <td>жс не нужен</td>\n      <td>nan</td>\n      <td>жс не нужен</td>\n    </tr>\n    <tr>\n      <th>2</th>\n      <td>А что нужно?</td>\n      <td>NaN</td>\n      <td>0</td>\n      <td>text</td>\n      <td>а что нужно?</td>\n      <td>nan</td>\n      <td>а что нужно?</td>\n    </tr>\n    <tr>\n      <th>3</th>\n      <td>Хаскель</td>\n      <td>NaN</td>\n      <td>0</td>\n      <td>text</td>\n      <td>хаскель</td>\n      <td>nan</td>\n      <td>хаскель</td>\n    </tr>\n    <tr>\n      <th>4</th>\n      <td>Монадки</td>\n      <td>NaN</td>\n      <td>0</td>\n      <td>text</td>\n      <td>монадки</td>\n      <td>nan</td>\n      <td>монадки</td>\n    </tr>\n    <tr>\n      <th>...</th>\n      <td>...</td>\n      <td>...</td>\n      <td>...</td>\n      <td>...</td>\n      <td>...</td>\n      <td>...</td>\n      <td>...</td>\n    </tr>\n    <tr>\n      <th>51439</th>\n      <td>так должно сработать (сам не проверял)</td>\n      <td>volumes:\\n      - out.log:/dev/stdout\\n      -...</td>\n      <td>1</td>\n      <td>yaml</td>\n      <td>так должно сработать сам не проверял</td>\n      <td>volumes  out.logdevstdout  err.logdevstderr</td>\n      <td>volumes  out.logdevstdout  err.logdevstderr</td>\n    </tr>\n    <tr>\n      <th>51440</th>\n      <td>Добрый день. Такой вопрос: можно ли закинуть к...</td>\n      <td>volumes:\\n    - keycloak-import:/tmp/import</td>\n      <td>1</td>\n      <td>yaml</td>\n      <td>добрый день. такой вопрос можно ли закинуть ка...</td>\n      <td>volumes  keycloakimporttmpimport</td>\n      <td>volumes  keycloakimporttmpimport</td>\n    </tr>\n    <tr>\n      <th>51441</th>\n      <td>В compose.yaml в web: добавить</td>\n      <td>links:\\n    - backend:localhost # (host как он...</td>\n      <td>1</td>\n      <td>yaml</td>\n      <td>в compose.yaml в web добавить</td>\n      <td>links  backendlocalhost # host как оно естькак...</td>\n      <td>links  backendlocalhost # host как оно естькак...</td>\n    </tr>\n    <tr>\n      <th>51442</th>\n      <td>Несколько возможных причин и решений для вашей...</td>\n      <td>spring.datasource.url=jdbc:postgresql://${AGAS...</td>\n      <td>1</td>\n      <td>yaml</td>\n      <td>несколько возможных причин и решений для вашей...</td>\n      <td>spring.datasource.urljdbcpostgresql$agas_db_ho...</td>\n      <td>spring.datasource.urljdbcpostgresql$agas_db_ho...</td>\n    </tr>\n    <tr>\n      <th>51443</th>\n      <td></td>\n      <td>version: '3'\\nservices:\\n  # PHP-приложение с ...</td>\n      <td>1</td>\n      <td>yaml</td>\n      <td></td>\n      <td>version '' services # phpприложение с apache w...</td>\n      <td>version '' services # phpприложение с apache w...</td>\n    </tr>\n  </tbody>\n</table>\n<p>51444 rows × 7 columns</p>\n</div>"
     },
     "execution_count": 75,
     "metadata": {},
     "output_type": "execute_result"
    }
   ],
   "source": [
    "code_df = all_dfs[all_dfs['is_code'] == 1]\n",
    "text_df = all_dfs[all_dfs['is_code'] == 0]\n",
    "text_df = text_df.iloc[:20000]\n",
    "dfs = [text_df, code_df]\n",
    "df = pd.concat(dfs, ignore_index=True)\n",
    "df\n"
   ],
   "metadata": {
    "collapsed": false
   }
  },
  {
   "cell_type": "code",
   "execution_count": 76,
   "outputs": [
    {
     "name": "stdout",
     "output_type": "stream",
     "text": [
      "              precision    recall  f1-score   support\n",
      "\n",
      "        bash       0.78      0.49      0.60        37\n",
      "         cpp       0.86      0.78      0.82      1546\n",
      "     haskell       0.86      0.80      0.83      1394\n",
      "        java       0.78      0.64      0.70       748\n",
      "  javascript       0.80      0.78      0.79      1253\n",
      "      kotlin       0.90      0.75      0.82      1119\n",
      "          md       0.82      0.25      0.38        36\n",
      "      python       0.84      0.53      0.65       111\n",
      "        text       0.84      0.98      0.90      4035\n",
      "        yaml       1.00      0.30      0.46        10\n",
      "\n",
      "    accuracy                           0.84     10289\n",
      "   macro avg       0.85      0.63      0.70     10289\n",
      "weighted avg       0.84      0.84      0.84     10289\n",
      "\n",
      "[[  18    7    4    1    3    0    0    0    4    0]\n",
      " [   0 1200   52   24   40   21    0    1  208    0]\n",
      " [   3   74 1110   14   40   18    0    3  132    0]\n",
      " [   0   40   20  478   54   34    0    2  120    0]\n",
      " [   1   29   46   21  974   18    1    0  163    0]\n",
      " [   0   30   40   64   41  844    0    2   98    0]\n",
      " [   0    0    0    0    3    0    9    0   24    0]\n",
      " [   0    7    8    3   16    1    0   59   17    0]\n",
      " [   1   11    7    4   53    5    1    2 3951    0]\n",
      " [   0    0    0    2    0    0    0    1    4    3]]\n"
     ]
    }
   ],
   "source": [
    "vectorizer = TfidfVectorizer()\n",
    "X = vectorizer.fit_transform(df['final_text'])\n",
    "y = df['language']\n",
    "\n",
    "X_train, X_test, y_train, y_test = train_test_split(X, y, test_size=0.2, random_state=42)\n",
    "\n",
    "model = SVC(kernel='linear')\n",
    "model.fit(X_train, y_train)\n",
    "\n",
    "y_pred = model.predict(X_test)\n",
    "\n",
    "print(classification_report(y_test, y_pred))\n",
    "print(confusion_matrix(y_test, y_pred))\n"
   ],
   "metadata": {
    "collapsed": false
   }
  },
  {
   "cell_type": "code",
   "execution_count": 77,
   "outputs": [],
   "source": [
    "from yaml_file import yaml"
   ],
   "metadata": {
    "collapsed": false
   }
  },
  {
   "cell_type": "code",
   "execution_count": 78,
   "outputs": [],
   "source": [
    "python_examples = [\n",
    "    \"print('Hello, world!')\",\n",
    "    \"for i in range(5):\\n    print('Hello, world!')\",\n",
    "    \"def factorial(n):\\n    if n == 0:\\n        return 1\\n    else:\\n        return n * factorial(n-1)\"\n",
    "]\n",
    "\n",
    "cpp_examples = [\n",
    "    \"#include <iostream>\\nint main() { std::cout << 'Hello, world!' << std::endl; return 0; }\",\n",
    "    \"#include <iostream>\\nint main() { for (int i = 0; i < 5; ++i) { std::cout << 'Hello, world!' << std::endl; } return 0; }\",\n",
    "    \"#include <iostream>\\nint factorial(int n) { return n == 0 ? 1 : n * factorial(n-1); }\\nint main() { std::cout << factorial(5) << std::endl; return 0; }\"\n",
    "]\n",
    "\n",
    "javascript_examples = [\n",
    "    \"console.log('Hello, world!');\",\n",
    "    \"for (let i = 0; i < 5; i++) {\\n    console.log('Hello, world!');\\n}\",\n",
    "    \"function factorial(n) {\\n    return n === 0 ? 1 : n * factorial(n - 1);\\n}\\nconsole.log(factorial(5));\"\n",
    "]\n",
    "\n",
    "java_examples = [\n",
    "    \"public class HelloWorld {\\n    public static void main(String[] args) {\\n        System.out.println('Hello, world!');\\n    }\\n}\",\n",
    "    \"public class Main {\\n    public static void main(String[] args) {\\n        for (int i = 0; i < 5; i++) {\\n            System.out.println('Hello, world!');\\n        }\\n    }\\n}\",\n",
    "    \"public class Main {\\n    public static int factorial(int n) {\\n        return n == 0 ? 1 : n * factorial(n-1);\\n    }\\n    public static void main(String[] args) {\\n        System.out.println(factorial(5));\\n    }\\n}\"\n",
    "]\n",
    "\n",
    "bash_examples = [\n",
    "    \"#!/bin/bash\\necho 'Hello, world!'\",\n",
    "    \"#!/bin/bash\\nfor ((i=0; i<5; i++)); do\\n    echo 'Hello, world!'\\ndone\",\n",
    "    \"#!/bin/bash\\nfactorial() {\\n    if [ $1 -eq 0 ]; then\\n        echo 1\\n    else\\n        echo $(( $1 * $(factorial $(( $1 - 1 ))) ))\\n    fi\\n}\\necho $(factorial 5)\"\n",
    "]\n",
    "\n",
    "markdown_examples = [\n",
    "    \"# Заголовок\\nПривет, мир!\",\n",
    "    \"## Заголовок\\n*Привет, мир!*\",\n",
    "    \"**Заголовок**\\n\\n*Привет, мир!*\"\n",
    "]\n",
    "\n",
    "c_examples = [\n",
    "    \"#include <stdio.h>\\nint main() { printf('Hello, world!\\\\n'); return 0; }\",\n",
    "    \"#include <stdio.h>\\nint main() { for (int i = 0; i < 5; ++i) { printf('Hello, world!\\\\n'); } return 0; }\",\n",
    "    \"#include <stdio.h>\\nint factorial(int n) { return n == 0 ? 1 : n * factorial(n-1); }\\nint main() { printf('%d\\\\n', factorial(5)); return 0; }\"\n",
    "]\n",
    "\n",
    "kotlin_examples = [\n",
    "    \"fun main() {\\n    println('Hello, world!')\\n}\",\n",
    "    \"fun main() {\\n    repeat(5) {\\n        println('Hello, world!')\\n    }\\n}\",\n",
    "    \"fun factorial(n: Int): Int {\\n    return if (n == 0) 1 else n * factorial(n - 1)\\n}\\nfun main() {\\n    println(factorial(5))\\n}\"\n",
    "]\n",
    "\n",
    "haskell_examples = [\n",
    "    \"main :: IO ()\\nmain = putStrLn 'Hello, world!'\",\n",
    "    \"main :: IO ()\\nmain = mapM_ putStrLn $ replicate 5 'Hello, world!'\",\n",
    "    \"factorial :: Integer -> Integer\\nfactorial n = if n == 0 then 1 else n * factorial (n - 1)\\nmain :: IO ()\\nmain = print $ factorial 5\"\n",
    "]\n",
    "\n",
    "yaml_example = yaml\n"
   ],
   "metadata": {
    "collapsed": false
   }
  },
  {
   "cell_type": "code",
   "execution_count": 79,
   "outputs": [],
   "source": [
    "languages = [\"python\", \"cpp\", \"js\", \"java\", \"bash\", \"markdown\", \"c\", \"kotlin\", \"haskell\", \"yaml\"]\n",
    "examples = [python_examples, cpp_examples, javascript_examples, java_examples, bash_examples, markdown_examples,\n",
    "            c_examples, kotlin_examples, haskell_examples, yaml_example]\n",
    "\n",
    "for lang, lang_examples in zip(languages, examples):\n",
    "    for i, example in enumerate(lang_examples):\n",
    "        filename = f\"{lang}_{i + 1}.txt\"\n",
    "        with open(filename, 'w') as file:\n",
    "            file.write(example)\n"
   ],
   "metadata": {
    "collapsed": false
   }
  },
  {
   "cell_type": "code",
   "execution_count": 80,
   "outputs": [
    {
     "data": {
      "text/plain": "['model_languages.pkl']"
     },
     "execution_count": 80,
     "metadata": {},
     "output_type": "execute_result"
    }
   ],
   "source": [
    "import joblib\n",
    "\n",
    "joblib.dump((model, vectorizer), 'model_languages.pkl')"
   ],
   "metadata": {
    "collapsed": false
   }
  },
  {
   "cell_type": "code",
   "execution_count": 81,
   "outputs": [
    {
     "name": "stdout",
     "output_type": "stream",
     "text": [
      "python\r\n"
     ]
    }
   ],
   "source": [
    "!python tg_main.py python_1.txt"
   ],
   "metadata": {
    "collapsed": false
   }
  },
  {
   "cell_type": "code",
   "execution_count": 82,
   "outputs": [
    {
     "name": "stdout",
     "output_type": "stream",
     "text": [
      "python\r\n"
     ]
    }
   ],
   "source": [
    "!python tg_main.py python_2.txt"
   ],
   "metadata": {
    "collapsed": false
   }
  },
  {
   "cell_type": "code",
   "execution_count": 83,
   "outputs": [
    {
     "name": "stdout",
     "output_type": "stream",
     "text": [
      "cpp\r\n"
     ]
    }
   ],
   "source": [
    "!python tg_main.py python_3.txt"
   ],
   "metadata": {
    "collapsed": false
   }
  },
  {
   "cell_type": "code",
   "execution_count": 101,
   "outputs": [
    {
     "name": "stdout",
     "output_type": "stream",
     "text": [
      "cpp\r\n"
     ]
    }
   ],
   "source": [
    "!python tg_main.py cpp_1.txt"
   ],
   "metadata": {
    "collapsed": false
   }
  },
  {
   "cell_type": "code",
   "execution_count": 102,
   "outputs": [
    {
     "name": "stdout",
     "output_type": "stream",
     "text": [
      "cpp\r\n"
     ]
    }
   ],
   "source": [
    "!python tg_main.py cpp_2.txt"
   ],
   "metadata": {
    "collapsed": false
   }
  },
  {
   "cell_type": "code",
   "execution_count": 103,
   "outputs": [
    {
     "name": "stdout",
     "output_type": "stream",
     "text": [
      "cpp\r\n"
     ]
    }
   ],
   "source": [
    "!python tg_main.py cpp_3.txt"
   ],
   "metadata": {
    "collapsed": false
   }
  },
  {
   "cell_type": "code",
   "execution_count": 104,
   "outputs": [
    {
     "name": "stdout",
     "output_type": "stream",
     "text": [
      "javascript\r\n"
     ]
    }
   ],
   "source": [
    "!python tg_main.py js_1.txt"
   ],
   "metadata": {
    "collapsed": false
   }
  },
  {
   "cell_type": "code",
   "execution_count": 105,
   "outputs": [
    {
     "name": "stdout",
     "output_type": "stream",
     "text": [
      "javascript\r\n"
     ]
    }
   ],
   "source": [
    "!python tg_main.py js_2.txt"
   ],
   "metadata": {
    "collapsed": false
   }
  },
  {
   "cell_type": "code",
   "execution_count": 106,
   "outputs": [
    {
     "name": "stdout",
     "output_type": "stream",
     "text": [
      "javascript\r\n"
     ]
    }
   ],
   "source": [
    "!python tg_main.py js_3.txt"
   ],
   "metadata": {
    "collapsed": false
   }
  },
  {
   "cell_type": "code",
   "execution_count": 84,
   "outputs": [
    {
     "name": "stdout",
     "output_type": "stream",
     "text": [
      "kotlin\r\n"
     ]
    }
   ],
   "source": [
    "!python tg_main.py kotlin_1.txt"
   ],
   "metadata": {
    "collapsed": false
   }
  },
  {
   "cell_type": "code",
   "execution_count": 85,
   "outputs": [
    {
     "name": "stdout",
     "output_type": "stream",
     "text": [
      "kotlin\r\n"
     ]
    }
   ],
   "source": [
    "!python tg_main.py kotlin_2.txt"
   ],
   "metadata": {
    "collapsed": false
   }
  },
  {
   "cell_type": "code",
   "execution_count": 86,
   "outputs": [
    {
     "name": "stdout",
     "output_type": "stream",
     "text": [
      "kotlin\r\n"
     ]
    }
   ],
   "source": [
    "!python tg_main.py kotlin_3.txt"
   ],
   "metadata": {
    "collapsed": false
   }
  },
  {
   "cell_type": "code",
   "execution_count": 87,
   "outputs": [
    {
     "name": "stdout",
     "output_type": "stream",
     "text": [
      "haskell\r\n"
     ]
    }
   ],
   "source": [
    "!python tg_main.py haskell_1.txt"
   ],
   "metadata": {
    "collapsed": false
   }
  },
  {
   "cell_type": "code",
   "execution_count": 88,
   "outputs": [
    {
     "name": "stdout",
     "output_type": "stream",
     "text": [
      "haskell\r\n"
     ]
    }
   ],
   "source": [
    "!python tg_main.py haskell_2.txt"
   ],
   "metadata": {
    "collapsed": false
   }
  },
  {
   "cell_type": "code",
   "execution_count": 89,
   "outputs": [
    {
     "name": "stdout",
     "output_type": "stream",
     "text": [
      "haskell\r\n"
     ]
    }
   ],
   "source": [
    "!python tg_main.py haskell_3.txt"
   ],
   "metadata": {
    "collapsed": false
   }
  },
  {
   "cell_type": "code",
   "execution_count": 90,
   "outputs": [
    {
     "name": "stdout",
     "output_type": "stream",
     "text": [
      "bash\r\n"
     ]
    }
   ],
   "source": [
    "!python tg_main.py bash_1.txt"
   ],
   "metadata": {
    "collapsed": false
   }
  },
  {
   "cell_type": "code",
   "execution_count": 91,
   "outputs": [
    {
     "name": "stdout",
     "output_type": "stream",
     "text": [
      "bash\r\n"
     ]
    }
   ],
   "source": [
    "!python tg_main.py bash_2.txt"
   ],
   "metadata": {
    "collapsed": false
   }
  },
  {
   "cell_type": "code",
   "execution_count": 92,
   "outputs": [
    {
     "name": "stdout",
     "output_type": "stream",
     "text": [
      "bash\r\n"
     ]
    }
   ],
   "source": [
    "!python tg_main.py bash_3.txt"
   ],
   "metadata": {
    "collapsed": false
   }
  },
  {
   "cell_type": "code",
   "execution_count": 93,
   "outputs": [
    {
     "name": "stdout",
     "output_type": "stream",
     "text": [
      "cpp\r\n"
     ]
    }
   ],
   "source": [
    "!python tg_main.py c_1.txt"
   ],
   "metadata": {
    "collapsed": false
   }
  },
  {
   "cell_type": "code",
   "execution_count": 94,
   "outputs": [
    {
     "name": "stdout",
     "output_type": "stream",
     "text": [
      "java\r\n"
     ]
    }
   ],
   "source": [
    "!python tg_main.py java_1.txt"
   ],
   "metadata": {
    "collapsed": false
   }
  },
  {
   "cell_type": "code",
   "execution_count": 95,
   "outputs": [
    {
     "name": "stdout",
     "output_type": "stream",
     "text": [
      "java\r\n"
     ]
    }
   ],
   "source": [
    "!python tg_main.py java_2.txt"
   ],
   "metadata": {
    "collapsed": false
   }
  },
  {
   "cell_type": "code",
   "execution_count": 96,
   "outputs": [
    {
     "name": "stdout",
     "output_type": "stream",
     "text": [
      "java\r\n"
     ]
    }
   ],
   "source": [
    "!python tg_main.py java_3.txt"
   ],
   "metadata": {
    "collapsed": false
   }
  },
  {
   "cell_type": "code",
   "execution_count": 97,
   "outputs": [
    {
     "name": "stdout",
     "output_type": "stream",
     "text": [
      "python\r\n"
     ]
    }
   ],
   "source": [
    "!python tg_main.py markdown_1.txt"
   ],
   "metadata": {
    "collapsed": false
   }
  },
  {
   "cell_type": "code",
   "execution_count": 98,
   "outputs": [
    {
     "name": "stdout",
     "output_type": "stream",
     "text": [
      "python\r\n"
     ]
    }
   ],
   "source": [
    "!python tg_main.py markdown_2.txt"
   ],
   "metadata": {
    "collapsed": false
   }
  },
  {
   "cell_type": "code",
   "execution_count": 99,
   "outputs": [
    {
     "name": "stdout",
     "output_type": "stream",
     "text": [
      "python\r\n"
     ]
    }
   ],
   "source": [
    "!python tg_main.py markdown_3.txt"
   ],
   "metadata": {
    "collapsed": false
   }
  },
  {
   "cell_type": "code",
   "execution_count": 100,
   "outputs": [
    {
     "name": "stdout",
     "output_type": "stream",
     "text": [
      "yaml\r\n"
     ]
    }
   ],
   "source": [
    "!python tg_main.py yaml_1.txt"
   ],
   "metadata": {
    "collapsed": false
   }
  },
  {
   "cell_type": "markdown",
   "source": [
    "В целом, классификатор показывает хорошие результаты, но для некоторых классов (например, \"md\") точность и полнота низки, скорее всего это связано с недостаточным количеством обучающих данных и дисбалансом классов\n",
    "\n",
    "А также для md: в нем есть \"цитаты\" из кода, что модель распознает, как другие языки"
   ],
   "metadata": {
    "collapsed": false
   }
  },
  {
   "cell_type": "code",
   "execution_count": null,
   "outputs": [],
   "source": [],
   "metadata": {
    "collapsed": false
   }
  }
 ],
 "metadata": {
  "kernelspec": {
   "display_name": "Python 3 (ipykernel)",
   "language": "python",
   "name": "python3"
  },
  "language_info": {
   "codemirror_mode": {
    "name": "ipython",
    "version": 3
   },
   "file_extension": ".py",
   "mimetype": "text/x-python",
   "name": "python",
   "nbconvert_exporter": "python",
   "pygments_lexer": "ipython3",
   "version": "3.11.5"
  }
 },
 "nbformat": 4,
 "nbformat_minor": 5
}
