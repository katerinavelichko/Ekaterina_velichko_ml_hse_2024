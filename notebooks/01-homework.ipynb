{
 "cells": [
  {
   "cell_type": "markdown",
   "id": "dfd1cf95-9876-407f-aa8c-117791a6f5b8",
   "metadata": {
    "tags": []
   },
   "source": [
    "# Домашнее задание\n",
    "\n",
    "Установить Anaconda и Git. Создать репозиторий на GitHub.\n",
    "\n",
    "## Easy (+0.1)\n",
    "\n",
    "Написать функцию, которая на вход принимает список, а возвращает словарь со среднием, медианой и модой, например вот такой: {\"mean\": ..., \"median\": ..., \"mode\": ...}.\n",
    "\n",
    "Пример:\n",
    "\n",
    "func([0, 1, 1, 10, 5, 4, 3])\n",
    "\n",
    "Должно вернуть: {\"mean\": 3.4285, \"median\": 3, \"mode\": 1}"
   ]
  },
  {
   "cell_type": "code",
   "execution_count": 1,
   "id": "53714df7-4125-48c1-a2e6-3abedbcfff91",
   "metadata": {
    "tags": []
   },
   "outputs": [
    {
     "name": "stdout",
     "output_type": "stream",
     "text": [
      "{'mean': 3.4285714285714284, 'median': 3, 'mode': 1}\n"
     ]
    }
   ],
   "source": [
    "def func(array):\n",
    "    len_of_array = len(array)\n",
    "    mean = sum(array) / len_of_array\n",
    "    # Если количество элементов нечетно, то медиана - центральное значениt ряда,\n",
    "    # если же количество данных четно, то медиана - среднее арифметическое из двух центральных значений\n",
    "    if len_of_array % 2 == 0:\n",
    "        median = sum(sorted(array)[len_of_array // 2 - 1:len_of_array // 2 + 1]) / 2\n",
    "    else:\n",
    "        median = sorted(array)[(len_of_array - 1) // 2]\n",
    "    array_counter = {x: array.count(x) for x in array}\n",
    "    mode = max(array_counter, key=array_counter.get)\n",
    "    values = [mean, median, mode]\n",
    "    keys = [\"mean\", \"median\", \"mode\"]\n",
    "    dict = {keys[i]: values[i] for i in range(len(keys))}\n",
    "    return dict\n",
    "\n",
    "\n",
    "print(func([0, 1, 1, 10, 5, 4, 3]))"
   ]
  },
  {
   "cell_type": "markdown",
   "id": "5e1825b8-5504-4fa2-b541-1fe9e434f6f4",
   "metadata": {},
   "source": [
    " ## Medium (+0.4)\n",
    "\n",
    "https://www.kaggle.com/datasets/databanditofficial/dota-hero-stats\n",
    "\n",
    "Написать функцию, которая будет парсить csv-файл dota_hero_stats.csv\n",
    "\n",
    "Сигнатура функции:\n",
    "\n",
    "def parse_csv(file_content: str) -> List[Dict]\n",
    "Найти персонажа с максимальным количеством ног (сторонние библиотеки использовать нельзя)"
   ]
  },
  {
   "cell_type": "code",
   "execution_count": 2,
   "id": "fcf422bb-9f62-46aa-aced-085a024f6c07",
   "metadata": {
    "tags": []
   },
   "outputs": [
    {
     "name": "stdout",
     "output_type": "stream",
     "text": [
      "Персонаж с максимальным количеством ног: Broodmother\n"
     ]
    }
   ],
   "source": [
    "with open('../data/dota_hero_stats.csv', 'r') as file:\n",
    "    file_content = file.read()\n",
    "\n",
    "\n",
    "def parse_csv(file_content):\n",
    "    lines = file_content.strip().split('\\n')\n",
    "    header = lines[0].split(',')\n",
    "    data = []\n",
    "    for line in lines[1:]:\n",
    "        line = line.split(',', 7)\n",
    "        roles_list = line[7].replace(\"[\", '').replace(\"]\", '').replace('\"', '').replace(\"'\", '').split(', ')\n",
    "        data.append(dict(zip(header, line[:7] + [roles_list])))\n",
    "    return data\n",
    "\n",
    "\n",
    "def find_max_legs_hero(data):\n",
    "    max_legs = -1\n",
    "    max_legs_hero = ''\n",
    "    for line in data:\n",
    "        legs = int(line['legs'])\n",
    "        if legs > max_legs:\n",
    "            max_legs = legs\n",
    "            max_legs_hero = line['localized_name']\n",
    "    return max_legs_hero\n",
    "\n",
    "\n",
    "parsed_data = parse_csv(file_content)\n",
    "max_legs_hero = find_max_legs_hero(parsed_data)\n",
    "print(f\"Персонаж с максимальным количеством ног: {max_legs_hero}\")\n"
   ]
  },
  {
   "cell_type": "code",
   "execution_count": null,
   "id": "7b4220f2-febe-494e-9fe8-c6b473bcab03",
   "metadata": {},
   "outputs": [],
   "source": []
  }
 ],
 "metadata": {
  "kernelspec": {
   "display_name": "Python 3 (ipykernel)",
   "language": "python",
   "name": "python3"
  },
  "language_info": {
   "codemirror_mode": {
    "name": "ipython",
    "version": 3
   },
   "file_extension": ".py",
   "mimetype": "text/x-python",
   "name": "python",
   "nbconvert_exporter": "python",
   "pygments_lexer": "ipython3",
   "version": "3.11.5"
  }
 },
 "nbformat": 4,
 "nbformat_minor": 5
}
