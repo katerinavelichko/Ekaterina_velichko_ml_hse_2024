{
 "cells": [
  {
   "cell_type": "markdown",
   "id": "c53e0af3",
   "metadata": {},
   "source": [
    "# ДЗ 7\n",
    "\n",
    "Взять модель из предыдущей домашки и написать программу-обертку для обучения и предсказания модели.\n",
    "\n",
    "Читать аргументы консоли можно, например, при помощи click https://click.palletsprojects.com\n",
    "\n",
    "## Easy\n",
    "\n",
    "Написать CLI-программу, которая должна уметь делать вот такие штуки:\n",
    "\n",
    "`python main.py train --data train.csv --test test.csv --model model.pkl`\n",
    "\n",
    "`python main.py train --data train.csv --split 0.2 --model model.pkl`\n",
    "\n",
    "`python main.py predict --model model.pkl --data \"some text\"`\n",
    "\n",
    "`python main.py predict --model model.pkl --data test.csv`\n",
    "\n",
    "Команда `train` должна обучать модель по данным `--data` и складывать результат в `--model` в формате pickle. Если передается аргумент `--test` или `--split`, то формируется тестовый датасет, на котором нужно будет посчитать метрики после обучения. `--test` - пусть до файла с тестовыми данными в том же формате, что и `--data`. `--split` - доля тестовой выборки, которая отделится от `--data`.\n",
    "\n",
    "Команда `predict` должна выдавать предсказание модели. `--model` - путь до файла с моделью с этапа обучения, `data` - либо файл, либо строка. Если это файл, то формат как в `--data` и тогда в консоль выводим предсказания через `\\n`.\n",
    "\n",
    "Вызвать в юпитер ноутбуки эти команды (через восклицательный знак), вывод должен остаться в ноутбуке как доказательство работоспособности команды"
   ]
  },
  {
   "cell_type": "code",
   "execution_count": 1,
   "id": "abe8aac7",
   "metadata": {
    "collapsed": false,
    "jupyter": {
     "outputs_hidden": false
    }
   },
   "outputs": [],
   "source": [
    "import pandas as pd\n",
    "import numpy as np\n",
    "\n",
    "import seaborn as sns\n",
    "import matplotlib.pyplot as plt\n",
    "\n",
    "import warnings\n",
    "\n",
    "warnings.filterwarnings(action='ignore')"
   ]
  },
  {
   "cell_type": "markdown",
   "id": "5cc86946",
   "metadata": {},
   "source": [
    "### Создадим тестовый датасет с 5 разными отзывами"
   ]
  },
  {
   "cell_type": "code",
   "execution_count": 2,
   "id": "1ce2f5a5",
   "metadata": {
    "collapsed": false,
    "jupyter": {
     "outputs_hidden": false
    }
   },
   "outputs": [
    {
     "data": {
      "text/plain": "              published_date published_platform  rating    type  \\\n0  2024-03-12T14:41:14-04:00            Desktop       1  review   \n1  2024-03-11T19:39:13-04:00            Desktop       2  review   \n2  2024-03-11T12:20:23-04:00            Desktop       3  review   \n3  2024-03-11T07:12:27-04:00            Desktop       4  review   \n4  2024-03-10T05:34:18-04:00            Desktop       5  review   \n\n                                                text              title  \\\n0  Terrible flight! Very poor service, not recomm...   Terrible service   \n1  The flight was not very pleasant, but at least...  Not very pleasant   \n2  Decent flight, service was okay, but there wer...      Decent flight   \n3  Great flight, staff was polite, everything was...   Great experience   \n4  Best flight of my life! Excellent service, com...   Best flight ever   \n\n   helpful_votes  \n0              0  \n1              0  \n2              0  \n3              0  \n4              0  ",
      "text/html": "<div>\n<style scoped>\n    .dataframe tbody tr th:only-of-type {\n        vertical-align: middle;\n    }\n\n    .dataframe tbody tr th {\n        vertical-align: top;\n    }\n\n    .dataframe thead th {\n        text-align: right;\n    }\n</style>\n<table border=\"1\" class=\"dataframe\">\n  <thead>\n    <tr style=\"text-align: right;\">\n      <th></th>\n      <th>published_date</th>\n      <th>published_platform</th>\n      <th>rating</th>\n      <th>type</th>\n      <th>text</th>\n      <th>title</th>\n      <th>helpful_votes</th>\n    </tr>\n  </thead>\n  <tbody>\n    <tr>\n      <th>0</th>\n      <td>2024-03-12T14:41:14-04:00</td>\n      <td>Desktop</td>\n      <td>1</td>\n      <td>review</td>\n      <td>Terrible flight! Very poor service, not recomm...</td>\n      <td>Terrible service</td>\n      <td>0</td>\n    </tr>\n    <tr>\n      <th>1</th>\n      <td>2024-03-11T19:39:13-04:00</td>\n      <td>Desktop</td>\n      <td>2</td>\n      <td>review</td>\n      <td>The flight was not very pleasant, but at least...</td>\n      <td>Not very pleasant</td>\n      <td>0</td>\n    </tr>\n    <tr>\n      <th>2</th>\n      <td>2024-03-11T12:20:23-04:00</td>\n      <td>Desktop</td>\n      <td>3</td>\n      <td>review</td>\n      <td>Decent flight, service was okay, but there wer...</td>\n      <td>Decent flight</td>\n      <td>0</td>\n    </tr>\n    <tr>\n      <th>3</th>\n      <td>2024-03-11T07:12:27-04:00</td>\n      <td>Desktop</td>\n      <td>4</td>\n      <td>review</td>\n      <td>Great flight, staff was polite, everything was...</td>\n      <td>Great experience</td>\n      <td>0</td>\n    </tr>\n    <tr>\n      <th>4</th>\n      <td>2024-03-10T05:34:18-04:00</td>\n      <td>Desktop</td>\n      <td>5</td>\n      <td>review</td>\n      <td>Best flight of my life! Excellent service, com...</td>\n      <td>Best flight ever</td>\n      <td>0</td>\n    </tr>\n  </tbody>\n</table>\n</div>"
     },
     "execution_count": 2,
     "metadata": {},
     "output_type": "execute_result"
    }
   ],
   "source": [
    "reviews = pd.read_csv('../data/singapore_airlines_reviews.csv')\n",
    "reviews = reviews.head()\n",
    "ratings = [1, 2, 3, 4, 5]\n",
    "texts = [\n",
    "    \"Terrible flight! Very poor service, not recommended!\",\n",
    "    \"The flight was not very pleasant, but at least we arrived on time.\",\n",
    "    \"Decent flight, service was okay, but there were some minor issues.\",\n",
    "    \"Great flight, staff was polite, everything was well-organized.\",\n",
    "    \"Best flight of my life! Excellent service, comfortable seats, everything was perfect.\"\n",
    "]\n",
    "\n",
    "titles = [\n",
    "    \"Terrible service\",\n",
    "    \"Not very pleasant\",\n",
    "    \"Decent flight\",\n",
    "    \"Great experience\",\n",
    "    \"Best flight ever\"\n",
    "]\n",
    "\n",
    "for i, row in reviews.iterrows():\n",
    "    reviews.loc[i, 'rating'] = ratings[i]\n",
    "    reviews.loc[i, 'text'] = texts[i]\n",
    "    reviews.loc[i, 'title'] = titles[i]\n",
    "\n",
    "reviews.to_csv('reviews.csv', index=False)\n",
    "reviews"
   ]
  },
  {
   "cell_type": "code",
   "execution_count": 3,
   "id": "cbba2f1c",
   "metadata": {
    "collapsed": false,
    "jupyter": {
     "outputs_hidden": false
    }
   },
   "outputs": [
    {
     "name": "stdout",
     "output_type": "stream",
     "text": [
      "f1 result is 0.4666666666666666\r\n",
      "              precision    recall  f1-score   support\r\n",
      "\r\n",
      "           1       1.00      1.00      1.00         1\r\n",
      "           2       0.00      0.00      0.00         1\r\n",
      "           3       0.00      0.00      0.00         1\r\n",
      "           4       0.00      0.00      0.00         1\r\n",
      "           5       0.50      1.00      0.67         1\r\n",
      "\r\n",
      "    accuracy                           0.40         5\r\n",
      "   macro avg       0.30      0.40      0.33         5\r\n",
      "weighted avg       0.30      0.40      0.33         5\r\n",
      "\r\n",
      "model saved in model.pkl\r\n"
     ]
    }
   ],
   "source": [
    "!python main.py train --data ../data/singapore_airlines_reviews.csv --test reviews.csv --model model.pkl"
   ]
  },
  {
   "cell_type": "code",
   "execution_count": 4,
   "id": "e9c92314",
   "metadata": {
    "collapsed": false,
    "jupyter": {
     "outputs_hidden": false
    }
   },
   "outputs": [
    {
     "name": "stdout",
     "output_type": "stream",
     "text": [
      "f1 result is 0.7238033423645165\r\n",
      "              precision    recall  f1-score   support\r\n",
      "\r\n",
      "           1       0.70      0.78      0.73       206\r\n",
      "           2       0.28      0.05      0.08       110\r\n",
      "           3       0.52      0.38      0.44       211\r\n",
      "           4       0.50      0.35      0.41       397\r\n",
      "           5       0.75      0.92      0.83      1076\r\n",
      "\r\n",
      "    accuracy                           0.69      2000\r\n",
      "   macro avg       0.55      0.50      0.50      2000\r\n",
      "weighted avg       0.65      0.69      0.65      2000\r\n",
      "\r\n",
      "model saved in model.pkl\r\n"
     ]
    }
   ],
   "source": [
    "!python main.py train --data ../data/singapore_airlines_reviews.csv --split 0.2 --model model.pkl"
   ]
  },
  {
   "cell_type": "code",
   "execution_count": 6,
   "id": "1c88dcfb",
   "metadata": {
    "collapsed": false,
    "jupyter": {
     "outputs_hidden": false
    }
   },
   "outputs": [
    {
     "name": "stdout",
     "output_type": "stream",
     "text": [
      "predicted rating is\r\n",
      "1\r\n",
      "4\r\n",
      "4\r\n",
      "5\r\n",
      "5\r\n"
     ]
    }
   ],
   "source": [
    "!python main.py predict --model model.pkl --data reviews.csv"
   ]
  },
  {
   "cell_type": "code",
   "execution_count": 7,
   "id": "edd14d1a",
   "metadata": {
    "collapsed": false,
    "jupyter": {
     "outputs_hidden": false
    }
   },
   "outputs": [
    {
     "name": "stdout",
     "output_type": "stream",
     "text": [
      "predicted rating is\r\n",
      "5\r\n"
     ]
    }
   ],
   "source": [
    "!python main.py predict --model model.pkl --data 'nice flight'"
   ]
  },
  {
   "cell_type": "markdown",
   "id": "c24e8416",
   "metadata": {},
   "source": [
    "## Medium\n",
    "\n",
    "Написать тесты на ваш код. Обработать краевые случаи.\n",
    "\n",
    "`python main.py test`\n",
    "или\n",
    "`pytest`\n",
    "\n",
    "Должно быть минимум три теста\n",
    "- функцию обучения (что оно корректно запускается на корректных данных, корректно реагирует на некорректные данные и что на выходе появляется sklearn-подобный файлик) - лучше запустить на каких-то небольших фиксированных данных и на маленькое количество итераций. после того, как тест отработает, файлик с моделью нужно удалить.\n",
    "- функцию предикта, и что на выходе ничего не появляется, кроме того, что ожидается (стоит подумать, что подавать на вход)\n",
    "- функцию разбиения данных - что это происходит в правильной пропорции и что происходит перемешивание. не забываем, что можно контроллировать random seed."
   ]
  },
  {
   "cell_type": "markdown",
   "source": [
    "### Тесты в файле `test_main.py`"
   ],
   "metadata": {
    "collapsed": false
   }
  },
  {
   "cell_type": "code",
   "execution_count": 8,
   "id": "39b4d453",
   "metadata": {
    "collapsed": false,
    "jupyter": {
     "outputs_hidden": false
    },
    "tags": []
   },
   "outputs": [
    {
     "name": "stdout",
     "output_type": "stream",
     "text": [
      "\u001B[1m============================= test session starts ==============================\u001B[0m\r\n",
      "platform darwin -- Python 3.11.5, pytest-7.4.0, pluggy-1.0.0\r\n",
      "rootdir: /Users/ekaterinavelicko/Ekaterina_velichko_ml_hse_2024/notebooks\r\n",
      "plugins: anyio-3.5.0\r\n",
      "collected 11 items                                                             \u001B[0m\u001B[1m\r\n",
      "\r\n",
      "test_main.py \u001B[32m.\u001B[0m\u001B[32m.\u001B[0m\u001B[32m.\u001B[0m\u001B[32m.\u001B[0m\u001B[32m.\u001B[0m\u001B[32m.\u001B[0m\u001B[32m.\u001B[0m\u001B[32m.\u001B[0m\u001B[32m.\u001B[0m\u001B[32m.\u001B[0m\u001B[32m.\u001B[0m\r\n",
      "\r\n",
      "\u001B[33m======================== \u001B[32m11 passed\u001B[0m, \u001B[33m\u001B[1m1 warning\u001B[0m\u001B[33m in 2.94s\u001B[0m\u001B[33m =========================\u001B[0m\r\n"
     ]
    }
   ],
   "source": [
    "!pytest test_main.py --disable-warnings -s"
   ]
  },
  {
   "cell_type": "code",
   "execution_count": 8,
   "outputs": [],
   "source": [],
   "metadata": {
    "collapsed": false
   }
  }
 ],
 "metadata": {
  "kernelspec": {
   "display_name": "Python 3 (ipykernel)",
   "language": "python",
   "name": "python3"
  },
  "language_info": {
   "codemirror_mode": {
    "name": "ipython",
    "version": 3
   },
   "file_extension": ".py",
   "mimetype": "text/x-python",
   "name": "python",
   "nbconvert_exporter": "python",
   "pygments_lexer": "ipython3",
   "version": "3.11.5"
  }
 },
 "nbformat": 4,
 "nbformat_minor": 5
}
